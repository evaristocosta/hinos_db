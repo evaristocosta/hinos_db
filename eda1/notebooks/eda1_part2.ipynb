{
 "cells": [
  {
   "cell_type": "markdown",
   "id": "5f4432f2",
   "metadata": {},
   "source": [
    "# EDA 1 | Parte 2 - Análise dos Títulos dos Hinos da ICM\n",
    "Este notebook explora os títulos dos hinos presentes na coletânea principal da Igreja Cristã Maranata.\n",
    "\n",
    "O objetivo é analisar padrões, tamanhos, e variações nos títulos e subtítulos, facilitando estudos sobre organização e identificação dos louvores.\n",
    "\n",
    "---\n",
    "**Conteúdo do notebook:**\n",
    "- Carregamento dos dados tratados na etapa anterior\n",
    "- Extração e limpeza dos títulos e subtítulos\n",
    "- Análise dos tamanhos dos títulos\n",
    "- Criação de DataFrame para títulos e subtítulos\n",
    "- Visualização dos maiores e menores títulos"
   ]
  },
  {
   "cell_type": "markdown",
   "id": "cf4691b4",
   "metadata": {},
   "source": [
    "---\n",
    "\n",
    "**A seguir:** Carregamento do DataFrame com os dados dos hinos, previamente tratados e salvos na etapa anterior."
   ]
  },
  {
   "cell_type": "code",
   "execution_count": 1,
   "id": "993294d7",
   "metadata": {},
   "outputs": [
    {
     "data": {
      "application/vnd.microsoft.datawrangler.viewer.v0+json": {
       "columns": [
        {
         "name": "index",
         "rawType": "int64",
         "type": "integer"
        },
        {
         "name": "nome",
         "rawType": "object",
         "type": "string"
        },
        {
         "name": "texto",
         "rawType": "object",
         "type": "string"
        },
        {
         "name": "texto_limpo",
         "rawType": "object",
         "type": "string"
        },
        {
         "name": "categoria_id",
         "rawType": "int64",
         "type": "integer"
        },
        {
         "name": "categoria",
         "rawType": "object",
         "type": "string"
        },
        {
         "name": "numero",
         "rawType": "int64",
         "type": "integer"
        }
       ],
       "ref": "d18ae7d4-28e4-4c0b-85c6-6786edc27f24",
       "rows": [
        [
         "794",
         "AQUILO QUE FUI NÃO SOU MAIS",
         "AQUILO QUE FUI NÃO SOU MAIS,\\nNEM SOU TUDO O QUE DEVO SER;\\nJÁ SOU PELA GRAÇA O QUE SOU\\nE AO VÊ-LO ESTOU CERTO QUE VOU\\nNA GLÓRIA DE CRISTO VIVER\\n\\nCORO\\nMARANATA, MARANATA\\nEM BREVE O SENHOR VOLTARÁ;\\nMARANATA, MARANATA,\\nELE MESMO VIRÁ NOS BUSCAR.\\n\\nEU MORTO PENSEI QUE VIVIA,\\nJÁ VIVO E COM CRISTO MORRI;\\nPARA ELE, ESTOU RESSUSCITADO,\\nPARA O MUNDO, ESTOU CRUCIFICADO;\\nMINHA VIDA EM JESUS ESCONDI.\\n\\nCORO\\nMARANATA, MARANATA\\nEM BREVE O SENHOR VOLTARÁ;\\nMARANATA, MARANATA,\\nELE MESMO VIRÁ NOS BUSCAR.\\n\\nMINH’ALMA GOZANDO RIQUEZAS,\\nTESOUROS QUE O MUNDO NÃO DÁ,\\nCAMINHA NA DOCE ESPERANÇA,\\nDÁ VIDA EM ETERNA BONANÇA,\\nNA GLÓRIA ONDE JESUS ESTÁ.\\n\\nCORO\\nMARANATA, MARANATA\\nEM BREVE O SENHOR VOLTARÁ;\\nMARANATA, MARANATA,\\nELE MESMO VIRÁ NOS BUSCAR.",
         "AQUILO QUE FUI NÃO SOU MAIS, NEM SOU TUDO O QUE DEVO SER; JÁ SOU PELA GRAÇA O QUE SOU E AO VÊ-LO ESTOU CERTO QUE VOU NA GLÓRIA DE CRISTO VIVER MARANATA, MARANATA EM BREVE O SENHOR VOLTARÁ; MARANATA, MARANATA, ELE MESMO VIRÁ NOS BUSCAR. EU MORTO PENSEI QUE VIVIA, JÁ VIVO E COM CRISTO MORRI; PARA ELE, ESTOU RESSUSCITADO, PARA O MUNDO, ESTOU CRUCIFICADO; MINHA VIDA EM JESUS ESCONDI. MARANATA, MARANATA EM BREVE O SENHOR VOLTARÁ; MARANATA, MARANATA, ELE MESMO VIRÁ NOS BUSCAR. MINH’ALMA GOZANDO RIQUEZAS, TESOUROS QUE O MUNDO NÃO DÁ, CAMINHA NA DOCE ESPERANÇA, DÁ VIDA EM ETERNA BONANÇA, NA GLÓRIA ONDE JESUS ESTÁ. MARANATA, MARANATA EM BREVE O SENHOR VOLTARÁ; MARANATA, MARANATA, ELE MESMO VIRÁ NOS BUSCAR.",
         "1",
         "CLAMOR",
         "0"
        ],
        [
         "0",
         "O SANGUE DE JESUS TEM PODER",
         "O SANGUE DE JESUS TEM PODER,\\nPODER QUE A MIM PODE VALER,\\nSE COMUNHÃO NÃO POSSO EU SENTIR, SENHOR,\\nDERRAMA DO TEU SANGUE REMIDOR.\\n\\nCORO\\nDERRAMA DO TEU SANGUE SOBRE MIM, Ó SENHOR,\\nDERRAMA DO TEU SANGUE SOBRE MIM, Ó SENHOR,\\nSEI QUE ESTÁS AQUI E ISTO QUERO EU SENTIR,\\nDERRAMA DO TEU SANGUE SOBRE MIM.\\n\\nEM TUA PRESENÇA ESTOU, SENHOR,\\nDE TI NECESSITO MUITO AMOR,\\nPELO PODER QUE HÁ EM TEU SANGUE REMIDOR,\\nÓ VEM PURIFICAR-ME, MEU SENHOR.\\n\\nCORO\\nDERRAMA DO TEU SANGUE SOBRE MIM, Ó SENHOR,\\nDERRAMA DO TEU SANGUE SOBRE MIM, Ó SENHOR,\\nSEI QUE ESTÁS AQUI E ISTO QUERO EU SENTIR,\\nDERRAMA DO TEU SANGUE SOBRE MIM.",
         "O SANGUE DE JESUS TEM PODER, PODER QUE A MIM PODE VALER, SE COMUNHÃO NÃO POSSO EU SENTIR, SENHOR, DERRAMA DO TEU SANGUE REMIDOR. DERRAMA DO TEU SANGUE SOBRE MIM, Ó SENHOR, DERRAMA DO TEU SANGUE SOBRE MIM, Ó SENHOR, SEI QUE ESTÁS AQUI E ISTO QUERO EU SENTIR, DERRAMA DO TEU SANGUE SOBRE MIM. EM TUA PRESENÇA ESTOU, SENHOR, DE TI NECESSITO MUITO AMOR, PELO PODER QUE HÁ EM TEU SANGUE REMIDOR, Ó VEM PURIFICAR-ME, MEU SENHOR. DERRAMA DO TEU SANGUE SOBRE MIM, Ó SENHOR, DERRAMA DO TEU SANGUE SOBRE MIM, Ó SENHOR, SEI QUE ESTÁS AQUI E ISTO QUERO EU SENTIR, DERRAMA DO TEU SANGUE SOBRE MIM.",
         "1",
         "CLAMOR",
         "1"
        ],
        [
         "1",
         "O SANGUE DE JESUS TEM PODER PARA SALVAR",
         "O SANGUE DE JESUS TEM PODER (2x)\\nO SANGUE DE JESUS, O SANGUE DE JESUS,\\nO SANGUE DE JESUS TEM PODER.\\n\\nO SANGUE DE JESUS TEM PODER PARA SALVAR,\\nO SANGUE DE JESUS TEM PODER PARA CURAR,\\nO SANGUE DE JESUS, O SANGUE DE JESUS\\nTEM PODER PARA O OPRIMIDO LIBERTAR.",
         "O SANGUE DE JESUS TEM PODER O SANGUE DE JESUS, O SANGUE DE JESUS, O SANGUE DE JESUS TEM PODER. O SANGUE DE JESUS TEM PODER PARA SALVAR, O SANGUE DE JESUS TEM PODER PARA CURAR, O SANGUE DE JESUS, O SANGUE DE JESUS TEM PODER PARA O OPRIMIDO LIBERTAR.",
         "1",
         "CLAMOR",
         "2"
        ],
        [
         "2",
         "CLAMO A TI",
         "CLAMO A TI, Ó MEU SENHOR,\\nCLAMO A TI, MEU SALVADOR,\\nPELO TEU SANGUE, QUE É VIDA,\\nÓ BENDITO, VEM ME LIBERTAR. \\n\\nQUANDO ALÉM DO VÉU ENTRAR,\\nIREI TE DAR TODO O MEU SER,\t\\nEM TUA PRESENÇA, TE ADORAR,\\nTE BENDIZER.\t \\nREPETIR A 1ª ESTROFE 1X\\nBIS",
         "CLAMO A TI, Ó MEU SENHOR, CLAMO A TI, MEU SALVADOR, PELO TEU SANGUE, QUE É VIDA, Ó BENDITO, VEM ME LIBERTAR. QUANDO ALÉM DO VÉU ENTRAR, IREI TE DAR TODO O MEU SER, EM TUA PRESENÇA, TE ADORAR, TE BENDIZER.",
         "1",
         "CLAMOR",
         "3"
        ],
        [
         "3",
         "QUANDO TE PROSTRARES",
         "QUANDO TE PROSTRARES DIANTE DE DEUS,\\nLEMBRA QUE JESUS ESTÁ CONTIGO, \\nPEDE SEU AUXÍLIO, PEDE SEU PERDÃO \\nLEMBRA QUE JESUS É TEU ABRIGO.\\nBIS\\n\\nDEIXA QUE O SENHOR\\nMUDE O TEU VIVER;\\nLEMBRA QUE JESUS É TEU AMIGO.\\n\\nVENHA SOBRE NÓS, \\n(Ó DEUS) VARÕES\\nVENHA SOBRE NÓS, \\nSEJA SOBRE NÓS A TUA GRAÇA.\\nBIS",
         "QUANDO TE PROSTRARES DIANTE DE DEUS, LEMBRA QUE JESUS ESTÁ CONTIGO, PEDE SEU AUXÍLIO, PEDE SEU PERDÃO LEMBRA QUE JESUS É TEU ABRIGO. DEIXA QUE O SENHOR MUDE O TEU VIVER; LEMBRA QUE JESUS É TEU AMIGO. VENHA SOBRE NÓS, (Ó DEUS) VARÕES VENHA SOBRE NÓS, SEJA SOBRE NÓS A TUA GRAÇA.",
         "1",
         "CLAMOR",
         "4"
        ]
       ],
       "shape": {
        "columns": 6,
        "rows": 5
       }
      },
      "text/html": [
       "<div>\n",
       "<style scoped>\n",
       "    .dataframe tbody tr th:only-of-type {\n",
       "        vertical-align: middle;\n",
       "    }\n",
       "\n",
       "    .dataframe tbody tr th {\n",
       "        vertical-align: top;\n",
       "    }\n",
       "\n",
       "    .dataframe thead th {\n",
       "        text-align: right;\n",
       "    }\n",
       "</style>\n",
       "<table border=\"1\" class=\"dataframe\">\n",
       "  <thead>\n",
       "    <tr style=\"text-align: right;\">\n",
       "      <th></th>\n",
       "      <th>nome</th>\n",
       "      <th>texto</th>\n",
       "      <th>texto_limpo</th>\n",
       "      <th>categoria_id</th>\n",
       "      <th>categoria</th>\n",
       "      <th>numero</th>\n",
       "    </tr>\n",
       "  </thead>\n",
       "  <tbody>\n",
       "    <tr>\n",
       "      <th>794</th>\n",
       "      <td>AQUILO QUE FUI NÃO SOU MAIS</td>\n",
       "      <td>AQUILO QUE FUI NÃO SOU MAIS,\\nNEM SOU TUDO O Q...</td>\n",
       "      <td>AQUILO QUE FUI NÃO SOU MAIS, NEM SOU TUDO O QU...</td>\n",
       "      <td>1</td>\n",
       "      <td>CLAMOR</td>\n",
       "      <td>0</td>\n",
       "    </tr>\n",
       "    <tr>\n",
       "      <th>0</th>\n",
       "      <td>O SANGUE DE JESUS TEM PODER</td>\n",
       "      <td>O SANGUE DE JESUS TEM PODER,\\nPODER QUE A MIM ...</td>\n",
       "      <td>O SANGUE DE JESUS TEM PODER, PODER QUE A MIM P...</td>\n",
       "      <td>1</td>\n",
       "      <td>CLAMOR</td>\n",
       "      <td>1</td>\n",
       "    </tr>\n",
       "    <tr>\n",
       "      <th>1</th>\n",
       "      <td>O SANGUE DE JESUS TEM PODER PARA SALVAR</td>\n",
       "      <td>O SANGUE DE JESUS TEM PODER (2x)\\nO SANGUE DE ...</td>\n",
       "      <td>O SANGUE DE JESUS TEM PODER O SANGUE DE JESUS,...</td>\n",
       "      <td>1</td>\n",
       "      <td>CLAMOR</td>\n",
       "      <td>2</td>\n",
       "    </tr>\n",
       "    <tr>\n",
       "      <th>2</th>\n",
       "      <td>CLAMO A TI</td>\n",
       "      <td>CLAMO A TI, Ó MEU SENHOR,\\nCLAMO A TI, MEU SAL...</td>\n",
       "      <td>CLAMO A TI, Ó MEU SENHOR, CLAMO A TI, MEU SALV...</td>\n",
       "      <td>1</td>\n",
       "      <td>CLAMOR</td>\n",
       "      <td>3</td>\n",
       "    </tr>\n",
       "    <tr>\n",
       "      <th>3</th>\n",
       "      <td>QUANDO TE PROSTRARES</td>\n",
       "      <td>QUANDO TE PROSTRARES DIANTE DE DEUS,\\nLEMBRA Q...</td>\n",
       "      <td>QUANDO TE PROSTRARES DIANTE DE DEUS, LEMBRA QU...</td>\n",
       "      <td>1</td>\n",
       "      <td>CLAMOR</td>\n",
       "      <td>4</td>\n",
       "    </tr>\n",
       "  </tbody>\n",
       "</table>\n",
       "</div>"
      ],
      "text/plain": [
       "                                        nome  \\\n",
       "794              AQUILO QUE FUI NÃO SOU MAIS   \n",
       "0                O SANGUE DE JESUS TEM PODER   \n",
       "1    O SANGUE DE JESUS TEM PODER PARA SALVAR   \n",
       "2                                 CLAMO A TI   \n",
       "3                       QUANDO TE PROSTRARES   \n",
       "\n",
       "                                                 texto  \\\n",
       "794  AQUILO QUE FUI NÃO SOU MAIS,\\nNEM SOU TUDO O Q...   \n",
       "0    O SANGUE DE JESUS TEM PODER,\\nPODER QUE A MIM ...   \n",
       "1    O SANGUE DE JESUS TEM PODER (2x)\\nO SANGUE DE ...   \n",
       "2    CLAMO A TI, Ó MEU SENHOR,\\nCLAMO A TI, MEU SAL...   \n",
       "3    QUANDO TE PROSTRARES DIANTE DE DEUS,\\nLEMBRA Q...   \n",
       "\n",
       "                                           texto_limpo  categoria_id  \\\n",
       "794  AQUILO QUE FUI NÃO SOU MAIS, NEM SOU TUDO O QU...             1   \n",
       "0    O SANGUE DE JESUS TEM PODER, PODER QUE A MIM P...             1   \n",
       "1    O SANGUE DE JESUS TEM PODER O SANGUE DE JESUS,...             1   \n",
       "2    CLAMO A TI, Ó MEU SENHOR, CLAMO A TI, MEU SALV...             1   \n",
       "3    QUANDO TE PROSTRARES DIANTE DE DEUS, LEMBRA QU...             1   \n",
       "\n",
       "    categoria  numero  \n",
       "794    CLAMOR       0  \n",
       "0      CLAMOR       1  \n",
       "1      CLAMOR       2  \n",
       "2      CLAMOR       3  \n",
       "3      CLAMOR       4  "
      ]
     },
     "execution_count": 1,
     "metadata": {},
     "output_type": "execute_result"
    }
   ],
   "source": [
    "# --- Carregamento dos dados dos hinos tratados ---\n",
    "import pandas as pd\n",
    "from pathlib import Path\n",
    "\n",
    "# Define a pasta de assets e carrega o DataFrame dos hinos\n",
    "assets_folder = Path(\"../assets\")\n",
    "hinos_analise: pd.DataFrame = pd.read_pickle(assets_folder / \"hinos_analise.pkl\")\n",
    "\n",
    "# Exibe os primeiros registros para conferência\n",
    "hinos_analise.head()"
   ]
  },
  {
   "cell_type": "markdown",
   "id": "8aed0347",
   "metadata": {},
   "source": [
    "---\n",
    "\n",
    "**A seguir:** Seleção das colunas relevantes (número, nome, categoria) e definição do índice para facilitar a análise dos títulos."
   ]
  },
  {
   "cell_type": "code",
   "execution_count": 2,
   "id": "4438cfd5",
   "metadata": {},
   "outputs": [
    {
     "data": {
      "application/vnd.microsoft.datawrangler.viewer.v0+json": {
       "columns": [
        {
         "name": "numero",
         "rawType": "int64",
         "type": "integer"
        },
        {
         "name": "nome",
         "rawType": "object",
         "type": "string"
        },
        {
         "name": "categoria",
         "rawType": "object",
         "type": "string"
        }
       ],
       "ref": "cc1c545c-fa4a-47a5-841d-284875365e99",
       "rows": [
        [
         "0",
         "AQUILO QUE FUI NÃO SOU MAIS",
         "CLAMOR"
        ],
        [
         "1",
         "O SANGUE DE JESUS TEM PODER",
         "CLAMOR"
        ],
        [
         "2",
         "O SANGUE DE JESUS TEM PODER PARA SALVAR",
         "CLAMOR"
        ],
        [
         "3",
         "CLAMO A TI",
         "CLAMOR"
        ],
        [
         "4",
         "QUANDO TE PROSTRARES",
         "CLAMOR"
        ]
       ],
       "shape": {
        "columns": 2,
        "rows": 5
       }
      },
      "text/html": [
       "<div>\n",
       "<style scoped>\n",
       "    .dataframe tbody tr th:only-of-type {\n",
       "        vertical-align: middle;\n",
       "    }\n",
       "\n",
       "    .dataframe tbody tr th {\n",
       "        vertical-align: top;\n",
       "    }\n",
       "\n",
       "    .dataframe thead th {\n",
       "        text-align: right;\n",
       "    }\n",
       "</style>\n",
       "<table border=\"1\" class=\"dataframe\">\n",
       "  <thead>\n",
       "    <tr style=\"text-align: right;\">\n",
       "      <th></th>\n",
       "      <th>nome</th>\n",
       "      <th>categoria</th>\n",
       "    </tr>\n",
       "    <tr>\n",
       "      <th>numero</th>\n",
       "      <th></th>\n",
       "      <th></th>\n",
       "    </tr>\n",
       "  </thead>\n",
       "  <tbody>\n",
       "    <tr>\n",
       "      <th>0</th>\n",
       "      <td>AQUILO QUE FUI NÃO SOU MAIS</td>\n",
       "      <td>CLAMOR</td>\n",
       "    </tr>\n",
       "    <tr>\n",
       "      <th>1</th>\n",
       "      <td>O SANGUE DE JESUS TEM PODER</td>\n",
       "      <td>CLAMOR</td>\n",
       "    </tr>\n",
       "    <tr>\n",
       "      <th>2</th>\n",
       "      <td>O SANGUE DE JESUS TEM PODER PARA SALVAR</td>\n",
       "      <td>CLAMOR</td>\n",
       "    </tr>\n",
       "    <tr>\n",
       "      <th>3</th>\n",
       "      <td>CLAMO A TI</td>\n",
       "      <td>CLAMOR</td>\n",
       "    </tr>\n",
       "    <tr>\n",
       "      <th>4</th>\n",
       "      <td>QUANDO TE PROSTRARES</td>\n",
       "      <td>CLAMOR</td>\n",
       "    </tr>\n",
       "  </tbody>\n",
       "</table>\n",
       "</div>"
      ],
      "text/plain": [
       "                                           nome categoria\n",
       "numero                                                   \n",
       "0                   AQUILO QUE FUI NÃO SOU MAIS    CLAMOR\n",
       "1                   O SANGUE DE JESUS TEM PODER    CLAMOR\n",
       "2       O SANGUE DE JESUS TEM PODER PARA SALVAR    CLAMOR\n",
       "3                                    CLAMO A TI    CLAMOR\n",
       "4                          QUANDO TE PROSTRARES    CLAMOR"
      ]
     },
     "execution_count": 2,
     "metadata": {},
     "output_type": "execute_result"
    }
   ],
   "source": [
    "# --- Seleção das colunas relevantes e definição do índice ---\n",
    "# Mantém apenas número, nome e categoria para análise dos títulos\n",
    "hinos_analise = hinos_analise[[\"numero\", \"nome\", \"categoria\"]].set_index(\"numero\")\n",
    "\n",
    "# Exibe os dados filtrados\n",
    "hinos_analise.head()"
   ]
  },
  {
   "cell_type": "markdown",
   "id": "3303222b",
   "metadata": {},
   "source": [
    "---\n",
    "\n",
    "**A seguir:** Extração dos subtítulos presentes entre parênteses e limpeza dos títulos, separando o nome principal do subtítulo para análise detalhada."
   ]
  },
  {
   "cell_type": "code",
   "execution_count": 3,
   "id": "5f6b8915",
   "metadata": {},
   "outputs": [
    {
     "data": {
      "application/vnd.microsoft.datawrangler.viewer.v0+json": {
       "columns": [
        {
         "name": "numero",
         "rawType": "int64",
         "type": "integer"
        },
        {
         "name": "nome",
         "rawType": "object",
         "type": "string"
        },
        {
         "name": "categoria",
         "rawType": "object",
         "type": "string"
        },
        {
         "name": "subtitulo",
         "rawType": "object",
         "type": "string"
        }
       ],
       "ref": "198e1f82-e73e-4085-bdde-7b0c88192ab3",
       "rows": [
        [
         "118",
         "Ó SENHOR, DEUS DE ISRAEL",
         "DEDICAÇÃO",
         "EDIFIQUEI UMA CASA"
        ],
        [
         "185",
         "JESUS, SENHOR, ME CHEGO A TI",
         "DEDICAÇÃO",
         "EU VENHO COMO ESTOU"
        ],
        [
         "197",
         "HOJE QUERO SOMENTE AGRADECER",
         "DEDICAÇÃO",
         "SOMENTE AGRADECER"
        ],
        [
         "252",
         "SE DISPUSERES O TEU CORAÇÃO",
         "MORTE, RESSURREIÇÃO E SALVAÇÃO",
         "JÓ 11:13-19"
        ],
        [
         "255",
         "MEU CORAÇÃO ENGRANDECE",
         "MORTE, RESSURREIÇÃO E SALVAÇÃO",
         "CÂNTICO DE VITÓRIA"
        ]
       ],
       "shape": {
        "columns": 3,
        "rows": 5
       }
      },
      "text/html": [
       "<div>\n",
       "<style scoped>\n",
       "    .dataframe tbody tr th:only-of-type {\n",
       "        vertical-align: middle;\n",
       "    }\n",
       "\n",
       "    .dataframe tbody tr th {\n",
       "        vertical-align: top;\n",
       "    }\n",
       "\n",
       "    .dataframe thead th {\n",
       "        text-align: right;\n",
       "    }\n",
       "</style>\n",
       "<table border=\"1\" class=\"dataframe\">\n",
       "  <thead>\n",
       "    <tr style=\"text-align: right;\">\n",
       "      <th></th>\n",
       "      <th>nome</th>\n",
       "      <th>categoria</th>\n",
       "      <th>subtitulo</th>\n",
       "    </tr>\n",
       "    <tr>\n",
       "      <th>numero</th>\n",
       "      <th></th>\n",
       "      <th></th>\n",
       "      <th></th>\n",
       "    </tr>\n",
       "  </thead>\n",
       "  <tbody>\n",
       "    <tr>\n",
       "      <th>118</th>\n",
       "      <td>Ó SENHOR, DEUS DE ISRAEL</td>\n",
       "      <td>DEDICAÇÃO</td>\n",
       "      <td>EDIFIQUEI UMA CASA</td>\n",
       "    </tr>\n",
       "    <tr>\n",
       "      <th>185</th>\n",
       "      <td>JESUS, SENHOR, ME CHEGO A TI</td>\n",
       "      <td>DEDICAÇÃO</td>\n",
       "      <td>EU VENHO COMO ESTOU</td>\n",
       "    </tr>\n",
       "    <tr>\n",
       "      <th>197</th>\n",
       "      <td>HOJE QUERO SOMENTE AGRADECER</td>\n",
       "      <td>DEDICAÇÃO</td>\n",
       "      <td>SOMENTE AGRADECER</td>\n",
       "    </tr>\n",
       "    <tr>\n",
       "      <th>252</th>\n",
       "      <td>SE DISPUSERES O TEU CORAÇÃO</td>\n",
       "      <td>MORTE, RESSURREIÇÃO E SALVAÇÃO</td>\n",
       "      <td>JÓ 11:13-19</td>\n",
       "    </tr>\n",
       "    <tr>\n",
       "      <th>255</th>\n",
       "      <td>MEU CORAÇÃO ENGRANDECE</td>\n",
       "      <td>MORTE, RESSURREIÇÃO E SALVAÇÃO</td>\n",
       "      <td>CÂNTICO DE VITÓRIA</td>\n",
       "    </tr>\n",
       "  </tbody>\n",
       "</table>\n",
       "</div>"
      ],
      "text/plain": [
       "                                nome                       categoria  \\\n",
       "numero                                                                 \n",
       "118         Ó SENHOR, DEUS DE ISRAEL                       DEDICAÇÃO   \n",
       "185     JESUS, SENHOR, ME CHEGO A TI                       DEDICAÇÃO   \n",
       "197     HOJE QUERO SOMENTE AGRADECER                       DEDICAÇÃO   \n",
       "252      SE DISPUSERES O TEU CORAÇÃO  MORTE, RESSURREIÇÃO E SALVAÇÃO   \n",
       "255           MEU CORAÇÃO ENGRANDECE  MORTE, RESSURREIÇÃO E SALVAÇÃO   \n",
       "\n",
       "                  subtitulo  \n",
       "numero                       \n",
       "118      EDIFIQUEI UMA CASA  \n",
       "185     EU VENHO COMO ESTOU  \n",
       "197       SOMENTE AGRADECER  \n",
       "252             JÓ 11:13-19  \n",
       "255      CÂNTICO DE VITÓRIA  "
      ]
     },
     "execution_count": 3,
     "metadata": {},
     "output_type": "execute_result"
    }
   ],
   "source": [
    "# --- Extração e limpeza dos subtítulos dos hinos ---\n",
    "# Extrai subtítulos entre parênteses e limpa a coluna \"nome\"\n",
    "hinos_analise[\"subtitulo\"] = (\n",
    "    hinos_analise[\"nome\"].str.extract(r\"\\((.*?)\\)\").squeeze().str.strip()\n",
    ")\n",
    "hinos_analise[\"nome\"] = hinos_analise[\"nome\"].str.replace(\n",
    "    r\"\\s*\\(.*?\\)\\s*\", \"\", regex=True\n",
    ")\n",
    "\n",
    "# Exibe hinos que possuem subtítulo\n",
    "hinos_analise[~hinos_analise[\"subtitulo\"].isna()].head()"
   ]
  },
  {
   "cell_type": "markdown",
   "id": "de9671fe",
   "metadata": {},
   "source": [
    "---\n",
    "\n",
    "**A seguir:** Cálculo do tamanho dos títulos (sem subtítulo) e exibição dos 10 maiores e 10 menores títulos para identificar padrões e curiosidades."
   ]
  },
  {
   "cell_type": "code",
   "execution_count": 4,
   "id": "4f53acbc",
   "metadata": {},
   "outputs": [
    {
     "name": "stdout",
     "output_type": "stream",
     "text": [
      "Top 10 maiores títulos\n"
     ]
    },
    {
     "data": {
      "application/vnd.microsoft.datawrangler.viewer.v0+json": {
       "columns": [
        {
         "name": "numero",
         "rawType": "int64",
         "type": "integer"
        },
        {
         "name": "nome",
         "rawType": "object",
         "type": "string"
        },
        {
         "name": "categoria",
         "rawType": "object",
         "type": "string"
        },
        {
         "name": "subtitulo",
         "rawType": "object",
         "type": "unknown"
        },
        {
         "name": "titulo_tam_real",
         "rawType": "int64",
         "type": "integer"
        }
       ],
       "ref": "e42244be-7979-46af-bb9a-86df5373ea5c",
       "rows": [
        [
         "323",
         "DEUS ESTÁ PRESENTE  SEMPRE PRONTO A NOS AJUDAR",
         "CONSOLO E ENCORAJAMENTO",
         null,
         "46"
        ],
        [
         "612",
         "SANTO, SANTO, SANTO,  Ó DEUS DE GLÓRIA E PODER",
         "LOUVOR",
         null,
         "46"
        ],
        [
         "511",
         "JESUS CRISTO VOLTARÁ COM  SEU GRANDE ESPLENDOR",
         "VOLTA DE JESUS E ETERNIDADE",
         null,
         "46"
        ],
        [
         "654",
         "GRANDE É O SENHOR E MUI  DIGNO DE SER LOUVADO",
         "SALMOS DE LOUVOR",
         null,
         "45"
        ],
        [
         "285",
         "TU QUE ANDAS SÓ E TRISTE  SEM SABER O CAMINHO",
         "MORTE, RESSURREIÇÃO E SALVAÇÃO",
         null,
         "45"
        ],
        [
         "79",
         "DEUS ESTÁ PRESENTE ENTRE  PECADORES COMO NÓS",
         "INVOCAÇÃO E COMUNHÃO",
         null,
         "44"
        ],
        [
         "103",
         "A MINH’ALMA ESTAVA LONGE  DO CAMINHO DO CÉU",
         "DEDICAÇÃO",
         null,
         "43"
        ],
        [
         "561",
         "OUVI COMO QUE A VOZ DE  UMA GRANDE MULTIDÃO",
         "VOLTA DE JESUS E ETERNIDADE",
         null,
         "43"
        ],
        [
         "493",
         "COMO FOI PARA O CÉU, JESUS CRISTO HÁ DE VIR",
         "VOLTA DE JESUS E ETERNIDADE",
         null,
         "43"
        ],
        [
         "176",
         "NÃO EXISTE OUTRO AMOR IGUAL AO TEU, SENHOR",
         "DEDICAÇÃO",
         null,
         "42"
        ]
       ],
       "shape": {
        "columns": 4,
        "rows": 10
       }
      },
      "text/html": [
       "<div>\n",
       "<style scoped>\n",
       "    .dataframe tbody tr th:only-of-type {\n",
       "        vertical-align: middle;\n",
       "    }\n",
       "\n",
       "    .dataframe tbody tr th {\n",
       "        vertical-align: top;\n",
       "    }\n",
       "\n",
       "    .dataframe thead th {\n",
       "        text-align: right;\n",
       "    }\n",
       "</style>\n",
       "<table border=\"1\" class=\"dataframe\">\n",
       "  <thead>\n",
       "    <tr style=\"text-align: right;\">\n",
       "      <th></th>\n",
       "      <th>nome</th>\n",
       "      <th>categoria</th>\n",
       "      <th>subtitulo</th>\n",
       "      <th>titulo_tam_real</th>\n",
       "    </tr>\n",
       "    <tr>\n",
       "      <th>numero</th>\n",
       "      <th></th>\n",
       "      <th></th>\n",
       "      <th></th>\n",
       "      <th></th>\n",
       "    </tr>\n",
       "  </thead>\n",
       "  <tbody>\n",
       "    <tr>\n",
       "      <th>323</th>\n",
       "      <td>DEUS ESTÁ PRESENTE  SEMPRE PRONTO A NOS AJUDAR</td>\n",
       "      <td>CONSOLO E ENCORAJAMENTO</td>\n",
       "      <td>NaN</td>\n",
       "      <td>46</td>\n",
       "    </tr>\n",
       "    <tr>\n",
       "      <th>612</th>\n",
       "      <td>SANTO, SANTO, SANTO,  Ó DEUS DE GLÓRIA E PODER</td>\n",
       "      <td>LOUVOR</td>\n",
       "      <td>NaN</td>\n",
       "      <td>46</td>\n",
       "    </tr>\n",
       "    <tr>\n",
       "      <th>511</th>\n",
       "      <td>JESUS CRISTO VOLTARÁ COM  SEU GRANDE ESPLENDOR</td>\n",
       "      <td>VOLTA DE JESUS E ETERNIDADE</td>\n",
       "      <td>NaN</td>\n",
       "      <td>46</td>\n",
       "    </tr>\n",
       "    <tr>\n",
       "      <th>654</th>\n",
       "      <td>GRANDE É O SENHOR E MUI  DIGNO DE SER LOUVADO</td>\n",
       "      <td>SALMOS DE LOUVOR</td>\n",
       "      <td>NaN</td>\n",
       "      <td>45</td>\n",
       "    </tr>\n",
       "    <tr>\n",
       "      <th>285</th>\n",
       "      <td>TU QUE ANDAS SÓ E TRISTE  SEM SABER O CAMINHO</td>\n",
       "      <td>MORTE, RESSURREIÇÃO E SALVAÇÃO</td>\n",
       "      <td>NaN</td>\n",
       "      <td>45</td>\n",
       "    </tr>\n",
       "    <tr>\n",
       "      <th>79</th>\n",
       "      <td>DEUS ESTÁ PRESENTE ENTRE  PECADORES COMO NÓS</td>\n",
       "      <td>INVOCAÇÃO E COMUNHÃO</td>\n",
       "      <td>NaN</td>\n",
       "      <td>44</td>\n",
       "    </tr>\n",
       "    <tr>\n",
       "      <th>103</th>\n",
       "      <td>A MINH’ALMA ESTAVA LONGE  DO CAMINHO DO CÉU</td>\n",
       "      <td>DEDICAÇÃO</td>\n",
       "      <td>NaN</td>\n",
       "      <td>43</td>\n",
       "    </tr>\n",
       "    <tr>\n",
       "      <th>561</th>\n",
       "      <td>OUVI COMO QUE A VOZ DE  UMA GRANDE MULTIDÃO</td>\n",
       "      <td>VOLTA DE JESUS E ETERNIDADE</td>\n",
       "      <td>NaN</td>\n",
       "      <td>43</td>\n",
       "    </tr>\n",
       "    <tr>\n",
       "      <th>493</th>\n",
       "      <td>COMO FOI PARA O CÉU, JESUS CRISTO HÁ DE VIR</td>\n",
       "      <td>VOLTA DE JESUS E ETERNIDADE</td>\n",
       "      <td>NaN</td>\n",
       "      <td>43</td>\n",
       "    </tr>\n",
       "    <tr>\n",
       "      <th>176</th>\n",
       "      <td>NÃO EXISTE OUTRO AMOR IGUAL AO TEU, SENHOR</td>\n",
       "      <td>DEDICAÇÃO</td>\n",
       "      <td>NaN</td>\n",
       "      <td>42</td>\n",
       "    </tr>\n",
       "  </tbody>\n",
       "</table>\n",
       "</div>"
      ],
      "text/plain": [
       "                                                  nome  \\\n",
       "numero                                                   \n",
       "323     DEUS ESTÁ PRESENTE  SEMPRE PRONTO A NOS AJUDAR   \n",
       "612     SANTO, SANTO, SANTO,  Ó DEUS DE GLÓRIA E PODER   \n",
       "511     JESUS CRISTO VOLTARÁ COM  SEU GRANDE ESPLENDOR   \n",
       "654      GRANDE É O SENHOR E MUI  DIGNO DE SER LOUVADO   \n",
       "285      TU QUE ANDAS SÓ E TRISTE  SEM SABER O CAMINHO   \n",
       "79        DEUS ESTÁ PRESENTE ENTRE  PECADORES COMO NÓS   \n",
       "103        A MINH’ALMA ESTAVA LONGE  DO CAMINHO DO CÉU   \n",
       "561        OUVI COMO QUE A VOZ DE  UMA GRANDE MULTIDÃO   \n",
       "493        COMO FOI PARA O CÉU, JESUS CRISTO HÁ DE VIR   \n",
       "176         NÃO EXISTE OUTRO AMOR IGUAL AO TEU, SENHOR   \n",
       "\n",
       "                             categoria subtitulo  titulo_tam_real  \n",
       "numero                                                             \n",
       "323            CONSOLO E ENCORAJAMENTO       NaN               46  \n",
       "612                             LOUVOR       NaN               46  \n",
       "511        VOLTA DE JESUS E ETERNIDADE       NaN               46  \n",
       "654                   SALMOS DE LOUVOR       NaN               45  \n",
       "285     MORTE, RESSURREIÇÃO E SALVAÇÃO       NaN               45  \n",
       "79                INVOCAÇÃO E COMUNHÃO       NaN               44  \n",
       "103                          DEDICAÇÃO       NaN               43  \n",
       "561        VOLTA DE JESUS E ETERNIDADE       NaN               43  \n",
       "493        VOLTA DE JESUS E ETERNIDADE       NaN               43  \n",
       "176                          DEDICAÇÃO       NaN               42  "
      ]
     },
     "metadata": {},
     "output_type": "display_data"
    },
    {
     "name": "stdout",
     "output_type": "stream",
     "text": [
      "Top 10 menores títulos\n"
     ]
    },
    {
     "data": {
      "application/vnd.microsoft.datawrangler.viewer.v0+json": {
       "columns": [
        {
         "name": "numero",
         "rawType": "int64",
         "type": "integer"
        },
        {
         "name": "nome",
         "rawType": "object",
         "type": "string"
        },
        {
         "name": "categoria",
         "rawType": "object",
         "type": "string"
        },
        {
         "name": "subtitulo",
         "rawType": "object",
         "type": "unknown"
        },
        {
         "name": "titulo_tam_real",
         "rawType": "int64",
         "type": "integer"
        }
       ],
       "ref": "19c5eb03-4857-4ea7-b3ba-d86edbbb472b",
       "rows": [
        [
         "645",
         "COROAI",
         "LOUVOR",
         null,
         "6"
        ],
        [
         "653",
         "ALELUIA",
         "SALMOS DE LOUVOR",
         "SALMOS 113",
         "7"
        ],
        [
         "219",
         "POR AMOR",
         "MORTE, RESSURREIÇÃO E SALVAÇÃO",
         null,
         "8"
        ],
        [
         "396",
         "ABBA PAI",
         "SANTIFICAÇÃO E DERRAMAMENTO DO ESPÍRITO SANTO",
         null,
         "8"
        ],
        [
         "574",
         "ADORAREI",
         "LOUVOR",
         null,
         "8"
        ],
        [
         "554",
         "JERUSALÉM",
         "VOLTA DE JESUS E ETERNIDADE",
         "SUAS RUAS DE OURO",
         "9"
        ],
        [
         "212",
         "RUDE CRUZ",
         "MORTE, RESSURREIÇÃO E SALVAÇÃO",
         null,
         "9"
        ],
        [
         "621",
         "ADORAR-TE",
         "LOUVOR",
         null,
         "9"
        ],
        [
         "332",
         "O REI E EU",
         "CONSOLO E ENCORAJAMENTO",
         null,
         "10"
        ],
        [
         "43",
         "VOU CLAMAR",
         "CLAMOR",
         null,
         "10"
        ]
       ],
       "shape": {
        "columns": 4,
        "rows": 10
       }
      },
      "text/html": [
       "<div>\n",
       "<style scoped>\n",
       "    .dataframe tbody tr th:only-of-type {\n",
       "        vertical-align: middle;\n",
       "    }\n",
       "\n",
       "    .dataframe tbody tr th {\n",
       "        vertical-align: top;\n",
       "    }\n",
       "\n",
       "    .dataframe thead th {\n",
       "        text-align: right;\n",
       "    }\n",
       "</style>\n",
       "<table border=\"1\" class=\"dataframe\">\n",
       "  <thead>\n",
       "    <tr style=\"text-align: right;\">\n",
       "      <th></th>\n",
       "      <th>nome</th>\n",
       "      <th>categoria</th>\n",
       "      <th>subtitulo</th>\n",
       "      <th>titulo_tam_real</th>\n",
       "    </tr>\n",
       "    <tr>\n",
       "      <th>numero</th>\n",
       "      <th></th>\n",
       "      <th></th>\n",
       "      <th></th>\n",
       "      <th></th>\n",
       "    </tr>\n",
       "  </thead>\n",
       "  <tbody>\n",
       "    <tr>\n",
       "      <th>645</th>\n",
       "      <td>COROAI</td>\n",
       "      <td>LOUVOR</td>\n",
       "      <td>NaN</td>\n",
       "      <td>6</td>\n",
       "    </tr>\n",
       "    <tr>\n",
       "      <th>653</th>\n",
       "      <td>ALELUIA</td>\n",
       "      <td>SALMOS DE LOUVOR</td>\n",
       "      <td>SALMOS 113</td>\n",
       "      <td>7</td>\n",
       "    </tr>\n",
       "    <tr>\n",
       "      <th>219</th>\n",
       "      <td>POR AMOR</td>\n",
       "      <td>MORTE, RESSURREIÇÃO E SALVAÇÃO</td>\n",
       "      <td>NaN</td>\n",
       "      <td>8</td>\n",
       "    </tr>\n",
       "    <tr>\n",
       "      <th>396</th>\n",
       "      <td>ABBA PAI</td>\n",
       "      <td>SANTIFICAÇÃO E DERRAMAMENTO DO ESPÍRITO SANTO</td>\n",
       "      <td>NaN</td>\n",
       "      <td>8</td>\n",
       "    </tr>\n",
       "    <tr>\n",
       "      <th>574</th>\n",
       "      <td>ADORAREI</td>\n",
       "      <td>LOUVOR</td>\n",
       "      <td>NaN</td>\n",
       "      <td>8</td>\n",
       "    </tr>\n",
       "    <tr>\n",
       "      <th>554</th>\n",
       "      <td>JERUSALÉM</td>\n",
       "      <td>VOLTA DE JESUS E ETERNIDADE</td>\n",
       "      <td>SUAS RUAS DE OURO</td>\n",
       "      <td>9</td>\n",
       "    </tr>\n",
       "    <tr>\n",
       "      <th>212</th>\n",
       "      <td>RUDE CRUZ</td>\n",
       "      <td>MORTE, RESSURREIÇÃO E SALVAÇÃO</td>\n",
       "      <td>NaN</td>\n",
       "      <td>9</td>\n",
       "    </tr>\n",
       "    <tr>\n",
       "      <th>621</th>\n",
       "      <td>ADORAR-TE</td>\n",
       "      <td>LOUVOR</td>\n",
       "      <td>NaN</td>\n",
       "      <td>9</td>\n",
       "    </tr>\n",
       "    <tr>\n",
       "      <th>332</th>\n",
       "      <td>O REI E EU</td>\n",
       "      <td>CONSOLO E ENCORAJAMENTO</td>\n",
       "      <td>NaN</td>\n",
       "      <td>10</td>\n",
       "    </tr>\n",
       "    <tr>\n",
       "      <th>43</th>\n",
       "      <td>VOU CLAMAR</td>\n",
       "      <td>CLAMOR</td>\n",
       "      <td>NaN</td>\n",
       "      <td>10</td>\n",
       "    </tr>\n",
       "  </tbody>\n",
       "</table>\n",
       "</div>"
      ],
      "text/plain": [
       "              nome                                      categoria  \\\n",
       "numero                                                              \n",
       "645         COROAI                                         LOUVOR   \n",
       "653        ALELUIA                               SALMOS DE LOUVOR   \n",
       "219       POR AMOR                 MORTE, RESSURREIÇÃO E SALVAÇÃO   \n",
       "396       ABBA PAI  SANTIFICAÇÃO E DERRAMAMENTO DO ESPÍRITO SANTO   \n",
       "574       ADORAREI                                         LOUVOR   \n",
       "554      JERUSALÉM                    VOLTA DE JESUS E ETERNIDADE   \n",
       "212      RUDE CRUZ                 MORTE, RESSURREIÇÃO E SALVAÇÃO   \n",
       "621      ADORAR-TE                                         LOUVOR   \n",
       "332     O REI E EU                        CONSOLO E ENCORAJAMENTO   \n",
       "43      VOU CLAMAR                                         CLAMOR   \n",
       "\n",
       "                subtitulo  titulo_tam_real  \n",
       "numero                                      \n",
       "645                   NaN                6  \n",
       "653            SALMOS 113                7  \n",
       "219                   NaN                8  \n",
       "396                   NaN                8  \n",
       "574                   NaN                8  \n",
       "554     SUAS RUAS DE OURO                9  \n",
       "212                   NaN                9  \n",
       "621                   NaN                9  \n",
       "332                   NaN               10  \n",
       "43                    NaN               10  "
      ]
     },
     "metadata": {},
     "output_type": "display_data"
    }
   ],
   "source": [
    "# --- Análise dos tamanhos dos títulos (sem subtítulo) ---\n",
    "# Calcula o tamanho real dos títulos\n",
    "hinos_analise[\"titulo_tam_real\"] = hinos_analise[\"nome\"].str.len()\n",
    "\n",
    "# Exibe os 10 maiores e 10 menores títulos\n",
    "print(\"Top 10 maiores títulos\")\n",
    "display(hinos_analise.sort_values(by=\"titulo_tam_real\", ascending=False).head(10))\n",
    "print(\"Top 10 menores títulos\")\n",
    "display(hinos_analise.sort_values(by=\"titulo_tam_real\").head(10))"
   ]
  },
  {
   "cell_type": "markdown",
   "id": "f259e2ad",
   "metadata": {},
   "source": [
    "---\n",
    "\n",
    "**A seguir:** Criação de um novo DataFrame que reúne títulos e subtítulos em uma única coluna, permitindo análises comparativas entre ambos."
   ]
  },
  {
   "cell_type": "code",
   "execution_count": 5,
   "id": "f270cc1a",
   "metadata": {},
   "outputs": [
    {
     "data": {
      "application/vnd.microsoft.datawrangler.viewer.v0+json": {
       "columns": [
        {
         "name": "numero",
         "rawType": "int64",
         "type": "integer"
        },
        {
         "name": "nome",
         "rawType": "object",
         "type": "string"
        },
        {
         "name": "categoria",
         "rawType": "object",
         "type": "string"
        }
       ],
       "ref": "b2126a99-43c6-4432-a754-364c613029af",
       "rows": [
        [
         "118",
         "EDIFIQUEI UMA CASA",
         "DEDICAÇÃO"
        ],
        [
         "185",
         "EU VENHO COMO ESTOU",
         "DEDICAÇÃO"
        ],
        [
         "197",
         "SOMENTE AGRADECER",
         "DEDICAÇÃO"
        ],
        [
         "252",
         "JÓ 11:13-19",
         "MORTE, RESSURREIÇÃO E SALVAÇÃO"
        ],
        [
         "255",
         "CÂNTICO DE VITÓRIA",
         "MORTE, RESSURREIÇÃO E SALVAÇÃO"
        ]
       ],
       "shape": {
        "columns": 2,
        "rows": 5
       }
      },
      "text/html": [
       "<div>\n",
       "<style scoped>\n",
       "    .dataframe tbody tr th:only-of-type {\n",
       "        vertical-align: middle;\n",
       "    }\n",
       "\n",
       "    .dataframe tbody tr th {\n",
       "        vertical-align: top;\n",
       "    }\n",
       "\n",
       "    .dataframe thead th {\n",
       "        text-align: right;\n",
       "    }\n",
       "</style>\n",
       "<table border=\"1\" class=\"dataframe\">\n",
       "  <thead>\n",
       "    <tr style=\"text-align: right;\">\n",
       "      <th></th>\n",
       "      <th>nome</th>\n",
       "      <th>categoria</th>\n",
       "    </tr>\n",
       "    <tr>\n",
       "      <th>numero</th>\n",
       "      <th></th>\n",
       "      <th></th>\n",
       "    </tr>\n",
       "  </thead>\n",
       "  <tbody>\n",
       "    <tr>\n",
       "      <th>118</th>\n",
       "      <td>EDIFIQUEI UMA CASA</td>\n",
       "      <td>DEDICAÇÃO</td>\n",
       "    </tr>\n",
       "    <tr>\n",
       "      <th>185</th>\n",
       "      <td>EU VENHO COMO ESTOU</td>\n",
       "      <td>DEDICAÇÃO</td>\n",
       "    </tr>\n",
       "    <tr>\n",
       "      <th>197</th>\n",
       "      <td>SOMENTE AGRADECER</td>\n",
       "      <td>DEDICAÇÃO</td>\n",
       "    </tr>\n",
       "    <tr>\n",
       "      <th>252</th>\n",
       "      <td>JÓ 11:13-19</td>\n",
       "      <td>MORTE, RESSURREIÇÃO E SALVAÇÃO</td>\n",
       "    </tr>\n",
       "    <tr>\n",
       "      <th>255</th>\n",
       "      <td>CÂNTICO DE VITÓRIA</td>\n",
       "      <td>MORTE, RESSURREIÇÃO E SALVAÇÃO</td>\n",
       "    </tr>\n",
       "  </tbody>\n",
       "</table>\n",
       "</div>"
      ],
      "text/plain": [
       "                       nome                       categoria\n",
       "numero                                                     \n",
       "118      EDIFIQUEI UMA CASA                       DEDICAÇÃO\n",
       "185     EU VENHO COMO ESTOU                       DEDICAÇÃO\n",
       "197       SOMENTE AGRADECER                       DEDICAÇÃO\n",
       "252             JÓ 11:13-19  MORTE, RESSURREIÇÃO E SALVAÇÃO\n",
       "255      CÂNTICO DE VITÓRIA  MORTE, RESSURREIÇÃO E SALVAÇÃO"
      ]
     },
     "execution_count": 5,
     "metadata": {},
     "output_type": "execute_result"
    }
   ],
   "source": [
    "# --- Criação de DataFrame para títulos e subtítulos ---\n",
    "# Junta títulos e subtítulos em uma única coluna para análise comparativa\n",
    "hinos_titulos = pd.concat(\n",
    "    [\n",
    "        hinos_analise[[\"subtitulo\", \"categoria\"]].rename(columns={\"subtitulo\": \"nome\"}),\n",
    "        hinos_analise[[\"nome\", \"categoria\"]],\n",
    "    ]\n",
    ").dropna()\n",
    "\n",
    "# Exibe amostra do novo DataFrame\n",
    "hinos_titulos.head()"
   ]
  },
  {
   "cell_type": "markdown",
   "id": "17d456f2",
   "metadata": {},
   "source": [
    "---\n",
    "\n",
    "**A seguir:** Análise dos tamanhos dos títulos considerando também os subtítulos, exibindo os maiores e menores para comparação."
   ]
  },
  {
   "cell_type": "code",
   "execution_count": 6,
   "id": "0c84dac3",
   "metadata": {},
   "outputs": [
    {
     "name": "stdout",
     "output_type": "stream",
     "text": [
      "Top 10 maiores títulos/subtítulos\n"
     ]
    },
    {
     "data": {
      "application/vnd.microsoft.datawrangler.viewer.v0+json": {
       "columns": [
        {
         "name": "numero",
         "rawType": "int64",
         "type": "integer"
        },
        {
         "name": "nome",
         "rawType": "object",
         "type": "string"
        },
        {
         "name": "categoria",
         "rawType": "object",
         "type": "string"
        },
        {
         "name": "titulo_tam_real",
         "rawType": "int64",
         "type": "integer"
        }
       ],
       "ref": "0ba13dac-ce13-4134-967c-ffd220b84d0e",
       "rows": [
        [
         "612",
         "SANTO, SANTO, SANTO,  Ó DEUS DE GLÓRIA E PODER",
         "LOUVOR",
         "46"
        ],
        [
         "511",
         "JESUS CRISTO VOLTARÁ COM  SEU GRANDE ESPLENDOR",
         "VOLTA DE JESUS E ETERNIDADE",
         "46"
        ],
        [
         "323",
         "DEUS ESTÁ PRESENTE  SEMPRE PRONTO A NOS AJUDAR",
         "CONSOLO E ENCORAJAMENTO",
         "46"
        ],
        [
         "654",
         "GRANDE É O SENHOR E MUI  DIGNO DE SER LOUVADO",
         "SALMOS DE LOUVOR",
         "45"
        ],
        [
         "285",
         "TU QUE ANDAS SÓ E TRISTE  SEM SABER O CAMINHO",
         "MORTE, RESSURREIÇÃO E SALVAÇÃO",
         "45"
        ],
        [
         "79",
         "DEUS ESTÁ PRESENTE ENTRE  PECADORES COMO NÓS",
         "INVOCAÇÃO E COMUNHÃO",
         "44"
        ],
        [
         "493",
         "COMO FOI PARA O CÉU, JESUS CRISTO HÁ DE VIR",
         "VOLTA DE JESUS E ETERNIDADE",
         "43"
        ],
        [
         "561",
         "OUVI COMO QUE A VOZ DE  UMA GRANDE MULTIDÃO",
         "VOLTA DE JESUS E ETERNIDADE",
         "43"
        ],
        [
         "103",
         "A MINH’ALMA ESTAVA LONGE  DO CAMINHO DO CÉU",
         "DEDICAÇÃO",
         "43"
        ],
        [
         "176",
         "NÃO EXISTE OUTRO AMOR IGUAL AO TEU, SENHOR",
         "DEDICAÇÃO",
         "42"
        ]
       ],
       "shape": {
        "columns": 3,
        "rows": 10
       }
      },
      "text/html": [
       "<div>\n",
       "<style scoped>\n",
       "    .dataframe tbody tr th:only-of-type {\n",
       "        vertical-align: middle;\n",
       "    }\n",
       "\n",
       "    .dataframe tbody tr th {\n",
       "        vertical-align: top;\n",
       "    }\n",
       "\n",
       "    .dataframe thead th {\n",
       "        text-align: right;\n",
       "    }\n",
       "</style>\n",
       "<table border=\"1\" class=\"dataframe\">\n",
       "  <thead>\n",
       "    <tr style=\"text-align: right;\">\n",
       "      <th></th>\n",
       "      <th>nome</th>\n",
       "      <th>categoria</th>\n",
       "      <th>titulo_tam_real</th>\n",
       "    </tr>\n",
       "    <tr>\n",
       "      <th>numero</th>\n",
       "      <th></th>\n",
       "      <th></th>\n",
       "      <th></th>\n",
       "    </tr>\n",
       "  </thead>\n",
       "  <tbody>\n",
       "    <tr>\n",
       "      <th>612</th>\n",
       "      <td>SANTO, SANTO, SANTO,  Ó DEUS DE GLÓRIA E PODER</td>\n",
       "      <td>LOUVOR</td>\n",
       "      <td>46</td>\n",
       "    </tr>\n",
       "    <tr>\n",
       "      <th>511</th>\n",
       "      <td>JESUS CRISTO VOLTARÁ COM  SEU GRANDE ESPLENDOR</td>\n",
       "      <td>VOLTA DE JESUS E ETERNIDADE</td>\n",
       "      <td>46</td>\n",
       "    </tr>\n",
       "    <tr>\n",
       "      <th>323</th>\n",
       "      <td>DEUS ESTÁ PRESENTE  SEMPRE PRONTO A NOS AJUDAR</td>\n",
       "      <td>CONSOLO E ENCORAJAMENTO</td>\n",
       "      <td>46</td>\n",
       "    </tr>\n",
       "    <tr>\n",
       "      <th>654</th>\n",
       "      <td>GRANDE É O SENHOR E MUI  DIGNO DE SER LOUVADO</td>\n",
       "      <td>SALMOS DE LOUVOR</td>\n",
       "      <td>45</td>\n",
       "    </tr>\n",
       "    <tr>\n",
       "      <th>285</th>\n",
       "      <td>TU QUE ANDAS SÓ E TRISTE  SEM SABER O CAMINHO</td>\n",
       "      <td>MORTE, RESSURREIÇÃO E SALVAÇÃO</td>\n",
       "      <td>45</td>\n",
       "    </tr>\n",
       "    <tr>\n",
       "      <th>79</th>\n",
       "      <td>DEUS ESTÁ PRESENTE ENTRE  PECADORES COMO NÓS</td>\n",
       "      <td>INVOCAÇÃO E COMUNHÃO</td>\n",
       "      <td>44</td>\n",
       "    </tr>\n",
       "    <tr>\n",
       "      <th>493</th>\n",
       "      <td>COMO FOI PARA O CÉU, JESUS CRISTO HÁ DE VIR</td>\n",
       "      <td>VOLTA DE JESUS E ETERNIDADE</td>\n",
       "      <td>43</td>\n",
       "    </tr>\n",
       "    <tr>\n",
       "      <th>561</th>\n",
       "      <td>OUVI COMO QUE A VOZ DE  UMA GRANDE MULTIDÃO</td>\n",
       "      <td>VOLTA DE JESUS E ETERNIDADE</td>\n",
       "      <td>43</td>\n",
       "    </tr>\n",
       "    <tr>\n",
       "      <th>103</th>\n",
       "      <td>A MINH’ALMA ESTAVA LONGE  DO CAMINHO DO CÉU</td>\n",
       "      <td>DEDICAÇÃO</td>\n",
       "      <td>43</td>\n",
       "    </tr>\n",
       "    <tr>\n",
       "      <th>176</th>\n",
       "      <td>NÃO EXISTE OUTRO AMOR IGUAL AO TEU, SENHOR</td>\n",
       "      <td>DEDICAÇÃO</td>\n",
       "      <td>42</td>\n",
       "    </tr>\n",
       "  </tbody>\n",
       "</table>\n",
       "</div>"
      ],
      "text/plain": [
       "                                                  nome  \\\n",
       "numero                                                   \n",
       "612     SANTO, SANTO, SANTO,  Ó DEUS DE GLÓRIA E PODER   \n",
       "511     JESUS CRISTO VOLTARÁ COM  SEU GRANDE ESPLENDOR   \n",
       "323     DEUS ESTÁ PRESENTE  SEMPRE PRONTO A NOS AJUDAR   \n",
       "654      GRANDE É O SENHOR E MUI  DIGNO DE SER LOUVADO   \n",
       "285      TU QUE ANDAS SÓ E TRISTE  SEM SABER O CAMINHO   \n",
       "79        DEUS ESTÁ PRESENTE ENTRE  PECADORES COMO NÓS   \n",
       "493        COMO FOI PARA O CÉU, JESUS CRISTO HÁ DE VIR   \n",
       "561        OUVI COMO QUE A VOZ DE  UMA GRANDE MULTIDÃO   \n",
       "103        A MINH’ALMA ESTAVA LONGE  DO CAMINHO DO CÉU   \n",
       "176         NÃO EXISTE OUTRO AMOR IGUAL AO TEU, SENHOR   \n",
       "\n",
       "                             categoria  titulo_tam_real  \n",
       "numero                                                   \n",
       "612                             LOUVOR               46  \n",
       "511        VOLTA DE JESUS E ETERNIDADE               46  \n",
       "323            CONSOLO E ENCORAJAMENTO               46  \n",
       "654                   SALMOS DE LOUVOR               45  \n",
       "285     MORTE, RESSURREIÇÃO E SALVAÇÃO               45  \n",
       "79                INVOCAÇÃO E COMUNHÃO               44  \n",
       "493        VOLTA DE JESUS E ETERNIDADE               43  \n",
       "561        VOLTA DE JESUS E ETERNIDADE               43  \n",
       "103                          DEDICAÇÃO               43  \n",
       "176                          DEDICAÇÃO               42  "
      ]
     },
     "metadata": {},
     "output_type": "display_data"
    },
    {
     "name": "stdout",
     "output_type": "stream",
     "text": [
      "Top 10 menores títulos/subtítulos\n"
     ]
    },
    {
     "data": {
      "application/vnd.microsoft.datawrangler.viewer.v0+json": {
       "columns": [
        {
         "name": "numero",
         "rawType": "int64",
         "type": "integer"
        },
        {
         "name": "nome",
         "rawType": "object",
         "type": "string"
        },
        {
         "name": "categoria",
         "rawType": "object",
         "type": "string"
        },
        {
         "name": "titulo_tam_real",
         "rawType": "int64",
         "type": "integer"
        }
       ],
       "ref": "d6ad98e7-d9a8-4042-b638-8ceb27caae94",
       "rows": [
        [
         "475",
         "AGEU",
         "SANTIFICAÇÃO E DERRAMAMENTO DO ESPÍRITO SANTO",
         "4"
        ],
        [
         "704",
         "LÁZARO",
         "GRUPO DE LOUVOR",
         "6"
        ],
        [
         "645",
         "COROAI",
         "LOUVOR",
         "6"
        ],
        [
         "653",
         "ALELUIA",
         "SALMOS DE LOUVOR",
         "7"
        ],
        [
         "705",
         "GRATIDÃO",
         "GRUPO DE LOUVOR",
         "8"
        ],
        [
         "574",
         "ADORAREI",
         "LOUVOR",
         "8"
        ],
        [
         "219",
         "POR AMOR",
         "MORTE, RESSURREIÇÃO E SALVAÇÃO",
         "8"
        ],
        [
         "396",
         "ABBA PAI",
         "SANTIFICAÇÃO E DERRAMAMENTO DO ESPÍRITO SANTO",
         "8"
        ],
        [
         "358",
         "SALMO 23",
         "CONSOLO E ENCORAJAMENTO",
         "8"
        ],
        [
         "382",
         "VITÓRIAS",
         "CONSOLO E ENCORAJAMENTO",
         "8"
        ]
       ],
       "shape": {
        "columns": 3,
        "rows": 10
       }
      },
      "text/html": [
       "<div>\n",
       "<style scoped>\n",
       "    .dataframe tbody tr th:only-of-type {\n",
       "        vertical-align: middle;\n",
       "    }\n",
       "\n",
       "    .dataframe tbody tr th {\n",
       "        vertical-align: top;\n",
       "    }\n",
       "\n",
       "    .dataframe thead th {\n",
       "        text-align: right;\n",
       "    }\n",
       "</style>\n",
       "<table border=\"1\" class=\"dataframe\">\n",
       "  <thead>\n",
       "    <tr style=\"text-align: right;\">\n",
       "      <th></th>\n",
       "      <th>nome</th>\n",
       "      <th>categoria</th>\n",
       "      <th>titulo_tam_real</th>\n",
       "    </tr>\n",
       "    <tr>\n",
       "      <th>numero</th>\n",
       "      <th></th>\n",
       "      <th></th>\n",
       "      <th></th>\n",
       "    </tr>\n",
       "  </thead>\n",
       "  <tbody>\n",
       "    <tr>\n",
       "      <th>475</th>\n",
       "      <td>AGEU</td>\n",
       "      <td>SANTIFICAÇÃO E DERRAMAMENTO DO ESPÍRITO SANTO</td>\n",
       "      <td>4</td>\n",
       "    </tr>\n",
       "    <tr>\n",
       "      <th>704</th>\n",
       "      <td>LÁZARO</td>\n",
       "      <td>GRUPO DE LOUVOR</td>\n",
       "      <td>6</td>\n",
       "    </tr>\n",
       "    <tr>\n",
       "      <th>645</th>\n",
       "      <td>COROAI</td>\n",
       "      <td>LOUVOR</td>\n",
       "      <td>6</td>\n",
       "    </tr>\n",
       "    <tr>\n",
       "      <th>653</th>\n",
       "      <td>ALELUIA</td>\n",
       "      <td>SALMOS DE LOUVOR</td>\n",
       "      <td>7</td>\n",
       "    </tr>\n",
       "    <tr>\n",
       "      <th>705</th>\n",
       "      <td>GRATIDÃO</td>\n",
       "      <td>GRUPO DE LOUVOR</td>\n",
       "      <td>8</td>\n",
       "    </tr>\n",
       "    <tr>\n",
       "      <th>574</th>\n",
       "      <td>ADORAREI</td>\n",
       "      <td>LOUVOR</td>\n",
       "      <td>8</td>\n",
       "    </tr>\n",
       "    <tr>\n",
       "      <th>219</th>\n",
       "      <td>POR AMOR</td>\n",
       "      <td>MORTE, RESSURREIÇÃO E SALVAÇÃO</td>\n",
       "      <td>8</td>\n",
       "    </tr>\n",
       "    <tr>\n",
       "      <th>396</th>\n",
       "      <td>ABBA PAI</td>\n",
       "      <td>SANTIFICAÇÃO E DERRAMAMENTO DO ESPÍRITO SANTO</td>\n",
       "      <td>8</td>\n",
       "    </tr>\n",
       "    <tr>\n",
       "      <th>358</th>\n",
       "      <td>SALMO 23</td>\n",
       "      <td>CONSOLO E ENCORAJAMENTO</td>\n",
       "      <td>8</td>\n",
       "    </tr>\n",
       "    <tr>\n",
       "      <th>382</th>\n",
       "      <td>VITÓRIAS</td>\n",
       "      <td>CONSOLO E ENCORAJAMENTO</td>\n",
       "      <td>8</td>\n",
       "    </tr>\n",
       "  </tbody>\n",
       "</table>\n",
       "</div>"
      ],
      "text/plain": [
       "            nome                                      categoria  \\\n",
       "numero                                                            \n",
       "475         AGEU  SANTIFICAÇÃO E DERRAMAMENTO DO ESPÍRITO SANTO   \n",
       "704       LÁZARO                                GRUPO DE LOUVOR   \n",
       "645       COROAI                                         LOUVOR   \n",
       "653      ALELUIA                               SALMOS DE LOUVOR   \n",
       "705     GRATIDÃO                                GRUPO DE LOUVOR   \n",
       "574     ADORAREI                                         LOUVOR   \n",
       "219     POR AMOR                 MORTE, RESSURREIÇÃO E SALVAÇÃO   \n",
       "396     ABBA PAI  SANTIFICAÇÃO E DERRAMAMENTO DO ESPÍRITO SANTO   \n",
       "358     SALMO 23                        CONSOLO E ENCORAJAMENTO   \n",
       "382     VITÓRIAS                        CONSOLO E ENCORAJAMENTO   \n",
       "\n",
       "        titulo_tam_real  \n",
       "numero                   \n",
       "475                   4  \n",
       "704                   6  \n",
       "645                   6  \n",
       "653                   7  \n",
       "705                   8  \n",
       "574                   8  \n",
       "219                   8  \n",
       "396                   8  \n",
       "358                   8  \n",
       "382                   8  "
      ]
     },
     "metadata": {},
     "output_type": "display_data"
    }
   ],
   "source": [
    "# --- Análise dos tamanhos dos títulos e subtítulos ---\n",
    "# Calcula o tamanho real considerando também os subtítulos\n",
    "hinos_titulos[\"titulo_tam_real\"] = hinos_titulos[\"nome\"].str.len()\n",
    "\n",
    "# Exibe os 10 maiores e 10 menores títulos/subtítulos\n",
    "print(\"Top 10 maiores títulos/subtítulos\")\n",
    "display(hinos_titulos.sort_values(by=\"titulo_tam_real\", ascending=False).head(10))\n",
    "print(\"Top 10 menores títulos/subtítulos\")\n",
    "display(hinos_titulos.sort_values(by=\"titulo_tam_real\").head(10))"
   ]
  },
  {
   "cell_type": "markdown",
   "id": "da6dfbf1",
   "metadata": {},
   "source": [
    "---\n",
    "\n",
    "**Fim do notebook:** Finalizamos a análise dos títulos e subtítulos dos hinos. Os dados estão prontos para visualização, exportação ou estudos complementares."
   ]
  }
 ],
 "metadata": {
  "kernelspec": {
   "display_name": "jupyters",
   "language": "python",
   "name": "python3"
  },
  "language_info": {
   "codemirror_mode": {
    "name": "ipython",
    "version": 3
   },
   "file_extension": ".py",
   "mimetype": "text/x-python",
   "name": "python",
   "nbconvert_exporter": "python",
   "pygments_lexer": "ipython3",
   "version": "3.11.11"
  }
 },
 "nbformat": 4,
 "nbformat_minor": 5
}
