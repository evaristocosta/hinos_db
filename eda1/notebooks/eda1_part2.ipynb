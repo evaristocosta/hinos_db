{
 "cells": [
  {
   "cell_type": "markdown",
   "id": "5f4432f2",
   "metadata": {},
   "source": [
    "# EDA 1 | Parte 2 - Análise dos Títulos dos Hinos da ICM\n",
    "Este notebook explora os títulos dos hinos presentes na coletânea principal da Igreja Cristã Maranata.\n",
    "\n",
    "O objetivo é analisar padrões, tamanhos, e variações nos títulos e subtítulos, facilitando estudos sobre organização e identificação dos louvores.\n",
    "\n",
    "---\n",
    "**Conteúdo do notebook:**\n",
    "- Carregamento dos dados tratados na etapa anterior\n",
    "- Extração e limpeza dos títulos e subtítulos\n",
    "- Análise dos tamanhos dos títulos\n",
    "- Criação de DataFrame para títulos e subtítulos\n",
    "- Visualização dos maiores e menores títulos"
   ]
  },
  {
   "cell_type": "markdown",
   "id": "cf4691b4",
   "metadata": {},
   "source": [
    "---\n",
    "\n",
    "**A seguir:** Carregamento do DataFrame com os dados dos hinos, previamente tratados e salvos na etapa anterior."
   ]
  },
  {
   "cell_type": "code",
   "execution_count": null,
   "id": "993294d7",
   "metadata": {},
   "outputs": [],
   "source": [
    "# --- Carregamento dos dados dos hinos tratados ---\n",
    "import pandas as pd\n",
    "from pathlib import Path\n",
    "\n",
    "# Define a pasta de assets e carrega o DataFrame dos hinos\n",
    "assets_folder = Path(\"../assets\")\n",
    "hinos_analise: pd.DataFrame = pd.read_pickle(assets_folder / \"hinos_analise.pkl\")\n",
    "\n",
    "# Exibe os primeiros registros para conferência\n",
    "hinos_analise.head()"
   ]
  },
  {
   "cell_type": "markdown",
   "id": "8aed0347",
   "metadata": {},
   "source": [
    "---\n",
    "\n",
    "**A seguir:** Seleção das colunas relevantes (número, nome, categoria) e definição do índice para facilitar a análise dos títulos."
   ]
  },
  {
   "cell_type": "code",
   "execution_count": null,
   "id": "4438cfd5",
   "metadata": {},
   "outputs": [],
   "source": [
    "# --- Seleção das colunas relevantes e definição do índice ---\n",
    "# Mantém apenas número, nome e categoria para análise dos títulos\n",
    "hinos_analise = hinos_analise[[\"numero\", \"nome\", \"categoria\"]].set_index(\"numero\")\n",
    "\n",
    "# Exibe os dados filtrados\n",
    "hinos_analise.head()"
   ]
  },
  {
   "cell_type": "markdown",
   "id": "3303222b",
   "metadata": {},
   "source": [
    "---\n",
    "\n",
    "**A seguir:** Extração dos subtítulos presentes entre parênteses e limpeza dos títulos, separando o nome principal do subtítulo para análise detalhada."
   ]
  },
  {
   "cell_type": "code",
   "execution_count": null,
   "id": "5f6b8915",
   "metadata": {},
   "outputs": [],
   "source": [
    "# --- Extração e limpeza dos subtítulos dos hinos ---\n",
    "# Extrai subtítulos entre parênteses e limpa a coluna \"nome\"\n",
    "hinos_analise[\"subtitulo\"] = (\n",
    "    hinos_analise[\"nome\"].str.extract(r\"\\((.*?)\\)\").squeeze().str.strip()\n",
    ")\n",
    "hinos_analise[\"nome\"] = hinos_analise[\"nome\"].str.replace(\n",
    "    r\"\\s*\\(.*?\\)\\s*\", \"\", regex=True\n",
    ")\n",
    "\n",
    "# Exibe hinos que possuem subtítulo\n",
    "hinos_analise[~hinos_analise[\"subtitulo\"].isna()].head()"
   ]
  },
  {
   "cell_type": "markdown",
   "id": "de9671fe",
   "metadata": {},
   "source": [
    "---\n",
    "\n",
    "**A seguir:** Cálculo do tamanho dos títulos (sem subtítulo) e exibição dos 10 maiores e 10 menores títulos para identificar padrões e curiosidades."
   ]
  },
  {
   "cell_type": "code",
   "execution_count": null,
   "id": "4f53acbc",
   "metadata": {},
   "outputs": [],
   "source": [
    "# --- Análise dos tamanhos dos títulos (sem subtítulo) ---\n",
    "# Calcula o tamanho real dos títulos\n",
    "hinos_analise[\"titulo_tam_real\"] = hinos_analise[\"nome\"].str.len()\n",
    "\n",
    "# Exibe os 10 maiores e 10 menores títulos\n",
    "print(\"Top 10 maiores títulos\")\n",
    "display(hinos_analise.sort_values(by=\"titulo_tam_real\", ascending=False).head(10))\n",
    "print(\"Top 10 menores títulos\")\n",
    "display(hinos_analise.sort_values(by=\"titulo_tam_real\").head(10))"
   ]
  },
  {
   "cell_type": "markdown",
   "id": "f259e2ad",
   "metadata": {},
   "source": [
    "---\n",
    "\n",
    "**A seguir:** Criação de um novo DataFrame que reúne títulos e subtítulos em uma única coluna, permitindo análises comparativas entre ambos."
   ]
  },
  {
   "cell_type": "code",
   "execution_count": null,
   "id": "f270cc1a",
   "metadata": {},
   "outputs": [],
   "source": [
    "# --- Criação de DataFrame para títulos e subtítulos ---\n",
    "# Junta títulos e subtítulos em uma única coluna para análise comparativa\n",
    "hinos_titulos = pd.concat(\n",
    "    [\n",
    "        hinos_analise[[\"subtitulo\", \"categoria\"]].rename(columns={\"subtitulo\": \"nome\"}),\n",
    "        hinos_analise[[\"nome\", \"categoria\"]],\n",
    "    ]\n",
    ").dropna()\n",
    "\n",
    "# Exibe amostra do novo DataFrame\n",
    "hinos_titulos.head()"
   ]
  },
  {
   "cell_type": "markdown",
   "id": "17d456f2",
   "metadata": {},
   "source": [
    "---\n",
    "\n",
    "**A seguir:** Análise dos tamanhos dos títulos considerando também os subtítulos, exibindo os maiores e menores para comparação."
   ]
  },
  {
   "cell_type": "code",
   "execution_count": null,
   "id": "0c84dac3",
   "metadata": {},
   "outputs": [],
   "source": [
    "# --- Análise dos tamanhos dos títulos e subtítulos ---\n",
    "# Calcula o tamanho real considerando também os subtítulos\n",
    "hinos_titulos[\"titulo_tam_real\"] = hinos_titulos[\"nome\"].str.len()\n",
    "\n",
    "# Exibe os 10 maiores e 10 menores títulos/subtítulos\n",
    "print(\"Top 10 maiores títulos/subtítulos\")\n",
    "display(hinos_titulos.sort_values(by=\"titulo_tam_real\", ascending=False).head(10))\n",
    "print(\"Top 10 menores títulos/subtítulos\")\n",
    "display(hinos_titulos.sort_values(by=\"titulo_tam_real\").head(10))"
   ]
  },
  {
   "cell_type": "markdown",
   "id": "da6dfbf1",
   "metadata": {},
   "source": [
    "---\n",
    "\n",
    "**Fim do notebook:** Finalizamos a análise dos títulos e subtítulos dos hinos. Os dados estão prontos para visualização, exportação ou estudos complementares."
   ]
  }
 ],
 "metadata": {
  "kernelspec": {
   "display_name": "jupyters",
   "language": "python",
   "name": "python3"
  },
  "language_info": {
   "codemirror_mode": {
    "name": "ipython",
    "version": 3
   },
   "file_extension": ".py",
   "mimetype": "text/x-python",
   "name": "python",
   "nbconvert_exporter": "python",
   "pygments_lexer": "ipython3",
   "version": "3.11.11"
  }
 },
 "nbformat": 4,
 "nbformat_minor": 5
}
