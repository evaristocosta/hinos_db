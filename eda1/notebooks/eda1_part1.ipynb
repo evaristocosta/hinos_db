{
 "cells": [
  {
   "cell_type": "markdown",
   "metadata": {},
   "source": [
    "# EDA 1 - Exploração da Coletânea Principal de Hinos da ICM\n",
    "\n",
    "Nessa exploração de dados, o objetivo é obter informações sobre a Coletânea de Hinos da Igreja Cristã Maranata (ICM) - Edição 2018.\n",
    "\n",
    "O objetivo é fornecer uma visão geral dos hinos, suas categorias, e aspectos relevantes para pesquisadores, músicos e interessados na música da ICM.\n",
    "\n",
    "Como descrito na própria coletânea:\n",
    "> Os hinos e louvores, editados nesta Coletânea, englobam partes de outras edições já publicadas que expressam gratidão, adoração e louvor ao nosso Deus, entoados em todas épocas vividas pela Igreja Fiel, momento também comemorado pela Igreja Cristã Maranata em seus cinquenta anos de existência. \n",
    "\n",
    "## Origem dos dados\n",
    "\n",
    "A extração de dados para construção da base tem por primeira origem os slides oficiais disponibilizados pelo [Departamento de Louvor da ICM](https://louvoricm.org.br/downloads/). Outros processos manuais foram necessários, e estão disponíveis neste repositório.\n",
    "\n",
    "## Organização\n",
    "\n",
    "Este é o primeiro de oito notebooks, cada um aprofundando diferentes aspectos da análise exploratória dos dados.\n",
    "\n",
    "---\n",
    "**Conteúdo do notebook:**\n",
    "- Introdução e contexto dos dados\n",
    "- Carregamento dos dados da coletânea\n",
    "- Limpeza e preparação dos dados\n",
    "- Análise das categorias de hinos\n",
    "- Visualização dos resultados\n",
    "- Exportação dos dados tratados"
   ]
  },
  {
   "cell_type": "markdown",
   "metadata": {},
   "source": [
    "---\n",
    "\n",
    "**A seguir:** Importação das bibliotecas e conexão com o banco de dados SQLite que contém os hinos extraídos da coletânea."
   ]
  },
  {
   "cell_type": "code",
   "execution_count": 1,
   "metadata": {},
   "outputs": [],
   "source": [
    "# --- Conexão com o banco de dados SQLite ---\n",
    "from sqlalchemy import create_engine\n",
    "\n",
    "# Cria engine para acessar o banco de dados local (assets/database.db)\n",
    "engine = create_engine(\"sqlite:///../assets/database.db\")\n",
    "connection = engine.connect()"
   ]
  },
  {
   "cell_type": "markdown",
   "metadata": {},
   "source": [
    "---\n",
    "\n",
    "**A seguir:** Consulta SQL para extrair os dados dos hinos, incluindo número, nome, texto, categoria e descrição da categoria. Os dados são carregados em um DataFrame para análise."
   ]
  },
  {
   "cell_type": "code",
   "execution_count": 2,
   "metadata": {},
   "outputs": [
    {
     "data": {
      "application/vnd.microsoft.datawrangler.viewer.v0+json": {
       "columns": [
        {
         "name": "index",
         "rawType": "int64",
         "type": "integer"
        },
        {
         "name": "numero",
         "rawType": "object",
         "type": "string"
        },
        {
         "name": "nome",
         "rawType": "object",
         "type": "string"
        },
        {
         "name": "texto",
         "rawType": "object",
         "type": "string"
        },
        {
         "name": "texto_limpo",
         "rawType": "object",
         "type": "string"
        },
        {
         "name": "categoria_id",
         "rawType": "int64",
         "type": "integer"
        },
        {
         "name": "categoria",
         "rawType": "object",
         "type": "string"
        }
       ],
       "ref": "1d52259e-d3fd-4fae-a2d9-2e1a3b80b4ea",
       "rows": [
        [
         "0",
         "01",
         "O SANGUE DE JESUS TEM PODER",
         "O SANGUE DE JESUS TEM PODER,\\nPODER QUE A MIM PODE VALER,\\nSE COMUNHÃO NÃO POSSO EU SENTIR, SENHOR,\\nDERRAMA DO TEU SANGUE REMIDOR.\\n\\nCORO\\nDERRAMA DO TEU SANGUE SOBRE MIM, Ó SENHOR,\\nDERRAMA DO TEU SANGUE SOBRE MIM, Ó SENHOR,\\nSEI QUE ESTÁS AQUI E ISTO QUERO EU SENTIR,\\nDERRAMA DO TEU SANGUE SOBRE MIM.\\n\\nEM TUA PRESENÇA ESTOU, SENHOR,\\nDE TI NECESSITO MUITO AMOR,\\nPELO PODER QUE HÁ EM TEU SANGUE REMIDOR,\\nÓ VEM PURIFICAR-ME, MEU SENHOR.\\n\\nCORO\\nDERRAMA DO TEU SANGUE SOBRE MIM, Ó SENHOR,\\nDERRAMA DO TEU SANGUE SOBRE MIM, Ó SENHOR,\\nSEI QUE ESTÁS AQUI E ISTO QUERO EU SENTIR,\\nDERRAMA DO TEU SANGUE SOBRE MIM.",
         "O SANGUE DE JESUS TEM PODER, PODER QUE A MIM PODE VALER, SE COMUNHÃO NÃO POSSO EU SENTIR, SENHOR, DERRAMA DO TEU SANGUE REMIDOR. DERRAMA DO TEU SANGUE SOBRE MIM, Ó SENHOR, DERRAMA DO TEU SANGUE SOBRE MIM, Ó SENHOR, SEI QUE ESTÁS AQUI E ISTO QUERO EU SENTIR, DERRAMA DO TEU SANGUE SOBRE MIM. EM TUA PRESENÇA ESTOU, SENHOR, DE TI NECESSITO MUITO AMOR, PELO PODER QUE HÁ EM TEU SANGUE REMIDOR, Ó VEM PURIFICAR-ME, MEU SENHOR. DERRAMA DO TEU SANGUE SOBRE MIM, Ó SENHOR, DERRAMA DO TEU SANGUE SOBRE MIM, Ó SENHOR, SEI QUE ESTÁS AQUI E ISTO QUERO EU SENTIR, DERRAMA DO TEU SANGUE SOBRE MIM.",
         "1",
         "CLAMOR"
        ],
        [
         "1",
         "02",
         "O SANGUE DE JESUS TEM PODER PARA SALVAR",
         "O SANGUE DE JESUS TEM PODER (2x)\\nO SANGUE DE JESUS, O SANGUE DE JESUS,\\nO SANGUE DE JESUS TEM PODER.\\n\\nO SANGUE DE JESUS TEM PODER PARA SALVAR,\\nO SANGUE DE JESUS TEM PODER PARA CURAR,\\nO SANGUE DE JESUS, O SANGUE DE JESUS\\nTEM PODER PARA O OPRIMIDO LIBERTAR.",
         "O SANGUE DE JESUS TEM PODER O SANGUE DE JESUS, O SANGUE DE JESUS, O SANGUE DE JESUS TEM PODER. O SANGUE DE JESUS TEM PODER PARA SALVAR, O SANGUE DE JESUS TEM PODER PARA CURAR, O SANGUE DE JESUS, O SANGUE DE JESUS TEM PODER PARA O OPRIMIDO LIBERTAR.",
         "1",
         "CLAMOR"
        ],
        [
         "2",
         "03",
         "CLAMO A TI",
         "CLAMO A TI, Ó MEU SENHOR,\\nCLAMO A TI, MEU SALVADOR,\\nPELO TEU SANGUE, QUE É VIDA,\\nÓ BENDITO, VEM ME LIBERTAR. \\n\\nQUANDO ALÉM DO VÉU ENTRAR,\\nIREI TE DAR TODO O MEU SER,\t\\nEM TUA PRESENÇA, TE ADORAR,\\nTE BENDIZER.\t \\nREPETIR A 1ª ESTROFE 1X\\nBIS",
         "CLAMO A TI, Ó MEU SENHOR, CLAMO A TI, MEU SALVADOR, PELO TEU SANGUE, QUE É VIDA, Ó BENDITO, VEM ME LIBERTAR. QUANDO ALÉM DO VÉU ENTRAR, IREI TE DAR TODO O MEU SER, EM TUA PRESENÇA, TE ADORAR, TE BENDIZER.",
         "1",
         "CLAMOR"
        ],
        [
         "3",
         "04",
         "QUANDO TE PROSTRARES",
         "QUANDO TE PROSTRARES DIANTE DE DEUS,\\nLEMBRA QUE JESUS ESTÁ CONTIGO, \\nPEDE SEU AUXÍLIO, PEDE SEU PERDÃO \\nLEMBRA QUE JESUS É TEU ABRIGO.\\nBIS\\n\\nDEIXA QUE O SENHOR\\nMUDE O TEU VIVER;\\nLEMBRA QUE JESUS É TEU AMIGO.\\n\\nVENHA SOBRE NÓS, \\n(Ó DEUS) VARÕES\\nVENHA SOBRE NÓS, \\nSEJA SOBRE NÓS A TUA GRAÇA.\\nBIS",
         "QUANDO TE PROSTRARES DIANTE DE DEUS, LEMBRA QUE JESUS ESTÁ CONTIGO, PEDE SEU AUXÍLIO, PEDE SEU PERDÃO LEMBRA QUE JESUS É TEU ABRIGO. DEIXA QUE O SENHOR MUDE O TEU VIVER; LEMBRA QUE JESUS É TEU AMIGO. VENHA SOBRE NÓS, (Ó DEUS) VARÕES VENHA SOBRE NÓS, SEJA SOBRE NÓS A TUA GRAÇA.",
         "1",
         "CLAMOR"
        ],
        [
         "4",
         "05",
         "CLAMANDO ESTOU",
         "CLAMANDO ESTOU, Ó MEU JESUS,\\nPOR TEU SANGUE REMIDOR;\\nSOCORRO EU SEI QUE MANDARÁS\\nE LIVRAMENTO A MIM.\\n\\nTEU SANGUE PURO DERRAMASTE\\nPARA ME PURIFICAR;\\nENTÃO ADORAREI A TI,\\nÓ MEU SENHOR.",
         "CLAMANDO ESTOU, Ó MEU JESUS, POR TEU SANGUE REMIDOR; SOCORRO EU SEI QUE MANDARÁS E LIVRAMENTO A MIM. TEU SANGUE PURO DERRAMASTE PARA ME PURIFICAR; ENTÃO ADORAREI A TI, Ó MEU SENHOR.",
         "1",
         "CLAMOR"
        ]
       ],
       "shape": {
        "columns": 6,
        "rows": 5
       }
      },
      "text/html": [
       "<div>\n",
       "<style scoped>\n",
       "    .dataframe tbody tr th:only-of-type {\n",
       "        vertical-align: middle;\n",
       "    }\n",
       "\n",
       "    .dataframe tbody tr th {\n",
       "        vertical-align: top;\n",
       "    }\n",
       "\n",
       "    .dataframe thead th {\n",
       "        text-align: right;\n",
       "    }\n",
       "</style>\n",
       "<table border=\"1\" class=\"dataframe\">\n",
       "  <thead>\n",
       "    <tr style=\"text-align: right;\">\n",
       "      <th></th>\n",
       "      <th>numero</th>\n",
       "      <th>nome</th>\n",
       "      <th>texto</th>\n",
       "      <th>texto_limpo</th>\n",
       "      <th>categoria_id</th>\n",
       "      <th>categoria</th>\n",
       "    </tr>\n",
       "  </thead>\n",
       "  <tbody>\n",
       "    <tr>\n",
       "      <th>0</th>\n",
       "      <td>01</td>\n",
       "      <td>O SANGUE DE JESUS TEM PODER</td>\n",
       "      <td>O SANGUE DE JESUS TEM PODER,\\nPODER QUE A MIM ...</td>\n",
       "      <td>O SANGUE DE JESUS TEM PODER, PODER QUE A MIM P...</td>\n",
       "      <td>1</td>\n",
       "      <td>CLAMOR</td>\n",
       "    </tr>\n",
       "    <tr>\n",
       "      <th>1</th>\n",
       "      <td>02</td>\n",
       "      <td>O SANGUE DE JESUS TEM PODER PARA SALVAR</td>\n",
       "      <td>O SANGUE DE JESUS TEM PODER (2x)\\nO SANGUE DE ...</td>\n",
       "      <td>O SANGUE DE JESUS TEM PODER O SANGUE DE JESUS,...</td>\n",
       "      <td>1</td>\n",
       "      <td>CLAMOR</td>\n",
       "    </tr>\n",
       "    <tr>\n",
       "      <th>2</th>\n",
       "      <td>03</td>\n",
       "      <td>CLAMO A TI</td>\n",
       "      <td>CLAMO A TI, Ó MEU SENHOR,\\nCLAMO A TI, MEU SAL...</td>\n",
       "      <td>CLAMO A TI, Ó MEU SENHOR, CLAMO A TI, MEU SALV...</td>\n",
       "      <td>1</td>\n",
       "      <td>CLAMOR</td>\n",
       "    </tr>\n",
       "    <tr>\n",
       "      <th>3</th>\n",
       "      <td>04</td>\n",
       "      <td>QUANDO TE PROSTRARES</td>\n",
       "      <td>QUANDO TE PROSTRARES DIANTE DE DEUS,\\nLEMBRA Q...</td>\n",
       "      <td>QUANDO TE PROSTRARES DIANTE DE DEUS, LEMBRA QU...</td>\n",
       "      <td>1</td>\n",
       "      <td>CLAMOR</td>\n",
       "    </tr>\n",
       "    <tr>\n",
       "      <th>4</th>\n",
       "      <td>05</td>\n",
       "      <td>CLAMANDO ESTOU</td>\n",
       "      <td>CLAMANDO ESTOU, Ó MEU JESUS,\\nPOR TEU SANGUE R...</td>\n",
       "      <td>CLAMANDO ESTOU, Ó MEU JESUS, POR TEU SANGUE RE...</td>\n",
       "      <td>1</td>\n",
       "      <td>CLAMOR</td>\n",
       "    </tr>\n",
       "  </tbody>\n",
       "</table>\n",
       "</div>"
      ],
      "text/plain": [
       "  numero                                     nome  \\\n",
       "0     01              O SANGUE DE JESUS TEM PODER   \n",
       "1     02  O SANGUE DE JESUS TEM PODER PARA SALVAR   \n",
       "2     03                               CLAMO A TI   \n",
       "3     04                     QUANDO TE PROSTRARES   \n",
       "4     05                           CLAMANDO ESTOU   \n",
       "\n",
       "                                               texto  \\\n",
       "0  O SANGUE DE JESUS TEM PODER,\\nPODER QUE A MIM ...   \n",
       "1  O SANGUE DE JESUS TEM PODER (2x)\\nO SANGUE DE ...   \n",
       "2  CLAMO A TI, Ó MEU SENHOR,\\nCLAMO A TI, MEU SAL...   \n",
       "3  QUANDO TE PROSTRARES DIANTE DE DEUS,\\nLEMBRA Q...   \n",
       "4  CLAMANDO ESTOU, Ó MEU JESUS,\\nPOR TEU SANGUE R...   \n",
       "\n",
       "                                         texto_limpo  categoria_id categoria  \n",
       "0  O SANGUE DE JESUS TEM PODER, PODER QUE A MIM P...             1    CLAMOR  \n",
       "1  O SANGUE DE JESUS TEM PODER O SANGUE DE JESUS,...             1    CLAMOR  \n",
       "2  CLAMO A TI, Ó MEU SENHOR, CLAMO A TI, MEU SALV...             1    CLAMOR  \n",
       "3  QUANDO TE PROSTRARES DIANTE DE DEUS, LEMBRA QU...             1    CLAMOR  \n",
       "4  CLAMANDO ESTOU, Ó MEU JESUS, POR TEU SANGUE RE...             1    CLAMOR  "
      ]
     },
     "execution_count": 2,
     "metadata": {},
     "output_type": "execute_result"
    }
   ],
   "source": [
    "# --- Consulta SQL: Seleção dos hinos da coletânea principal ---\n",
    "import pandas as pd\n",
    "\n",
    "# Monta a query para buscar hinos e suas categorias\n",
    "sql_query = \"\"\"\n",
    "select\n",
    "    numero,\n",
    "    nome,\n",
    "    texto,\n",
    "    texto_limpo,\n",
    "    categoria_id,\n",
    "    c.descricao as categoria\n",
    "from \n",
    "    hino\n",
    "    left join categoria c on c.id = categoria_id\n",
    "where\n",
    "    coletanea_id = 1 -- hinos da coletanea padrao\n",
    "\"\"\"\n",
    "\n",
    "# Executa a consulta e carrega em um DataFrame\n",
    "hinos_analise = pd.read_sql_query(sql_query, connection)\n",
    "\n",
    "# Exibe os primeiros registros para conferência\n",
    "hinos_analise.head()"
   ]
  },
  {
   "cell_type": "markdown",
   "metadata": {},
   "source": [
    "---\n",
    "\n",
    "**A seguir:** Limpeza dos dados: ajusta o campo de número dos hinos, converte para inteiro, renomeia colunas e ordena os hinos para facilitar a análise."
   ]
  },
  {
   "cell_type": "code",
   "execution_count": 3,
   "metadata": {},
   "outputs": [
    {
     "data": {
      "application/vnd.microsoft.datawrangler.viewer.v0+json": {
       "columns": [
        {
         "name": "index",
         "rawType": "int64",
         "type": "integer"
        },
        {
         "name": "nome",
         "rawType": "object",
         "type": "string"
        },
        {
         "name": "texto",
         "rawType": "object",
         "type": "string"
        },
        {
         "name": "texto_limpo",
         "rawType": "object",
         "type": "string"
        },
        {
         "name": "categoria_id",
         "rawType": "int64",
         "type": "integer"
        },
        {
         "name": "categoria",
         "rawType": "object",
         "type": "string"
        },
        {
         "name": "numero",
         "rawType": "int64",
         "type": "integer"
        }
       ],
       "ref": "36d566aa-0433-4e11-8597-90d81ddf8143",
       "rows": [
        [
         "794",
         "AQUILO QUE FUI NÃO SOU MAIS",
         "AQUILO QUE FUI NÃO SOU MAIS,\\nNEM SOU TUDO O QUE DEVO SER;\\nJÁ SOU PELA GRAÇA O QUE SOU\\nE AO VÊ-LO ESTOU CERTO QUE VOU\\nNA GLÓRIA DE CRISTO VIVER\\n\\nCORO\\nMARANATA, MARANATA\\nEM BREVE O SENHOR VOLTARÁ;\\nMARANATA, MARANATA,\\nELE MESMO VIRÁ NOS BUSCAR.\\n\\nEU MORTO PENSEI QUE VIVIA,\\nJÁ VIVO E COM CRISTO MORRI;\\nPARA ELE, ESTOU RESSUSCITADO,\\nPARA O MUNDO, ESTOU CRUCIFICADO;\\nMINHA VIDA EM JESUS ESCONDI.\\n\\nCORO\\nMARANATA, MARANATA\\nEM BREVE O SENHOR VOLTARÁ;\\nMARANATA, MARANATA,\\nELE MESMO VIRÁ NOS BUSCAR.\\n\\nMINH’ALMA GOZANDO RIQUEZAS,\\nTESOUROS QUE O MUNDO NÃO DÁ,\\nCAMINHA NA DOCE ESPERANÇA,\\nDÁ VIDA EM ETERNA BONANÇA,\\nNA GLÓRIA ONDE JESUS ESTÁ.\\n\\nCORO\\nMARANATA, MARANATA\\nEM BREVE O SENHOR VOLTARÁ;\\nMARANATA, MARANATA,\\nELE MESMO VIRÁ NOS BUSCAR.",
         "AQUILO QUE FUI NÃO SOU MAIS, NEM SOU TUDO O QUE DEVO SER; JÁ SOU PELA GRAÇA O QUE SOU E AO VÊ-LO ESTOU CERTO QUE VOU NA GLÓRIA DE CRISTO VIVER MARANATA, MARANATA EM BREVE O SENHOR VOLTARÁ; MARANATA, MARANATA, ELE MESMO VIRÁ NOS BUSCAR. EU MORTO PENSEI QUE VIVIA, JÁ VIVO E COM CRISTO MORRI; PARA ELE, ESTOU RESSUSCITADO, PARA O MUNDO, ESTOU CRUCIFICADO; MINHA VIDA EM JESUS ESCONDI. MARANATA, MARANATA EM BREVE O SENHOR VOLTARÁ; MARANATA, MARANATA, ELE MESMO VIRÁ NOS BUSCAR. MINH’ALMA GOZANDO RIQUEZAS, TESOUROS QUE O MUNDO NÃO DÁ, CAMINHA NA DOCE ESPERANÇA, DÁ VIDA EM ETERNA BONANÇA, NA GLÓRIA ONDE JESUS ESTÁ. MARANATA, MARANATA EM BREVE O SENHOR VOLTARÁ; MARANATA, MARANATA, ELE MESMO VIRÁ NOS BUSCAR.",
         "1",
         "CLAMOR",
         "0"
        ],
        [
         "0",
         "O SANGUE DE JESUS TEM PODER",
         "O SANGUE DE JESUS TEM PODER,\\nPODER QUE A MIM PODE VALER,\\nSE COMUNHÃO NÃO POSSO EU SENTIR, SENHOR,\\nDERRAMA DO TEU SANGUE REMIDOR.\\n\\nCORO\\nDERRAMA DO TEU SANGUE SOBRE MIM, Ó SENHOR,\\nDERRAMA DO TEU SANGUE SOBRE MIM, Ó SENHOR,\\nSEI QUE ESTÁS AQUI E ISTO QUERO EU SENTIR,\\nDERRAMA DO TEU SANGUE SOBRE MIM.\\n\\nEM TUA PRESENÇA ESTOU, SENHOR,\\nDE TI NECESSITO MUITO AMOR,\\nPELO PODER QUE HÁ EM TEU SANGUE REMIDOR,\\nÓ VEM PURIFICAR-ME, MEU SENHOR.\\n\\nCORO\\nDERRAMA DO TEU SANGUE SOBRE MIM, Ó SENHOR,\\nDERRAMA DO TEU SANGUE SOBRE MIM, Ó SENHOR,\\nSEI QUE ESTÁS AQUI E ISTO QUERO EU SENTIR,\\nDERRAMA DO TEU SANGUE SOBRE MIM.",
         "O SANGUE DE JESUS TEM PODER, PODER QUE A MIM PODE VALER, SE COMUNHÃO NÃO POSSO EU SENTIR, SENHOR, DERRAMA DO TEU SANGUE REMIDOR. DERRAMA DO TEU SANGUE SOBRE MIM, Ó SENHOR, DERRAMA DO TEU SANGUE SOBRE MIM, Ó SENHOR, SEI QUE ESTÁS AQUI E ISTO QUERO EU SENTIR, DERRAMA DO TEU SANGUE SOBRE MIM. EM TUA PRESENÇA ESTOU, SENHOR, DE TI NECESSITO MUITO AMOR, PELO PODER QUE HÁ EM TEU SANGUE REMIDOR, Ó VEM PURIFICAR-ME, MEU SENHOR. DERRAMA DO TEU SANGUE SOBRE MIM, Ó SENHOR, DERRAMA DO TEU SANGUE SOBRE MIM, Ó SENHOR, SEI QUE ESTÁS AQUI E ISTO QUERO EU SENTIR, DERRAMA DO TEU SANGUE SOBRE MIM.",
         "1",
         "CLAMOR",
         "1"
        ],
        [
         "1",
         "O SANGUE DE JESUS TEM PODER PARA SALVAR",
         "O SANGUE DE JESUS TEM PODER (2x)\\nO SANGUE DE JESUS, O SANGUE DE JESUS,\\nO SANGUE DE JESUS TEM PODER.\\n\\nO SANGUE DE JESUS TEM PODER PARA SALVAR,\\nO SANGUE DE JESUS TEM PODER PARA CURAR,\\nO SANGUE DE JESUS, O SANGUE DE JESUS\\nTEM PODER PARA O OPRIMIDO LIBERTAR.",
         "O SANGUE DE JESUS TEM PODER O SANGUE DE JESUS, O SANGUE DE JESUS, O SANGUE DE JESUS TEM PODER. O SANGUE DE JESUS TEM PODER PARA SALVAR, O SANGUE DE JESUS TEM PODER PARA CURAR, O SANGUE DE JESUS, O SANGUE DE JESUS TEM PODER PARA O OPRIMIDO LIBERTAR.",
         "1",
         "CLAMOR",
         "2"
        ],
        [
         "2",
         "CLAMO A TI",
         "CLAMO A TI, Ó MEU SENHOR,\\nCLAMO A TI, MEU SALVADOR,\\nPELO TEU SANGUE, QUE É VIDA,\\nÓ BENDITO, VEM ME LIBERTAR. \\n\\nQUANDO ALÉM DO VÉU ENTRAR,\\nIREI TE DAR TODO O MEU SER,\t\\nEM TUA PRESENÇA, TE ADORAR,\\nTE BENDIZER.\t \\nREPETIR A 1ª ESTROFE 1X\\nBIS",
         "CLAMO A TI, Ó MEU SENHOR, CLAMO A TI, MEU SALVADOR, PELO TEU SANGUE, QUE É VIDA, Ó BENDITO, VEM ME LIBERTAR. QUANDO ALÉM DO VÉU ENTRAR, IREI TE DAR TODO O MEU SER, EM TUA PRESENÇA, TE ADORAR, TE BENDIZER.",
         "1",
         "CLAMOR",
         "3"
        ],
        [
         "3",
         "QUANDO TE PROSTRARES",
         "QUANDO TE PROSTRARES DIANTE DE DEUS,\\nLEMBRA QUE JESUS ESTÁ CONTIGO, \\nPEDE SEU AUXÍLIO, PEDE SEU PERDÃO \\nLEMBRA QUE JESUS É TEU ABRIGO.\\nBIS\\n\\nDEIXA QUE O SENHOR\\nMUDE O TEU VIVER;\\nLEMBRA QUE JESUS É TEU AMIGO.\\n\\nVENHA SOBRE NÓS, \\n(Ó DEUS) VARÕES\\nVENHA SOBRE NÓS, \\nSEJA SOBRE NÓS A TUA GRAÇA.\\nBIS",
         "QUANDO TE PROSTRARES DIANTE DE DEUS, LEMBRA QUE JESUS ESTÁ CONTIGO, PEDE SEU AUXÍLIO, PEDE SEU PERDÃO LEMBRA QUE JESUS É TEU ABRIGO. DEIXA QUE O SENHOR MUDE O TEU VIVER; LEMBRA QUE JESUS É TEU AMIGO. VENHA SOBRE NÓS, (Ó DEUS) VARÕES VENHA SOBRE NÓS, SEJA SOBRE NÓS A TUA GRAÇA.",
         "1",
         "CLAMOR",
         "4"
        ]
       ],
       "shape": {
        "columns": 6,
        "rows": 5
       }
      },
      "text/html": [
       "<div>\n",
       "<style scoped>\n",
       "    .dataframe tbody tr th:only-of-type {\n",
       "        vertical-align: middle;\n",
       "    }\n",
       "\n",
       "    .dataframe tbody tr th {\n",
       "        vertical-align: top;\n",
       "    }\n",
       "\n",
       "    .dataframe thead th {\n",
       "        text-align: right;\n",
       "    }\n",
       "</style>\n",
       "<table border=\"1\" class=\"dataframe\">\n",
       "  <thead>\n",
       "    <tr style=\"text-align: right;\">\n",
       "      <th></th>\n",
       "      <th>nome</th>\n",
       "      <th>texto</th>\n",
       "      <th>texto_limpo</th>\n",
       "      <th>categoria_id</th>\n",
       "      <th>categoria</th>\n",
       "      <th>numero</th>\n",
       "    </tr>\n",
       "  </thead>\n",
       "  <tbody>\n",
       "    <tr>\n",
       "      <th>794</th>\n",
       "      <td>AQUILO QUE FUI NÃO SOU MAIS</td>\n",
       "      <td>AQUILO QUE FUI NÃO SOU MAIS,\\nNEM SOU TUDO O Q...</td>\n",
       "      <td>AQUILO QUE FUI NÃO SOU MAIS, NEM SOU TUDO O QU...</td>\n",
       "      <td>1</td>\n",
       "      <td>CLAMOR</td>\n",
       "      <td>0</td>\n",
       "    </tr>\n",
       "    <tr>\n",
       "      <th>0</th>\n",
       "      <td>O SANGUE DE JESUS TEM PODER</td>\n",
       "      <td>O SANGUE DE JESUS TEM PODER,\\nPODER QUE A MIM ...</td>\n",
       "      <td>O SANGUE DE JESUS TEM PODER, PODER QUE A MIM P...</td>\n",
       "      <td>1</td>\n",
       "      <td>CLAMOR</td>\n",
       "      <td>1</td>\n",
       "    </tr>\n",
       "    <tr>\n",
       "      <th>1</th>\n",
       "      <td>O SANGUE DE JESUS TEM PODER PARA SALVAR</td>\n",
       "      <td>O SANGUE DE JESUS TEM PODER (2x)\\nO SANGUE DE ...</td>\n",
       "      <td>O SANGUE DE JESUS TEM PODER O SANGUE DE JESUS,...</td>\n",
       "      <td>1</td>\n",
       "      <td>CLAMOR</td>\n",
       "      <td>2</td>\n",
       "    </tr>\n",
       "    <tr>\n",
       "      <th>2</th>\n",
       "      <td>CLAMO A TI</td>\n",
       "      <td>CLAMO A TI, Ó MEU SENHOR,\\nCLAMO A TI, MEU SAL...</td>\n",
       "      <td>CLAMO A TI, Ó MEU SENHOR, CLAMO A TI, MEU SALV...</td>\n",
       "      <td>1</td>\n",
       "      <td>CLAMOR</td>\n",
       "      <td>3</td>\n",
       "    </tr>\n",
       "    <tr>\n",
       "      <th>3</th>\n",
       "      <td>QUANDO TE PROSTRARES</td>\n",
       "      <td>QUANDO TE PROSTRARES DIANTE DE DEUS,\\nLEMBRA Q...</td>\n",
       "      <td>QUANDO TE PROSTRARES DIANTE DE DEUS, LEMBRA QU...</td>\n",
       "      <td>1</td>\n",
       "      <td>CLAMOR</td>\n",
       "      <td>4</td>\n",
       "    </tr>\n",
       "  </tbody>\n",
       "</table>\n",
       "</div>"
      ],
      "text/plain": [
       "                                        nome  \\\n",
       "794              AQUILO QUE FUI NÃO SOU MAIS   \n",
       "0                O SANGUE DE JESUS TEM PODER   \n",
       "1    O SANGUE DE JESUS TEM PODER PARA SALVAR   \n",
       "2                                 CLAMO A TI   \n",
       "3                       QUANDO TE PROSTRARES   \n",
       "\n",
       "                                                 texto  \\\n",
       "794  AQUILO QUE FUI NÃO SOU MAIS,\\nNEM SOU TUDO O Q...   \n",
       "0    O SANGUE DE JESUS TEM PODER,\\nPODER QUE A MIM ...   \n",
       "1    O SANGUE DE JESUS TEM PODER (2x)\\nO SANGUE DE ...   \n",
       "2    CLAMO A TI, Ó MEU SENHOR,\\nCLAMO A TI, MEU SAL...   \n",
       "3    QUANDO TE PROSTRARES DIANTE DE DEUS,\\nLEMBRA Q...   \n",
       "\n",
       "                                           texto_limpo  categoria_id  \\\n",
       "794  AQUILO QUE FUI NÃO SOU MAIS, NEM SOU TUDO O QU...             1   \n",
       "0    O SANGUE DE JESUS TEM PODER, PODER QUE A MIM P...             1   \n",
       "1    O SANGUE DE JESUS TEM PODER O SANGUE DE JESUS,...             1   \n",
       "2    CLAMO A TI, Ó MEU SENHOR, CLAMO A TI, MEU SALV...             1   \n",
       "3    QUANDO TE PROSTRARES DIANTE DE DEUS, LEMBRA QU...             1   \n",
       "\n",
       "    categoria  numero  \n",
       "794    CLAMOR       0  \n",
       "0      CLAMOR       1  \n",
       "1      CLAMOR       2  \n",
       "2      CLAMOR       3  \n",
       "3      CLAMOR       4  "
      ]
     },
     "execution_count": 3,
     "metadata": {},
     "output_type": "execute_result"
    }
   ],
   "source": [
    "# --- Limpeza e organização dos dados ---\n",
    "# Corrige valores nulos e converte número para inteiro\n",
    "hinos_analise.loc[hinos_analise[\"numero\"] == \"null\", \"numero\"] = 0\n",
    "hinos_analise[\"numero_int\"] = hinos_analise[\"numero\"].astype(int)\n",
    "\n",
    "# Remove coluna antiga, renomeia e ordena\n",
    "hinos_analise = (\n",
    "    hinos_analise.drop(columns=[\"numero\"])\n",
    "    .rename(columns={\"numero_int\": \"numero\"})\n",
    "    .sort_values(\"numero\")\n",
    ")\n",
    "\n",
    "# Exibe os dados organizados\n",
    "hinos_analise.head()"
   ]
  },
  {
   "cell_type": "markdown",
   "metadata": {},
   "source": [
    "---\n",
    "\n",
    "**A seguir:** Exportação dos dados tratados para um arquivo pickle, permitindo reutilização em outras análises ou notebooks."
   ]
  },
  {
   "cell_type": "code",
   "execution_count": 4,
   "metadata": {},
   "outputs": [],
   "source": [
    "# --- Salvando o DataFrame para uso posterior ---\n",
    "from pathlib import Path\n",
    "\n",
    "assets_folder = Path(\"../assets\")\n",
    "hinos_analise.to_pickle(assets_folder / \"hinos_analise.pkl\")"
   ]
  },
  {
   "cell_type": "markdown",
   "metadata": {},
   "source": [
    "795 louvores ao todo.\n",
    "\n",
    "## Categorias"
   ]
  },
  {
   "cell_type": "markdown",
   "metadata": {},
   "source": [
    "---\n",
    "\n",
    "**A seguir:** Agrupamento dos hinos por categoria, contabilizando a quantidade de hinos em cada uma e criando abreviações para facilitar a visualização."
   ]
  },
  {
   "cell_type": "code",
   "execution_count": 5,
   "metadata": {},
   "outputs": [
    {
     "data": {
      "application/vnd.microsoft.datawrangler.viewer.v0+json": {
       "columns": [
        {
         "name": "index",
         "rawType": "int64",
         "type": "integer"
        },
        {
         "name": "categoria_id",
         "rawType": "int64",
         "type": "integer"
        },
        {
         "name": "categoria",
         "rawType": "object",
         "type": "string"
        },
        {
         "name": "contagem",
         "rawType": "int64",
         "type": "integer"
        },
        {
         "name": "categoria_abr",
         "rawType": "object",
         "type": "string"
        }
       ],
       "ref": "66c80490-23d4-43cf-a46e-b865baedb744",
       "rows": [
        [
         "0",
         "1",
         "CLAMOR",
         "57",
         "CLAMOR"
        ],
        [
         "1",
         "2",
         "INVOCAÇÃO E COMUNHÃO",
         "40",
         "INVOCAÇÃO E C..."
        ],
        [
         "2",
         "3",
         "DEDICAÇÃO",
         "104",
         "DEDICAÇÃO"
        ],
        [
         "3",
         "4",
         "MORTE, RESSURREIÇÃO E SALVAÇÃO",
         "94",
         "MORTE, RESSUR..."
        ],
        [
         "4",
         "5",
         "CONSOLO E ENCORAJAMENTO",
         "91",
         "CONSOLO E ENC..."
        ],
        [
         "5",
         "6",
         "SANTIFICAÇÃO E DERRAMAMENTO DO ESPÍRITO SANTO",
         "92",
         "SANTIFICAÇÃO ..."
        ],
        [
         "6",
         "7",
         "VOLTA DE JESUS E ETERNIDADE",
         "94",
         "VOLTA DE JESU..."
        ],
        [
         "7",
         "8",
         "LOUVOR",
         "78",
         "LOUVOR"
        ],
        [
         "8",
         "9",
         "SALMOS DE LOUVOR",
         "16",
         "SALMOS DE LOU..."
        ],
        [
         "9",
         "10",
         "GRUPO DE LOUVOR",
         "65",
         "GRUPO DE LOUVOR"
        ],
        [
         "10",
         "11",
         "CORINHOS",
         "64",
         "CORINHOS"
        ]
       ],
       "shape": {
        "columns": 4,
        "rows": 11
       }
      },
      "text/html": [
       "<div>\n",
       "<style scoped>\n",
       "    .dataframe tbody tr th:only-of-type {\n",
       "        vertical-align: middle;\n",
       "    }\n",
       "\n",
       "    .dataframe tbody tr th {\n",
       "        vertical-align: top;\n",
       "    }\n",
       "\n",
       "    .dataframe thead th {\n",
       "        text-align: right;\n",
       "    }\n",
       "</style>\n",
       "<table border=\"1\" class=\"dataframe\">\n",
       "  <thead>\n",
       "    <tr style=\"text-align: right;\">\n",
       "      <th></th>\n",
       "      <th>categoria_id</th>\n",
       "      <th>categoria</th>\n",
       "      <th>contagem</th>\n",
       "      <th>categoria_abr</th>\n",
       "    </tr>\n",
       "  </thead>\n",
       "  <tbody>\n",
       "    <tr>\n",
       "      <th>0</th>\n",
       "      <td>1</td>\n",
       "      <td>CLAMOR</td>\n",
       "      <td>57</td>\n",
       "      <td>CLAMOR</td>\n",
       "    </tr>\n",
       "    <tr>\n",
       "      <th>1</th>\n",
       "      <td>2</td>\n",
       "      <td>INVOCAÇÃO E COMUNHÃO</td>\n",
       "      <td>40</td>\n",
       "      <td>INVOCAÇÃO E C...</td>\n",
       "    </tr>\n",
       "    <tr>\n",
       "      <th>2</th>\n",
       "      <td>3</td>\n",
       "      <td>DEDICAÇÃO</td>\n",
       "      <td>104</td>\n",
       "      <td>DEDICAÇÃO</td>\n",
       "    </tr>\n",
       "    <tr>\n",
       "      <th>3</th>\n",
       "      <td>4</td>\n",
       "      <td>MORTE, RESSURREIÇÃO E SALVAÇÃO</td>\n",
       "      <td>94</td>\n",
       "      <td>MORTE, RESSUR...</td>\n",
       "    </tr>\n",
       "    <tr>\n",
       "      <th>4</th>\n",
       "      <td>5</td>\n",
       "      <td>CONSOLO E ENCORAJAMENTO</td>\n",
       "      <td>91</td>\n",
       "      <td>CONSOLO E ENC...</td>\n",
       "    </tr>\n",
       "    <tr>\n",
       "      <th>5</th>\n",
       "      <td>6</td>\n",
       "      <td>SANTIFICAÇÃO E DERRAMAMENTO DO ESPÍRITO SANTO</td>\n",
       "      <td>92</td>\n",
       "      <td>SANTIFICAÇÃO ...</td>\n",
       "    </tr>\n",
       "    <tr>\n",
       "      <th>6</th>\n",
       "      <td>7</td>\n",
       "      <td>VOLTA DE JESUS E ETERNIDADE</td>\n",
       "      <td>94</td>\n",
       "      <td>VOLTA DE JESU...</td>\n",
       "    </tr>\n",
       "    <tr>\n",
       "      <th>7</th>\n",
       "      <td>8</td>\n",
       "      <td>LOUVOR</td>\n",
       "      <td>78</td>\n",
       "      <td>LOUVOR</td>\n",
       "    </tr>\n",
       "    <tr>\n",
       "      <th>8</th>\n",
       "      <td>9</td>\n",
       "      <td>SALMOS DE LOUVOR</td>\n",
       "      <td>16</td>\n",
       "      <td>SALMOS DE LOU...</td>\n",
       "    </tr>\n",
       "    <tr>\n",
       "      <th>9</th>\n",
       "      <td>10</td>\n",
       "      <td>GRUPO DE LOUVOR</td>\n",
       "      <td>65</td>\n",
       "      <td>GRUPO DE LOUVOR</td>\n",
       "    </tr>\n",
       "    <tr>\n",
       "      <th>10</th>\n",
       "      <td>11</td>\n",
       "      <td>CORINHOS</td>\n",
       "      <td>64</td>\n",
       "      <td>CORINHOS</td>\n",
       "    </tr>\n",
       "  </tbody>\n",
       "</table>\n",
       "</div>"
      ],
      "text/plain": [
       "    categoria_id                                      categoria  contagem  \\\n",
       "0              1                                         CLAMOR        57   \n",
       "1              2                           INVOCAÇÃO E COMUNHÃO        40   \n",
       "2              3                                      DEDICAÇÃO       104   \n",
       "3              4                 MORTE, RESSURREIÇÃO E SALVAÇÃO        94   \n",
       "4              5                        CONSOLO E ENCORAJAMENTO        91   \n",
       "5              6  SANTIFICAÇÃO E DERRAMAMENTO DO ESPÍRITO SANTO        92   \n",
       "6              7                    VOLTA DE JESUS E ETERNIDADE        94   \n",
       "7              8                                         LOUVOR        78   \n",
       "8              9                               SALMOS DE LOUVOR        16   \n",
       "9             10                                GRUPO DE LOUVOR        65   \n",
       "10            11                                       CORINHOS        64   \n",
       "\n",
       "       categoria_abr  \n",
       "0             CLAMOR  \n",
       "1   INVOCAÇÃO E C...  \n",
       "2          DEDICAÇÃO  \n",
       "3   MORTE, RESSUR...  \n",
       "4   CONSOLO E ENC...  \n",
       "5   SANTIFICAÇÃO ...  \n",
       "6   VOLTA DE JESU...  \n",
       "7             LOUVOR  \n",
       "8   SALMOS DE LOU...  \n",
       "9    GRUPO DE LOUVOR  \n",
       "10          CORINHOS  "
      ]
     },
     "execution_count": 5,
     "metadata": {},
     "output_type": "execute_result"
    }
   ],
   "source": [
    "# --- Contagem de hinos por categoria ---\n",
    "categorias_count = (\n",
    "    hinos_analise[[\"categoria_id\", \"categoria\", \"numero\"]]\n",
    "    .groupby([\"categoria_id\", \"categoria\"])\n",
    "    .count()\n",
    "    .reset_index()\n",
    "    .rename(columns={\"numero\": \"contagem\"})\n",
    ")\n",
    "\n",
    "# Cria abreviação para categorias longas\n",
    "categorias_count[\"categoria_abr\"] = categorias_count[\"categoria\"].apply(\n",
    "    lambda x: x[:13] + \"...\" if len(x) > 15 else x\n",
    ")\n",
    "\n",
    "# Exibe o resultado\n",
    "categorias_count"
   ]
  },
  {
   "cell_type": "markdown",
   "metadata": {},
   "source": [
    "---\n",
    "\n",
    "**A seguir:** Visualização gráfica da distribuição dos hinos por categoria, utilizando Seaborn e Matplotlib para criar um gráfico de barras."
   ]
  },
  {
   "cell_type": "code",
   "execution_count": 6,
   "metadata": {},
   "outputs": [
    {
     "data": {
      "image/png": "[encoded data removed]",
      "text/plain": [
       "<Figure size 1200x800 with 1 Axes>"
      ]
     },
     "metadata": {},
     "output_type": "display_data"
    }
   ],
   "source": [
    "# --- Visualização da distribuição de hinos por categoria ---\n",
    "import seaborn as sns\n",
    "import matplotlib.pyplot as plt\n",
    "\n",
    "sns.set_theme(style=\"darkgrid\")\n",
    "\n",
    "# Cria gráfico de barras para visualizar a contagem de hinos por categoria\n",
    "fig, ax = plt.subplots(figsize=(12, 8))\n",
    "sns.barplot(x=\"contagem\", y=\"categoria\", data=categorias_count, ax=ax)\n",
    "plt.title(\"Distribuição de Hinos por Categoria\")\n",
    "plt.xlabel(\"Quantidade de Hinos\")\n",
    "plt.ylabel(\"Categoria\")\n",
    "plt.tight_layout()\n",
    "plt.show()"
   ]
  },
  {
   "cell_type": "markdown",
   "metadata": {},
   "source": [
    "---\n",
    "\n",
    "**Fim do notebook:** Aqui finalizamos a análise exploratória, com os dados prontos para visualização e exportação. "
   ]
  }
 ],
 "metadata": {
  "kernelspec": {
   "display_name": "jupyters",
   "language": "python",
   "name": "python3"
  },
  "language_info": {
   "codemirror_mode": {
    "name": "ipython",
    "version": 3
   },
   "file_extension": ".py",
   "mimetype": "text/x-python",
   "name": "python",
   "nbconvert_exporter": "python",
   "pygments_lexer": "ipython3",
   "version": "3.11.11"
  }
 },
 "nbformat": 4,
 "nbformat_minor": 2
}
