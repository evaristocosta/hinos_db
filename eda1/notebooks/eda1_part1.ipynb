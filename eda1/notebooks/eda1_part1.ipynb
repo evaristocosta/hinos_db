{
 "cells": [
  {
   "cell_type": "markdown",
   "metadata": {},
   "source": [
    "# EDA 1 - Exploração Simples\n",
    "\n",
    "Nessa rápida exploração de dados, o objetivo é obter rápidas informações sobre a Coletânea de Hinos da Igreja Cristã Maranata (ICM) - Edição 2018.\n",
    "\n",
    "Como descrito na própria coletânea:\n",
    "> Os hinos e louvores, editados nesta Coletânea, englobam partes de outras edições já publicadas que expressam gratidão, adoração e louvor ao nosso Deus, entoados em todas épocas vividas pela Igreja Fiel, momento também comemorado pela Igreja Cristã Maranata em seus cinquenta anos de existência. \n",
    "\n",
    "## Origem dos dados\n",
    "\n",
    "A extração de dados para construção da base tem por origem slides oficiais disponibilizados pelo Departamento de Louvor da ICM. Todo processo de extração está descrito no notebook `pptx_txt_json.ipynb`, neste mesmo repositório.\n",
    "\n",
    "Até o momento desta análise, os dados estão salvos em uma base de dados SQLite.\n",
    "\n"
   ]
  },
  {
   "cell_type": "code",
   "execution_count": null,
   "metadata": {},
   "outputs": [],
   "source": [
    "from sqlalchemy import create_engine\n",
    "\n",
    "# Create an engine to the SQLite database\n",
    "engine = create_engine(\"sqlite:///../assets/database.db\")\n",
    "\n",
    "# Connect to the database\n",
    "connection = engine.connect()\n",
    "connection"
   ]
  },
  {
   "cell_type": "code",
   "execution_count": null,
   "metadata": {},
   "outputs": [],
   "source": [
    "import pandas as pd\n",
    "\n",
    "sql_query = \"\"\"\n",
    "select\n",
    "    numero,\n",
    "    nome,\n",
    "    texto,\n",
    "    texto_limpo,\n",
    "    categoria_id,\n",
    "    c.descricao as categoria\n",
    "from \n",
    "    hino\n",
    "    left join categoria c on c.id = categoria_id\n",
    "where\n",
    "    coletanea_id = 1\n",
    "\"\"\"\n",
    "\n",
    "hinos_analise = pd.read_sql_query(sql_query, connection)\n",
    "hinos_analise"
   ]
  },
  {
   "cell_type": "code",
   "execution_count": null,
   "metadata": {},
   "outputs": [],
   "source": [
    "hinos_analise.loc[hinos_analise[\"numero\"] == \"null\", \"numero\"] = 0\n",
    "hinos_analise[\"numero_int\"] = hinos_analise[\"numero\"].astype(int)\n",
    "hinos_analise = (\n",
    "    hinos_analise.drop(columns=[\"numero\"])\n",
    "    .rename(columns={\"numero_int\": \"numero\"})\n",
    "    .sort_values(\"numero\")\n",
    ")\n",
    "hinos_analise"
   ]
  },
  {
   "cell_type": "code",
   "execution_count": null,
   "metadata": {},
   "outputs": [],
   "source": [
    "from pathlib import Path\n",
    "\n",
    "assets_folder = Path(\"../assets\")\n",
    "\n",
    "# save to json and pickle\n",
    "hinos_analise[[\"numero\", \"nome\", \"texto\", \"categoria\"]].to_json(\n",
    "    assets_folder / \"hinos_icm.json\",\n",
    "    orient=\"records\",\n",
    "    force_ascii=False,\n",
    "    indent=4,\n",
    "    index=False,\n",
    ")\n",
    "hinos_analise.to_pickle(assets_folder / \"hinos_analise.pkl\")"
   ]
  },
  {
   "cell_type": "markdown",
   "metadata": {},
   "source": [
    "795 louvores ao todo.\n",
    "\n",
    "## Categorias"
   ]
  },
  {
   "cell_type": "code",
   "execution_count": null,
   "metadata": {},
   "outputs": [],
   "source": [
    "categorias_count = (\n",
    "    hinos_analise[[\"categoria_id\", \"categoria\", \"numero\"]]\n",
    "    .groupby([\"categoria_id\", \"categoria\"])\n",
    "    .count()\n",
    "    .reset_index()\n",
    "    .rename(columns={\"numero\": \"contagem\"})\n",
    ")\n",
    "categorias_count[\"categoria_abr\"] = categorias_count[\"categoria\"].apply(\n",
    "    lambda x: x[:13] + \"...\" if len(x) > 15 else x\n",
    ")\n",
    "categorias_count"
   ]
  },
  {
   "cell_type": "code",
   "execution_count": null,
   "metadata": {},
   "outputs": [],
   "source": [
    "import seaborn as sns\n",
    "import matplotlib.pyplot as plt\n",
    "\n",
    "sns.set_theme(style=\"darkgrid\")\n",
    "\n",
    "\n",
    "f, axs = plt.subplots(1, 1, figsize=(12, 8))\n",
    "sns.barplot(x=\"contagem\", y=\"categoria\", data=categorias_count, ax=axs)\n",
    "\"\"\" sns.barplot(\n",
    "    x=\"contagem\",\n",
    "    y=\"categoria_abr\",\n",
    "    data=categorias_count.sort_values(by=\"contagem\", ascending=False),\n",
    "    ax=axs[1],\n",
    ") \"\"\""
   ]
  }
 ],
 "metadata": {
  "kernelspec": {
   "display_name": "jupyters",
   "language": "python",
   "name": "python3"
  },
  "language_info": {
   "codemirror_mode": {
    "name": "ipython",
    "version": 3
   },
   "file_extension": ".py",
   "mimetype": "text/x-python",
   "name": "python",
   "nbconvert_exporter": "python",
   "pygments_lexer": "ipython3",
   "version": "3.11.11"
  }
 },
 "nbformat": 4,
 "nbformat_minor": 2
}
