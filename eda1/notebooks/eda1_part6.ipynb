{
 "cells": [
  {
   "cell_type": "markdown",
   "id": "5341d800",
   "metadata": {},
   "source": [
    "# Seleção de Hinos Similares com TOPSIS\n",
    "Este notebook utiliza o método TOPSIS para selecionar hinos similares a partir de um hino de referência, considerando múltiplos critérios extraídos das análises anteriores.\n",
    "\n",
    "O objetivo é combinar informações de similaridade, categorias, clusters e tópicos para sugerir hinos próximos ao perfil desejado.\n",
    "\n",
    "---\n",
    "**Conteúdo do notebook:**\n",
    "- Carregamento dos dados e matrizes de similaridade\n",
    "- Construção da matriz de decisão para o TOPSIS\n",
    "- Definição dos pesos e critérios\n",
    "- Aplicação do método TOPSIS\n",
    "- Exibição dos hinos mais similares sugeridos\n",
    "\n",
    "Este material é público e pode ser compartilhado para fins de pesquisa, estudo ou divulgação cultural."
   ]
  },
  {
   "cell_type": "markdown",
   "id": "205c6f6f",
   "metadata": {},
   "source": [
    "# Parte 6 - TOPSIS pra seleção de hinos similares\n",
    "\n",
    "Seleção de hinos similares a partir de um hino de referência, utilizando o método TOPSIS, considerando as matrizes de similaridade, categorias, clusterings, e tópicos."
   ]
  },
  {
   "cell_type": "markdown",
   "id": "2c258205",
   "metadata": {},
   "source": [
    "---\n",
    "\n",
    "**A seguir:** Carregamento dos dados dos hinos e das matrizes de similaridade calculadas nas etapas anteriores."
   ]
  },
  {
   "cell_type": "code",
   "execution_count": 1,
   "id": "0f27a630",
   "metadata": {},
   "outputs": [],
   "source": [
    "import pandas as pd\n",
    "\n",
    "hinos_analise: pd.DataFrame = pd.read_pickle(\n",
    "    \"../assets/hinos_analise_embeddings_complete.pkl\"\n",
    ")\n",
    "similarity_matrix_words: pd.DataFrame = pd.read_pickle(\n",
    "    \"../assets/similarity_matrix_word_embeddings_tfidf.pkl\"\n",
    ")\n",
    "similarity_matrix_sent: pd.DataFrame = pd.read_pickle(\n",
    "    \"../assets/similarity_matrix_sentence_embeddings.pkl\"\n",
    ")"
   ]
  },
  {
   "cell_type": "markdown",
   "id": "48690efb",
   "metadata": {},
   "source": [
    "---\n",
    "\n",
    "**A seguir:** Construção da matriz de decisão, onde cada alternativa representa um hino e os critérios são as similaridades, categorias, clusters e tópicos em relação ao hino de referência."
   ]
  },
  {
   "cell_type": "markdown",
   "id": "33d544e6",
   "metadata": {},
   "source": [
    "A matriz de decisão é construída com relação a um hino de referência, e as alternativas são os demais hinos."
   ]
  },
  {
   "cell_type": "markdown",
   "id": "c2018fb7",
   "metadata": {},
   "source": [
    "---\n",
    "\n",
    "**A seguir:** Cálculo das similaridades entre o hino de referência e os demais hinos, adicionando essas informações à matriz de decisão."
   ]
  },
  {
   "cell_type": "code",
   "execution_count": 2,
   "id": "1960567a",
   "metadata": {},
   "outputs": [],
   "source": [
    "hino_sample = hinos_analise.sample().iloc[0]\n",
    "hinos_restantes = hinos_analise[hinos_analise.index != hino_sample.name].copy()\n",
    "# se categoria_id é a mesma de sample, então 1, senão 0\n",
    "hinos_restantes[\"categoria_id\"] = (\n",
    "    hinos_restantes[\"categoria_id\"] == hino_sample[\"categoria_id\"]\n",
    ").astype(int)\n",
    "hinos_restantes[\"word_cluster\"] = (\n",
    "    hinos_restantes[\"word_cluster\"] == hino_sample[\"word_cluster\"]\n",
    ").astype(int)\n",
    "hinos_restantes[\"NMF_topic\"] = (\n",
    "    hinos_restantes[\"NMF_topic\"] == hino_sample[\"NMF_topic\"]\n",
    ").astype(int)\n",
    "hinos_restantes[\"sent_cluster\"] = (\n",
    "    hinos_restantes[\"sent_cluster\"] == hino_sample[\"sent_cluster\"]\n",
    ").astype(int)\n",
    "hinos_restantes[\"BERT_topic\"] = (\n",
    "    hinos_restantes[\"BERT_topic\"] == hino_sample[\"BERT_topic\"]\n",
    ").astype(int)\n",
    "hinos_restantes = hinos_restantes[\n",
    "    [\n",
    "        \"nome\",\n",
    "        \"texto_limpo\",\n",
    "        \"categoria_id\",\n",
    "        \"word_cluster\",\n",
    "        \"NMF_topic\",\n",
    "        \"sent_cluster\",\n",
    "        \"BERT_topic\",\n",
    "    ]\n",
    "]"
   ]
  },
  {
   "cell_type": "markdown",
   "id": "844d8d45",
   "metadata": {},
   "source": [
    "---\n",
    "\n",
    "**A seguir:** Definição dos pesos e critérios para o método TOPSIS, indicando a importância relativa de cada atributo na seleção dos hinos similares."
   ]
  },
  {
   "cell_type": "code",
   "execution_count": 3,
   "id": "ddc440a7",
   "metadata": {},
   "outputs": [
    {
     "data": {
      "application/vnd.microsoft.datawrangler.viewer.v0+json": {
       "columns": [
        {
         "name": "numero",
         "rawType": "int64",
         "type": "integer"
        },
        {
         "name": "nome",
         "rawType": "object",
         "type": "string"
        },
        {
         "name": "texto_limpo",
         "rawType": "object",
         "type": "string"
        },
        {
         "name": "categoria_id",
         "rawType": "int64",
         "type": "integer"
        },
        {
         "name": "word_cluster",
         "rawType": "int64",
         "type": "integer"
        },
        {
         "name": "NMF_topic",
         "rawType": "int64",
         "type": "integer"
        },
        {
         "name": "sent_cluster",
         "rawType": "int64",
         "type": "integer"
        },
        {
         "name": "BERT_topic",
         "rawType": "int64",
         "type": "integer"
        },
        {
         "name": "sim_word",
         "rawType": "float64",
         "type": "float"
        },
        {
         "name": "sim_sent",
         "rawType": "float32",
         "type": "float"
        }
       ],
       "ref": "875cd343-f220-4dd6-83fe-f08d66dcd7a4",
       "rows": [
        [
         "0",
         "AQUILO QUE FUI NÃO SOU MAIS",
         "AQUILO QUE FUI NÃO SOU MAIS, NEM SOU TUDO O QUE DEVO SER; JÁ SOU PELA GRAÇA O QUE SOU E AO VÊ-LO ESTOU CERTO QUE VOU NA GLÓRIA DE CRISTO VIVER MARANATA, MARANATA EM BREVE O SENHOR VOLTARÁ; MARANATA, MARANATA, ELE MESMO VIRÁ NOS BUSCAR. EU MORTO PENSEI QUE VIVIA, JÁ VIVO E COM CRISTO MORRI; PARA ELE, ESTOU RESSUSCITADO, PARA O MUNDO, ESTOU CRUCIFICADO; MINHA VIDA EM JESUS ESCONDI. MARANATA, MARANATA EM BREVE O SENHOR VOLTARÁ; MARANATA, MARANATA, ELE MESMO VIRÁ NOS BUSCAR. MINH’ALMA GOZANDO RIQUEZAS, TESOUROS QUE O MUNDO NÃO DÁ, CAMINHA NA DOCE ESPERANÇA, DÁ VIDA EM ETERNA BONANÇA, NA GLÓRIA ONDE JESUS ESTÁ. MARANATA, MARANATA EM BREVE O SENHOR VOLTARÁ; MARANATA, MARANATA, ELE MESMO VIRÁ NOS BUSCAR.",
         "0",
         "0",
         "0",
         "0",
         "0",
         "0.4197136400204628",
         "0.7879511"
        ],
        [
         "1",
         "O SANGUE DE JESUS TEM PODER",
         "O SANGUE DE JESUS TEM PODER, PODER QUE A MIM PODE VALER, SE COMUNHÃO NÃO POSSO EU SENTIR, SENHOR, DERRAMA DO TEU SANGUE REMIDOR. DERRAMA DO TEU SANGUE SOBRE MIM, Ó SENHOR, DERRAMA DO TEU SANGUE SOBRE MIM, Ó SENHOR, SEI QUE ESTÁS AQUI E ISTO QUERO EU SENTIR, DERRAMA DO TEU SANGUE SOBRE MIM. EM TUA PRESENÇA ESTOU, SENHOR, DE TI NECESSITO MUITO AMOR, PELO PODER QUE HÁ EM TEU SANGUE REMIDOR, Ó VEM PURIFICAR-ME, MEU SENHOR. DERRAMA DO TEU SANGUE SOBRE MIM, Ó SENHOR, DERRAMA DO TEU SANGUE SOBRE MIM, Ó SENHOR, SEI QUE ESTÁS AQUI E ISTO QUERO EU SENTIR, DERRAMA DO TEU SANGUE SOBRE MIM.",
         "0",
         "1",
         "0",
         "1",
         "1",
         "0.5700446935414303",
         "0.92192334"
        ],
        [
         "2",
         "O SANGUE DE JESUS TEM PODER PARA SALVAR",
         "O SANGUE DE JESUS TEM PODER O SANGUE DE JESUS, O SANGUE DE JESUS, O SANGUE DE JESUS TEM PODER. O SANGUE DE JESUS TEM PODER PARA SALVAR, O SANGUE DE JESUS TEM PODER PARA CURAR, O SANGUE DE JESUS, O SANGUE DE JESUS TEM PODER PARA O OPRIMIDO LIBERTAR.",
         "0",
         "1",
         "0",
         "0",
         "0",
         "0.4380647434783229",
         "0.6039195"
        ],
        [
         "3",
         "CLAMO A TI",
         "CLAMO A TI, Ó MEU SENHOR, CLAMO A TI, MEU SALVADOR, PELO TEU SANGUE, QUE É VIDA, Ó BENDITO, VEM ME LIBERTAR. QUANDO ALÉM DO VÉU ENTRAR, IREI TE DAR TODO O MEU SER, EM TUA PRESENÇA, TE ADORAR, TE BENDIZER.",
         "0",
         "1",
         "0",
         "0",
         "0",
         "0.6927485122281345",
         "0.7553172"
        ],
        [
         "4",
         "QUANDO TE PROSTRARES",
         "QUANDO TE PROSTRARES DIANTE DE DEUS, LEMBRA QUE JESUS ESTÁ CONTIGO, PEDE SEU AUXÍLIO, PEDE SEU PERDÃO LEMBRA QUE JESUS É TEU ABRIGO. DEIXA QUE O SENHOR MUDE O TEU VIVER; LEMBRA QUE JESUS É TEU AMIGO. VENHA SOBRE NÓS, (Ó DEUS) VARÕES VENHA SOBRE NÓS, SEJA SOBRE NÓS A TUA GRAÇA.",
         "0",
         "0",
         "0",
         "0",
         "0",
         "0.6529701324301138",
         "0.67416465"
        ]
       ],
       "shape": {
        "columns": 9,
        "rows": 5
       }
      },
      "text/html": [
       "<div>\n",
       "<style scoped>\n",
       "    .dataframe tbody tr th:only-of-type {\n",
       "        vertical-align: middle;\n",
       "    }\n",
       "\n",
       "    .dataframe tbody tr th {\n",
       "        vertical-align: top;\n",
       "    }\n",
       "\n",
       "    .dataframe thead th {\n",
       "        text-align: right;\n",
       "    }\n",
       "</style>\n",
       "<table border=\"1\" class=\"dataframe\">\n",
       "  <thead>\n",
       "    <tr style=\"text-align: right;\">\n",
       "      <th></th>\n",
       "      <th>nome</th>\n",
       "      <th>texto_limpo</th>\n",
       "      <th>categoria_id</th>\n",
       "      <th>word_cluster</th>\n",
       "      <th>NMF_topic</th>\n",
       "      <th>sent_cluster</th>\n",
       "      <th>BERT_topic</th>\n",
       "      <th>sim_word</th>\n",
       "      <th>sim_sent</th>\n",
       "    </tr>\n",
       "    <tr>\n",
       "      <th>numero</th>\n",
       "      <th></th>\n",
       "      <th></th>\n",
       "      <th></th>\n",
       "      <th></th>\n",
       "      <th></th>\n",
       "      <th></th>\n",
       "      <th></th>\n",
       "      <th></th>\n",
       "      <th></th>\n",
       "    </tr>\n",
       "  </thead>\n",
       "  <tbody>\n",
       "    <tr>\n",
       "      <th>0</th>\n",
       "      <td>AQUILO QUE FUI NÃO SOU MAIS</td>\n",
       "      <td>AQUILO QUE FUI NÃO SOU MAIS, NEM SOU TUDO O QU...</td>\n",
       "      <td>0</td>\n",
       "      <td>0</td>\n",
       "      <td>0</td>\n",
       "      <td>0</td>\n",
       "      <td>0</td>\n",
       "      <td>0.419714</td>\n",
       "      <td>0.787951</td>\n",
       "    </tr>\n",
       "    <tr>\n",
       "      <th>1</th>\n",
       "      <td>O SANGUE DE JESUS TEM PODER</td>\n",
       "      <td>O SANGUE DE JESUS TEM PODER, PODER QUE A MIM P...</td>\n",
       "      <td>0</td>\n",
       "      <td>1</td>\n",
       "      <td>0</td>\n",
       "      <td>1</td>\n",
       "      <td>1</td>\n",
       "      <td>0.570045</td>\n",
       "      <td>0.921923</td>\n",
       "    </tr>\n",
       "    <tr>\n",
       "      <th>2</th>\n",
       "      <td>O SANGUE DE JESUS TEM PODER PARA SALVAR</td>\n",
       "      <td>O SANGUE DE JESUS TEM PODER O SANGUE DE JESUS,...</td>\n",
       "      <td>0</td>\n",
       "      <td>1</td>\n",
       "      <td>0</td>\n",
       "      <td>0</td>\n",
       "      <td>0</td>\n",
       "      <td>0.438065</td>\n",
       "      <td>0.603920</td>\n",
       "    </tr>\n",
       "    <tr>\n",
       "      <th>3</th>\n",
       "      <td>CLAMO A TI</td>\n",
       "      <td>CLAMO A TI, Ó MEU SENHOR, CLAMO A TI, MEU SALV...</td>\n",
       "      <td>0</td>\n",
       "      <td>1</td>\n",
       "      <td>0</td>\n",
       "      <td>0</td>\n",
       "      <td>0</td>\n",
       "      <td>0.692749</td>\n",
       "      <td>0.755317</td>\n",
       "    </tr>\n",
       "    <tr>\n",
       "      <th>4</th>\n",
       "      <td>QUANDO TE PROSTRARES</td>\n",
       "      <td>QUANDO TE PROSTRARES DIANTE DE DEUS, LEMBRA QU...</td>\n",
       "      <td>0</td>\n",
       "      <td>0</td>\n",
       "      <td>0</td>\n",
       "      <td>0</td>\n",
       "      <td>0</td>\n",
       "      <td>0.652970</td>\n",
       "      <td>0.674165</td>\n",
       "    </tr>\n",
       "  </tbody>\n",
       "</table>\n",
       "</div>"
      ],
      "text/plain": [
       "                                           nome  \\\n",
       "numero                                            \n",
       "0                   AQUILO QUE FUI NÃO SOU MAIS   \n",
       "1                   O SANGUE DE JESUS TEM PODER   \n",
       "2       O SANGUE DE JESUS TEM PODER PARA SALVAR   \n",
       "3                                    CLAMO A TI   \n",
       "4                          QUANDO TE PROSTRARES   \n",
       "\n",
       "                                              texto_limpo  categoria_id  \\\n",
       "numero                                                                    \n",
       "0       AQUILO QUE FUI NÃO SOU MAIS, NEM SOU TUDO O QU...             0   \n",
       "1       O SANGUE DE JESUS TEM PODER, PODER QUE A MIM P...             0   \n",
       "2       O SANGUE DE JESUS TEM PODER O SANGUE DE JESUS,...             0   \n",
       "3       CLAMO A TI, Ó MEU SENHOR, CLAMO A TI, MEU SALV...             0   \n",
       "4       QUANDO TE PROSTRARES DIANTE DE DEUS, LEMBRA QU...             0   \n",
       "\n",
       "        word_cluster  NMF_topic  sent_cluster  BERT_topic  sim_word  sim_sent  \n",
       "numero                                                                         \n",
       "0                  0          0             0           0  0.419714  0.787951  \n",
       "1                  1          0             1           1  0.570045  0.921923  \n",
       "2                  1          0             0           0  0.438065  0.603920  \n",
       "3                  1          0             0           0  0.692749  0.755317  \n",
       "4                  0          0             0           0  0.652970  0.674165  "
      ]
     },
     "execution_count": 3,
     "metadata": {},
     "output_type": "execute_result"
    }
   ],
   "source": [
    "similarity_matrix_words_sample = similarity_matrix_words.loc[\n",
    "    hino_sample.name, hinos_restantes.index\n",
    "]\n",
    "similarity_matrix_sent_sample = similarity_matrix_sent.loc[\n",
    "    hino_sample.name, hinos_restantes.index\n",
    "]\n",
    "hinos_restantes[\"sim_word\"] = similarity_matrix_words_sample.values\n",
    "hinos_restantes[\"sim_sent\"] = similarity_matrix_sent_sample.values\n",
    "hinos_restantes.head()"
   ]
  },
  {
   "cell_type": "markdown",
   "id": "c1fa5cee",
   "metadata": {},
   "source": [
    "---\n",
    "\n",
    "**A seguir:** Aplicação do método TOPSIS para ranquear os hinos de acordo com os critérios definidos, gerando scores de similaridade."
   ]
  },
  {
   "cell_type": "code",
   "execution_count": 4,
   "id": "b9c6b33c",
   "metadata": {},
   "outputs": [],
   "source": [
    "categories = [\n",
    "    \"categoria_id\",\n",
    "    \"word_cluster\",\n",
    "    \"NMF_topic\",\n",
    "    \"sent_cluster\",\n",
    "    \"BERT_topic\",\n",
    "    \"sim_word\",\n",
    "    \"sim_sent\",\n",
    "]\n",
    "weights = [1, 2, 4, 3, 5, 6, 7] # pesos arbitrários, podem ser alterados à gosto\n",
    "weights = [w / sum(weights) for w in weights] \n",
    "profit_cost = [1, 1, 1, 1, 1, 1, 1]"
   ]
  },
  {
   "cell_type": "markdown",
   "id": "1b2d4253",
   "metadata": {},
   "source": [
    "---\n",
    "\n",
    "**A seguir:** Exibição dos hinos mais similares ao hino de referência, ordenados pelo score calculado pelo TOPSIS."
   ]
  },
  {
   "cell_type": "code",
   "execution_count": 5,
   "id": "b3c5b13f",
   "metadata": {},
   "outputs": [],
   "source": [
    "from topsis_hamedbaziyad import TOPSIS\n",
    "\n",
    "output = TOPSIS(\n",
    "    hinos_restantes[categories],\n",
    "    weights,\n",
    "    profit_cost,\n",
    ")\n",
    "scores = pd.DataFrame(output)\n",
    "scores.columns = [\"topsis_score\"]\n",
    "hinos_restantes = pd.concat([hinos_restantes, scores], axis=1).sort_values(\n",
    "    by=\"topsis_score\", ascending=False\n",
    ")"
   ]
  },
  {
   "cell_type": "markdown",
   "id": "38a268cc",
   "metadata": {},
   "source": [
    "---\n",
    "\n",
    "**Fim do notebook:** Finalização do processo de seleção, com os hinos mais similares prontos para análise, exportação ou uso em aplicações."
   ]
  },
  {
   "cell_type": "code",
   "execution_count": 6,
   "id": "12528316",
   "metadata": {},
   "outputs": [
    {
     "name": "stdout",
     "output_type": "stream",
     "text": [
      "Sugestões para o hino: 244 EU DESCI PARA O VALE DE BÊNÇÃO E PAZ\n"
     ]
    },
    {
     "data": {
      "application/vnd.microsoft.datawrangler.viewer.v0+json": {
       "columns": [
        {
         "name": "numero",
         "rawType": "int64",
         "type": "integer"
        },
        {
         "name": "nome",
         "rawType": "object",
         "type": "string"
        },
        {
         "name": "texto_limpo",
         "rawType": "object",
         "type": "string"
        },
        {
         "name": "topsis_score",
         "rawType": "float64",
         "type": "float"
        }
       ],
       "ref": "e17d3207-8a15-4901-bd22-bb03b7558be1",
       "rows": [
        [
         "230",
         "FONTE DE ÁGUAS VIVAS",
         "FONTE DE ÁGUAS VIVAS, CRISTO JESUS NOS CONCEDE A PAZ, PAZ CELESTIAL; SACIA A NOSSA SEDE, CONSOLA A ALMA, LIVRA-NOS DO MAL. QUEM TIVER SEDE, SEDE DE ÁGUAS VIVAS, (DE GRAÇA LHE DAREI DA FONTE DA VIDA) DE GRAÇA LHE DAREI DA FONTE DA VIDA (FONTE DA VIDA). O CAMINHO DO SENHOR É VERDADEIRO, RETO E PURO, JUSTO E PERFEITO. GUARDA OS SEUS SERVOS, COM SEGURANÇA ESTENDE SUA MÃO. NA HORA DA ANGÚSTIA OU MESMO NA TRISTEZA, (JESUS NOSSO REFÚGIO, NOSSA FORTALEZA) JESUS NOSSO REFÚGIO, NOSSA FORTALEZA (FORTALEZA). SABEMOS QUE EM BREVE (ALELUIA) JESUS VOLTARÁ PARA A SUA GLÓRIA A IGREJA LEVAR; COM ELE HABITAREMOS (ALELUIA), SEREMOS SEU POVO E ELE O NOSSO DEUS. NÃO HAVERÁ MAIS MORTE, NEM PRANTO OU CLAMOR, VIVENDO PARA SEMPRE COM O SALVADOR. NÃO HAVERÁ MAIS MORTE, NEM PRANTO OU CLAMOR (VIVENDO PARA SEMPRE COM O SALVADOR) VIVENDO PARA SEMPRE COM O SALVADOR (COM O SALVADOR).",
         "0.9850369785994783"
        ],
        [
         "250",
         "SE TU PROCURAS PELA PAZ",
         "SE TU PROCURAS PELA PAZ, SE VAZIO ESTÁ TEU SER, NUNCA O MUNDO BUSCARÁS, MAS DEVES A JESUS TEMER; SE PROCURARES MAIS A CRISTO, SÓ VERDADE ENCONTRARÁS, POIS SÓ MEU CRISTO A ALMA SATISFAZ. CRISTO SATISFAZ, SÓ CRISTO A ALMA SATISFAZ, E ELE PODE COMPLETAR TEU CORAÇÃO; DARÁ A PAZ, TÃO DOCE AMOR, ENFIM NOS CÉUS HABITARÁS, POIS SÓ MEU CRISTO A ALMA SATISFAZ. SE FAMA E BENS ALMEJAS TER, TÃO EM VÃO É O TEU VIVER, POIS A CRISTO NÃO TERÁS, A REDENÇÃO SÓ ELE DÁ; JAMAIS EM BENS CONFIARÁS, SALVAÇÃO ALI NÃO HÁ, POIS SÓ MEU CRISTO A ALMA SATISFAZ. CRISTO SATISFAZ, SÓ CRISTO A ALMA SATISFAZ, E ELE PODE COMPLETAR TEU CORAÇÃO; DARÁ A PAZ, TÃO DOCE AMOR, ENFIM NOS CÉUS HABITARÁS, POIS SÓ MEU CRISTO A ALMA SATISFAZ. CRISTO SATISFAZ!",
         "0.9724450478585521"
        ],
        [
         "202",
         "HÁ UMA FONTE ABERTA NO CALVÁRIO",
         "HÁ UMA FONTE ABERTA NO CALVÁRIO CONTRA A IMPUREZA E O PECADO; ÁGUAS DE PERDÃO, PURIFICAÇÃO, FLUEM DE JESUS CRUCIFICADO. HÁ UMA FONTE ABERTA NO CALVÁRIO, ONDE MEU SENHOR FOI TRASPASSADO, FONTE DE PODER PRA TODO O QUE CRER, POR SUAS PISADURAS, SER CURADO. TE AGRADEÇO, JESUS, PORQUE FOSTE À CRUZ PARA ABRIR ESTA FONTE DE VIDA E LUZ. PARA QUE EU VIVESSE, TU MORRESTE, PARA ME CURARES, ENFERMASTE! CORREM DO TEU LADO, Ó CRUCIFICADO, ÁGUAS VIVAS COM QUE ME SALVASTE.",
         "0.9639932869798986"
        ],
        [
         "149",
         "JESUS FEZ A PROMESSA",
         "JESUS FEZ A PROMESSA, CONOSCO ESTARIA ATÉ O FIM; E OS SINAIS SEGUIRIAM A TODOS QUE CRESSEM, ELE FALOU ASSIM. CAIAM OS MONTES E OS HOMENS, MAS SUA PROMESSA ESTÁ DE PÉ, ELE NOS TEM PROVADO QUE NÃO MUDOU, PODEROSO ELE É! PODEROSO ELE É E EM NADA MUDOU; NELE ESTÁ NOSSA FÉ, PODEROSO ELE É! ELE DEU VISTA AOS CEGOS E OS OPRIMIDOS ELE LIBERTOU; CINCO PÃES E DOIS PEIXES, A MAIS DE DOIS MIL ELE ALIMENTOU. OPEROU NA JUDÉIA, EM CAFARNAUM E EM NAZARÉ; CONTINUA OPERANDO AQUI EM NOSSO MEIO, PODEROSO ELE É! PODEROSO ELE É E EM NADA MUDOU; NELE ESTÁ NOSSA FÉ, PODEROSO ELE É!",
         "0.8350420579305162"
        ],
        [
         "229",
         "AO POÇO DE JACÓ CHEGOU JESUS",
         "AO POÇO DE JACÓ CHEGOU JESUS, ESTAVA CANSADO, ALI CHEGOU PRA DESCANSAR; CHEGOU TAMBÉM ALI UMA MULHER, COM SEU CÂNTARO ÁGUA FOI BUSCAR. JESUS PEDIU-LHE ÁGUA PRA BEBER, MAS A MULHER FEZ EXCEÇÃO E NÃO LHE DEU, POR SER SAMARITANA, JESUS ERA JUDEU, MAS DA ÁGUA QUE JESUS DIZIA, ELA BEBEU. SE TU CONHECERAS O DOM DE DEUS, TU PEDIRIAS, ELE DARIA PRA BEBER DA ÁGUA MUI SUPERNA, QUE SALTA PARA A VIDA ETERNA, DESTA ÁGUA SÓ JESUS TEM PARA DAR. JESUS É MAIS QUE O POÇO DE JACÓ, ELE É A FONTE DE BASTANTE ÁGUA, É SÓ TOMAR; TODOS QUE TÊM PECADO É SÓ CHEGAR, ESTA ÁGUA TEM PODER PRA LIBERTAR. A ÁGUA QUE JESUS DÁ, ELA É SUAVE, ACONSELHÁVEL, E JESUS MANDA BEBER; QUEM TOMA DESTA ÁGUA VIDA ETERNA TEM, VIVER COM CRISTO, AQUI E NO ALÉM. SE TU CONHECERAS O DOM DE DEUS, TU PEDIRIAS, ELE DARIA PRA BEBER DA ÁGUA MUI SUPERNA, QUE SALTA PARA A VIDA ETERNA, DESTA ÁGUA SÓ JESUS TEM PARA DAR.",
         "0.7832707565044561"
        ],
        [
         "274",
         "SE EM TUA VIDA NÃO ENCONTRAS PAZ E LUZ",
         "SE EM TUA VIDA NÃO ENCONTRAS PAZ E LUZ, SE O CAMINHO É DIFÍCIL E DE DOR, ABRE O TEU CORAÇÃO HOJE A JESUS, ELE VAI TE REVELAR O SEU AMOR; SE NO MUNDO TU ENFRENTAS MUITAS LUTAS, E AS LÁGRIMAS JÁ TOMAM O TEU SER, VEM A CRISTO, ELE JÁ VENCEU O MUNDO E COM ELE TAMBÉM HOJE VAIS VENCER. LIMPA TUAS LÁGRIMAS, ALEGRIA E PAZ TE DÁ, VEM PARA CRISTO E A VITÓRIA TERÁS; EXISTE ESPERANÇA, DEUS PROVERÁ, ENTREGA O TEU CAMINHO E TUDO ELE FARÁ. ELE UM DIA TRANSFORMOU O MEU VIVER E PASSOU A HABITAR MEU CORAÇÃO, HOJE POSSO CONTEMPLAR O SEU PODER E JESUS SEGURA FORTE A MINHA MÃO; NESTE MUNDO ENFRENTAMOS MUITAS LUTAS, MAS COM CRISTO É MAIS FÁCIL DE VENCER. É SÓ ENTREGAR A ELE OS TEUS PROBLEMAS E UMA NOVA VIDA HOJE VAIS VIVER. LIMPA TUAS LÁGRIMAS, ALEGRIA E PAZ TE DÁ, VEM PARA CRISTO E A VITÓRIA TERÁS; EXISTE ESPERANÇA, DEUS PROVERÁ, ENTREGA O TEU CAMINHO E TUDO ELE FARÁ. ENTREGA O TEU CAMINHO E TUDO ELE FARÁ.",
         "0.7703087883087223"
        ],
        [
         "288",
         "BASTA DIZERES O QUE QUERES",
         "BASTA DIZERES O QUE QUERES JESUS PRONTO ESTÁ A TE OUVIR, BASTA COM O SENHOR SERES SINCERO E ELE TE RESPONDERÁ. A ALEGRIA QUE NO MUNDO JAMAIS PUDESTE ENCONTRAR, EM CRISTO TERÁS O PRAZER, SIM, DELA GOZAR. SENTE OS BRAÇOS DE JESUS QUERENDO TE SOCORRER, OUVE A VOZ SUAVE DO FILHO DE DEUS DIZENDO: TE AMO E QUERO TE SALVAR. CRISTO QUER QUE ESTEJAS CONOSCO QUANDO VIER NOS BUSCAR PROCLAMANDO: VINDE BENDITOS DE MEU PAI COMIGO NO CÉU MORAR. SENTE OS BRAÇOS DE JESUS QUERENDO TE SOCORRER, OUVE A VOZ SUAVE DO FILHO DE DEUS DIZENDO: TE AMO E QUERO TE SALVAR. TE AMO E QUERO TE SALVAR.",
         "0.7688683375800061"
        ],
        [
         "207",
         "DEUS ENVIOU SEU FILHO AMADO",
         "DEUS ENVIOU SEU FILHO AMADO PARA MORRER EM MEU LUGAR; NA CRUZ SOFREU POR MEUS PECADOS, MAS O SEPULCRO VAZIO ESTÁ PORQUE ELE VIVE. PORQUE ELE VIVE, POSSO CRER NO AMANHÃ; PORQUE ELE VIVE, TEMOR NÃO HÁ. MAS EU BEM SEI (EU SEI) QUE A MINHA VIDA ESTÁ NAS MÃOS DO MEU JESUS, QUE VIVO ESTÁ. E QUANDO, ENFIM, CHEGAR A HORA EM QUE A MORTE ENFRENTAREI; SEM MEDO, ENTÃO, TEREI VITÓRIA, VEREI NA GLÓRIA O MEU JESUS QUE VIVO ESTÁ. PORQUE ELE VIVE, POSSO CRER NO AMANHÃ; PORQUE ELE VIVE, TEMOR NÃO HÁ. MAS EU BEM SEI (EU SEI) QUE A MINHA VIDA ESTÁ NAS MÃOS DO MEU JESUS, QUE VIVO ESTÁ.",
         "0.7676857684348469"
        ],
        [
         "261",
         "CRISTO CAMINHAVA LENTAMENTE",
         "CRISTO CAMINHAVA LENTAMENTE, PASSO A PASSO COM DECISÃO; DE REPENTE ELE FALOU: ALGUÉM TOCOU-ME, ALGUÉM NO MEIO DA MULTIDÃO. MESTRE, A MULTIDÃO TE OPRIME DE TODOS OS LADOS, ASSIM; CRISTO DISSE: ALGUÉM TOCOU-ME DIFERENTE, POIS EU SENTI SAIR VIRTUDE DE MIM. TOCA PELA FÉ AGORA EM JESUS POIS ELE VAI TE CONCEDER A LUZ, ESTENDE A MÃO, JESUS VAI TE TOCAR; TOCA PELA FÉ AGORA, É SÓ PEDIR, QUE DE JESUS VIRTUDE VAI SAIR, ESTENDE A MÃO, JESUS VAI TE TOCAR. ENTÃO UMA MULHER APROXIMOU-SE E DISSE: FUI EU, SENHOR, QUEM TE TOCOU; CRISTO ALI FALOU-LHE MUI SUAVEMENTE: VAI EM PAZ, A TUA FÉ TE SALVOU. SE QUERES A ALEGRIA EM TUA VIDA, SE QUERES A VITÓRIA EM TEU LAR, SENTE AGORA A MORTE TRANSFORMAR-SE EM VIDA QUANDO A MÃO DE DEUS TE TOCAR. TOCA PELA FÉ AGORA EM JESUS POIS ELE VAI TE CONCEDER A LUZ, ESTENDE A MÃO, JESUS VAI TE TOCAR; TOCA PELA FÉ AGORA, É SÓ PEDIR, QUE DE JESUS VIRTUDE VAI SAIR, ESTENDE A MÃO, JESUS VAI TE TOCAR.",
         "0.7675329065857692"
        ],
        [
         "70",
         "PRECIOSAS SÃO AS HORAS",
         "PRECIOSAS SÃO AS HORAS NA PRESENÇA DE JESUS! COMUNHÃO DELICIOSA DA MINHA ALMA COM A LUZ! OS CUIDADOS DESTE MUNDO NUNCA PODEM ME ABALAR, POIS É ELE O MEU ABRIGO, QUANDO O TENTADOR CHEGAR AO SENTIR-ME RODEADO DE CUIDADOS TERREAIS, IRRITADO, ABATIDO OU EM DÚVIDAS FATAIS, A JESUS EU ME DIRIJO NESTES TEMPOS DE AFLIÇÃO; AS PALAVRAS QUE ELE FALA TRAZEM-ME CONSOLAÇÃO SE CONFESSO MEUS TEMORES, TODA A MINHA IMPERFEIÇÃO, ELE ESCUTA COM PACIÊNCIA ESSA TRISTE CONFISSÃO; COM TERNURA REPREENDE MEU PECADO E TODO MAL, ELE É SEMPRE O MEU AMIGO, O MELHOR E MAIS LEAL SE QUEREIS SABER QUÃO DOCE É A SECRETA COMUNHÃO, PODEREIS MUI BEM PROVÁ-LA E TEREIS COMPENSAÇÃO; PROCURAI ESTAR SOZINHOS EM CONVERSA COM JESUS, PROVAREIS NA VOSSA VIDA O ESPÍRITO DA CRUZ",
         "0.732849549084823"
        ]
       ],
       "shape": {
        "columns": 3,
        "rows": 10
       }
      },
      "text/html": [
       "<div>\n",
       "<style scoped>\n",
       "    .dataframe tbody tr th:only-of-type {\n",
       "        vertical-align: middle;\n",
       "    }\n",
       "\n",
       "    .dataframe tbody tr th {\n",
       "        vertical-align: top;\n",
       "    }\n",
       "\n",
       "    .dataframe thead th {\n",
       "        text-align: right;\n",
       "    }\n",
       "</style>\n",
       "<table border=\"1\" class=\"dataframe\">\n",
       "  <thead>\n",
       "    <tr style=\"text-align: right;\">\n",
       "      <th></th>\n",
       "      <th>nome</th>\n",
       "      <th>texto_limpo</th>\n",
       "      <th>topsis_score</th>\n",
       "    </tr>\n",
       "    <tr>\n",
       "      <th>numero</th>\n",
       "      <th></th>\n",
       "      <th></th>\n",
       "      <th></th>\n",
       "    </tr>\n",
       "  </thead>\n",
       "  <tbody>\n",
       "    <tr>\n",
       "      <th>230</th>\n",
       "      <td>FONTE DE ÁGUAS VIVAS</td>\n",
       "      <td>FONTE DE ÁGUAS VIVAS, CRISTO JESUS NOS CONCEDE...</td>\n",
       "      <td>0.985037</td>\n",
       "    </tr>\n",
       "    <tr>\n",
       "      <th>250</th>\n",
       "      <td>SE TU PROCURAS PELA PAZ</td>\n",
       "      <td>SE TU PROCURAS PELA PAZ, SE VAZIO ESTÁ TEU SER...</td>\n",
       "      <td>0.972445</td>\n",
       "    </tr>\n",
       "    <tr>\n",
       "      <th>202</th>\n",
       "      <td>HÁ UMA FONTE ABERTA NO CALVÁRIO</td>\n",
       "      <td>HÁ UMA FONTE ABERTA NO CALVÁRIO CONTRA A IMPUR...</td>\n",
       "      <td>0.963993</td>\n",
       "    </tr>\n",
       "    <tr>\n",
       "      <th>149</th>\n",
       "      <td>JESUS FEZ A PROMESSA</td>\n",
       "      <td>JESUS FEZ A PROMESSA, CONOSCO ESTARIA ATÉ O FI...</td>\n",
       "      <td>0.835042</td>\n",
       "    </tr>\n",
       "    <tr>\n",
       "      <th>229</th>\n",
       "      <td>AO POÇO DE JACÓ CHEGOU JESUS</td>\n",
       "      <td>AO POÇO DE JACÓ CHEGOU JESUS, ESTAVA CANSADO, ...</td>\n",
       "      <td>0.783271</td>\n",
       "    </tr>\n",
       "    <tr>\n",
       "      <th>274</th>\n",
       "      <td>SE EM TUA VIDA NÃO ENCONTRAS PAZ E LUZ</td>\n",
       "      <td>SE EM TUA VIDA NÃO ENCONTRAS PAZ E LUZ, SE O C...</td>\n",
       "      <td>0.770309</td>\n",
       "    </tr>\n",
       "    <tr>\n",
       "      <th>288</th>\n",
       "      <td>BASTA DIZERES O QUE QUERES</td>\n",
       "      <td>BASTA DIZERES O QUE QUERES JESUS PRONTO ESTÁ A...</td>\n",
       "      <td>0.768868</td>\n",
       "    </tr>\n",
       "    <tr>\n",
       "      <th>207</th>\n",
       "      <td>DEUS ENVIOU SEU FILHO AMADO</td>\n",
       "      <td>DEUS ENVIOU SEU FILHO AMADO PARA MORRER EM MEU...</td>\n",
       "      <td>0.767686</td>\n",
       "    </tr>\n",
       "    <tr>\n",
       "      <th>261</th>\n",
       "      <td>CRISTO CAMINHAVA LENTAMENTE</td>\n",
       "      <td>CRISTO CAMINHAVA LENTAMENTE, PASSO A PASSO COM...</td>\n",
       "      <td>0.767533</td>\n",
       "    </tr>\n",
       "    <tr>\n",
       "      <th>70</th>\n",
       "      <td>PRECIOSAS SÃO AS HORAS</td>\n",
       "      <td>PRECIOSAS SÃO AS HORAS NA PRESENÇA DE JESUS! C...</td>\n",
       "      <td>0.732850</td>\n",
       "    </tr>\n",
       "  </tbody>\n",
       "</table>\n",
       "</div>"
      ],
      "text/plain": [
       "                                          nome  \\\n",
       "numero                                           \n",
       "230                       FONTE DE ÁGUAS VIVAS   \n",
       "250                    SE TU PROCURAS PELA PAZ   \n",
       "202            HÁ UMA FONTE ABERTA NO CALVÁRIO   \n",
       "149                       JESUS FEZ A PROMESSA   \n",
       "229               AO POÇO DE JACÓ CHEGOU JESUS   \n",
       "274     SE EM TUA VIDA NÃO ENCONTRAS PAZ E LUZ   \n",
       "288                 BASTA DIZERES O QUE QUERES   \n",
       "207                DEUS ENVIOU SEU FILHO AMADO   \n",
       "261                CRISTO CAMINHAVA LENTAMENTE   \n",
       "70                      PRECIOSAS SÃO AS HORAS   \n",
       "\n",
       "                                              texto_limpo  topsis_score  \n",
       "numero                                                                   \n",
       "230     FONTE DE ÁGUAS VIVAS, CRISTO JESUS NOS CONCEDE...      0.985037  \n",
       "250     SE TU PROCURAS PELA PAZ, SE VAZIO ESTÁ TEU SER...      0.972445  \n",
       "202     HÁ UMA FONTE ABERTA NO CALVÁRIO CONTRA A IMPUR...      0.963993  \n",
       "149     JESUS FEZ A PROMESSA, CONOSCO ESTARIA ATÉ O FI...      0.835042  \n",
       "229     AO POÇO DE JACÓ CHEGOU JESUS, ESTAVA CANSADO, ...      0.783271  \n",
       "274     SE EM TUA VIDA NÃO ENCONTRAS PAZ E LUZ, SE O C...      0.770309  \n",
       "288     BASTA DIZERES O QUE QUERES JESUS PRONTO ESTÁ A...      0.768868  \n",
       "207     DEUS ENVIOU SEU FILHO AMADO PARA MORRER EM MEU...      0.767686  \n",
       "261     CRISTO CAMINHAVA LENTAMENTE, PASSO A PASSO COM...      0.767533  \n",
       "70      PRECIOSAS SÃO AS HORAS NA PRESENÇA DE JESUS! C...      0.732850  "
      ]
     },
     "execution_count": 6,
     "metadata": {},
     "output_type": "execute_result"
    }
   ],
   "source": [
    "print(\"Sugestões para o hino:\", hino_sample.name, hino_sample[\"nome\"])\n",
    "hinos_restantes[[\"nome\", \"texto_limpo\", \"topsis_score\"]].head(10)"
   ]
  }
 ],
 "metadata": {
  "kernelspec": {
   "display_name": "jupyters",
   "language": "python",
   "name": "python3"
  },
  "language_info": {
   "codemirror_mode": {
    "name": "ipython",
    "version": 3
   },
   "file_extension": ".py",
   "mimetype": "text/x-python",
   "name": "python",
   "nbconvert_exporter": "python",
   "pygments_lexer": "ipython3",
   "version": "3.11.11"
  }
 },
 "nbformat": 4,
 "nbformat_minor": 5
}
