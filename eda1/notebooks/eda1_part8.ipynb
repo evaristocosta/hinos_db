{
 "cells": [
  {
   "cell_type": "markdown",
   "id": "d8a6c38c",
   "metadata": {},
   "source": [
    "# Análise de Redes nos Hinos da ICM\n",
    "Este notebook explora a construção e visualização de redes baseadas em coocorrência de palavras e similaridade entre hinos da coletânea principal da Igreja Cristã Maranata.\n",
    "\n",
    "O objetivo é identificar padrões de conexão entre palavras e hinos, utilizando grafos para revelar relações semânticas e temáticas.\n",
    "\n",
    "---\n",
    "**Conteúdo do notebook:**\n",
    "- Construção de rede de coocorrência de palavras\n",
    "- Visualização da rede de palavras\n",
    "- Construção de rede de similaridade entre hinos\n",
    "- Visualização da rede de hinos\n",
    "- Exportação dos grafos para análise externa\n",
    "\n",
    "Este material é público e pode ser compartilhado para fins de pesquisa, estudo ou divulgação cultural."
   ]
  },
  {
   "cell_type": "markdown",
   "id": "ab4e8ad4",
   "metadata": {},
   "source": [
    "# Parte 8 - Redes"
   ]
  },
  {
   "cell_type": "code",
   "execution_count": null,
   "id": "d1550012",
   "metadata": {},
   "outputs": [],
   "source": [
    "import networkx as nx\n",
    "import matplotlib.pyplot as plt\n",
    "from itertools import combinations\n",
    "from collections import Counter\n",
    "import re\n",
    "import pandas as pd\n",
    "\n",
    "hinos_analise: pd.DataFrame = pd.read_pickle(\"..\\\\assets\\\\hinos_analise_tokens.pkl\")\n",
    "\n",
    "\n",
    "# Supondo que 'df' tem uma coluna \"tokens\" com listas de palavras\n",
    "def build_word_cooccurrence_network(df, window_size=2, min_cooccurrence=2):\n",
    "    cooccurrences = Counter()\n",
    "\n",
    "    for tokens in df[\"tokens_no_stops\"]:\n",
    "        for i in range(len(tokens) - window_size + 1):\n",
    "            window = tokens[i : i + window_size]\n",
    "            for pair in combinations(window, 2):\n",
    "                cooccurrences[tuple(sorted(pair))] += 1\n",
    "\n",
    "    # Cria o grafo\n",
    "    G = nx.Graph()\n",
    "    for (w1, w2), freq in cooccurrences.items():\n",
    "        if freq >= min_cooccurrence:\n",
    "            G.add_edge(w1, w2, weight=freq)\n",
    "\n",
    "    return G\n",
    "\n",
    "\n",
    "G = build_word_cooccurrence_network(hinos_analise, window_size=3, min_cooccurrence=3)\n",
    "\n",
    "# Visualização simples\n",
    "plt.figure(figsize=(10, 8))\n",
    "pos = nx.spring_layout(G, k=0.5)\n",
    "nx.draw_networkx_nodes(G, pos, node_size=100, node_color=\"lightblue\")\n",
    "nx.draw_networkx_edges(G, pos, alpha=0.3)\n",
    "nx.draw_networkx_labels(G, pos, font_size=9)\n",
    "plt.title(\"Rede de Coocorrência de Palavras\")\n",
    "plt.axis(\"off\")\n",
    "plt.show()"
   ]
  },
  {
   "cell_type": "markdown",
   "id": "bb9a3d86",
   "metadata": {},
   "source": [
    "### Construção da Rede de Coocorrência de Palavras\n",
    "Nesta etapa, criamos um grafo onde os nós representam palavras e as arestas indicam que essas palavras aparecem próximas nos hinos (janela de 3 palavras).\n",
    "A força da conexão (peso) indica quantas vezes a coocorrência ocorre na coletânea.\n",
    "Esse tipo de rede ajuda a identificar associações frequentes e temas recorrentes no repertório."
   ]
  },
  {
   "cell_type": "code",
   "execution_count": null,
   "id": "da654ca0",
   "metadata": {},
   "outputs": [],
   "source": [
    "from sklearn.feature_extraction.text import TfidfVectorizer\n",
    "from sklearn.metrics.pairwise import cosine_similarity\n",
    "\n",
    "# Usa a coluna 'texto' do dataframe\n",
    "tfidf = TfidfVectorizer()\n",
    "X = tfidf.fit_transform(hinos_analise[\"tokens_no_stops\"].apply(lambda x: \" \".join(x)))\n",
    "\n",
    "# Calcula similaridade entre hinos\n",
    "similarity = cosine_similarity(X)\n",
    "\n",
    "# Cria grafo com base na similaridade\n",
    "G_docs = nx.Graph()\n",
    "for i in range(len(hinos_analise)):\n",
    "    G_docs.add_node(i, label=f\"Hino {i+1}\")\n",
    "\n",
    "# Adiciona arestas apenas para hinos com similaridade alta\n",
    "threshold = 0.3\n",
    "for i in range(len(hinos_analise)):\n",
    "    for j in range(i + 1, len(hinos_analise)):\n",
    "        if similarity[i, j] > threshold:\n",
    "            G_docs.add_edge(i, j, weight=similarity[i, j])\n",
    "\n",
    "# Visualização\n",
    "plt.figure(figsize=(10, 8))\n",
    "pos = nx.spring_layout(G_docs, k=0.6)\n",
    "nx.draw(G_docs, pos, with_labels=True, node_color=\"lightgreen\", node_size=600)\n",
    "plt.title(\"Rede de Similaridade entre Hinos\")\n",
    "plt.show()"
   ]
  },
  {
   "cell_type": "markdown",
   "id": "0c7b3f29",
   "metadata": {},
   "source": [
    "### Rede de Similaridade entre Hinos\n",
    "Agora, criamos uma rede onde cada nó representa um hino e as arestas indicam alta similaridade de conteúdo entre eles, calculada via TF-IDF e similaridade de cosseno.\n",
    "Apenas hinos com similaridade acima de um limiar são conectados, formando grupos temáticos ou estilísticos.\n",
    "A visualização permite identificar clusters de hinos com mensagens ou vocabulário semelhantes."
   ]
  },
  {
   "cell_type": "code",
   "execution_count": null,
   "id": "e1d57440",
   "metadata": {},
   "outputs": [],
   "source": [
    "# Exemplo com seu grafo de coocorrências\n",
    "nx.write_gexf(G, \"rede_palavras.gexf\")\n",
    "\n",
    "# Ou com o grafo de hinos\n",
    "nx.write_gexf(G_docs, \"rede_hinos.gexf\")"
   ]
  },
  {
   "cell_type": "markdown",
   "id": "918f757d",
   "metadata": {},
   "source": [
    "### Exportação dos Grafos para Análise Externa\n",
    "Por fim, exportamos as redes geradas (palavras e hinos) em formato GEXF, que pode ser aberto em softwares como Gephi para análises avançadas de redes.\n",
    "Isso permite explorar métricas de centralidade, modularidade e visualizar comunidades dentro do repertório."
   ]
  }
 ],
 "metadata": {
  "kernelspec": {
   "display_name": "jupyters",
   "language": "python",
   "name": "python3"
  },
  "language_info": {
   "codemirror_mode": {
    "name": "ipython",
    "version": 3
   },
   "file_extension": ".py",
   "mimetype": "text/x-python",
   "name": "python",
   "nbconvert_exporter": "python",
   "pygments_lexer": "ipython3",
   "version": "3.11.11"
  }
 },
 "nbformat": 4,
 "nbformat_minor": 5
}
