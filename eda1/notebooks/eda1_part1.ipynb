{
 "cells": [
  {
   "cell_type": "markdown",
   "metadata": {},
   "source": [
    "# EDA 1 - Exploração da Coletânea Principal de Hinos da ICM\n",
    "\n",
    "Nessa exploração de dados, o objetivo é obter informações sobre a Coletânea de Hinos da Igreja Cristã Maranata (ICM) - Edição 2018.\n",
    "\n",
    "O objetivo é fornecer uma visão geral dos hinos, suas categorias, e aspectos relevantes para pesquisadores, músicos e interessados na música da ICM.\n",
    "\n",
    "Como descrito na própria coletânea:\n",
    "> Os hinos e louvores, editados nesta Coletânea, englobam partes de outras edições já publicadas que expressam gratidão, adoração e louvor ao nosso Deus, entoados em todas épocas vividas pela Igreja Fiel, momento também comemorado pela Igreja Cristã Maranata em seus cinquenta anos de existência. \n",
    "\n",
    "## Origem dos dados\n",
    "\n",
    "A extração de dados para construção da base tem por primeira origem os slides oficiais disponibilizados pelo [Departamento de Louvor da ICM](https://louvoricm.org.br/downloads/). Outros processos manuais foram necessários, e estão disponíveis neste repositório.\n",
    "\n",
    "## Organização\n",
    "\n",
    "Este é o primeiro de oito notebooks, cada um aprofundando diferentes aspectos da análise exploratória dos dados.\n",
    "\n",
    "---\n",
    "**Conteúdo do notebook:**\n",
    "- Introdução e contexto dos dados\n",
    "- Carregamento dos dados da coletânea\n",
    "- Limpeza e preparação dos dados\n",
    "- Análise das categorias de hinos\n",
    "- Visualização dos resultados\n",
    "- Exportação dos dados tratados"
   ]
  },
  {
   "cell_type": "markdown",
   "metadata": {},
   "source": [
    "---\n",
    "\n",
    "**A seguir:** Importação das bibliotecas e conexão com o banco de dados SQLite que contém os hinos extraídos da coletânea."
   ]
  },
  {
   "cell_type": "code",
   "execution_count": null,
   "metadata": {},
   "outputs": [],
   "source": [
    "# --- Conexão com o banco de dados SQLite ---\n",
    "from sqlalchemy import create_engine\n",
    "\n",
    "# Cria engine para acessar o banco de dados local (assets/database.db)\n",
    "engine = create_engine(\"sqlite:///../assets/database.db\")\n",
    "connection = engine.connect()"
   ]
  },
  {
   "cell_type": "markdown",
   "metadata": {},
   "source": [
    "---\n",
    "\n",
    "**A seguir:** Consulta SQL para extrair os dados dos hinos, incluindo número, nome, texto, categoria e descrição da categoria. Os dados são carregados em um DataFrame para análise."
   ]
  },
  {
   "cell_type": "code",
   "execution_count": null,
   "metadata": {},
   "outputs": [],
   "source": [
    "# --- Consulta SQL: Seleção dos hinos da coletânea principal ---\n",
    "import pandas as pd\n",
    "\n",
    "# Monta a query para buscar hinos e suas categorias\n",
    "sql_query = \"\"\"\n",
    "select\n",
    "    numero,\n",
    "    nome,\n",
    "    texto,\n",
    "    texto_limpo,\n",
    "    categoria_id,\n",
    "    c.descricao as categoria\n",
    "from \n",
    "    hino\n",
    "    left join categoria c on c.id = categoria_id\n",
    "where\n",
    "    coletanea_id = 1 -- hinos da coletanea padrao\n",
    "\"\"\"\n",
    "\n",
    "# Executa a consulta e carrega em um DataFrame\n",
    "hinos_analise = pd.read_sql_query(sql_query, connection)\n",
    "\n",
    "# Exibe os primeiros registros para conferência\n",
    "hinos_analise.head()"
   ]
  },
  {
   "cell_type": "markdown",
   "metadata": {},
   "source": [
    "---\n",
    "\n",
    "**A seguir:** Limpeza dos dados: ajusta o campo de número dos hinos, converte para inteiro, renomeia colunas e ordena os hinos para facilitar a análise."
   ]
  },
  {
   "cell_type": "code",
   "execution_count": null,
   "metadata": {},
   "outputs": [],
   "source": [
    "# --- Limpeza e organização dos dados ---\n",
    "# Corrige valores nulos e converte número para inteiro\n",
    "hinos_analise.loc[hinos_analise[\"numero\"] == \"null\", \"numero\"] = 0\n",
    "hinos_analise[\"numero_int\"] = hinos_analise[\"numero\"].astype(int)\n",
    "\n",
    "# Remove coluna antiga, renomeia e ordena\n",
    "hinos_analise = (\n",
    "    hinos_analise.drop(columns=[\"numero\"])\n",
    "    .rename(columns={\"numero_int\": \"numero\"})\n",
    "    .sort_values(\"numero\")\n",
    ")\n",
    "\n",
    "# Exibe os dados organizados\n",
    "hinos_analise.head()"
   ]
  },
  {
   "cell_type": "markdown",
   "metadata": {},
   "source": [
    "---\n",
    "\n",
    "**A seguir:** Exportação dos dados tratados para um arquivo pickle, permitindo reutilização em outras análises ou notebooks."
   ]
  },
  {
   "cell_type": "code",
   "execution_count": null,
   "metadata": {},
   "outputs": [],
   "source": [
    "# --- Salvando o DataFrame para uso posterior ---\n",
    "from pathlib import Path\n",
    "\n",
    "assets_folder = Path(\"../assets\")\n",
    "hinos_analise.to_pickle(assets_folder / \"hinos_analise.pkl\")"
   ]
  },
  {
   "cell_type": "markdown",
   "metadata": {},
   "source": [
    "795 louvores ao todo.\n",
    "\n",
    "## Categorias"
   ]
  },
  {
   "cell_type": "markdown",
   "metadata": {},
   "source": [
    "---\n",
    "\n",
    "**A seguir:** Agrupamento dos hinos por categoria, contabilizando a quantidade de hinos em cada uma e criando abreviações para facilitar a visualização."
   ]
  },
  {
   "cell_type": "code",
   "execution_count": null,
   "metadata": {},
   "outputs": [],
   "source": [
    "# --- Contagem de hinos por categoria ---\n",
    "categorias_count = (\n",
    "    hinos_analise[[\"categoria_id\", \"categoria\", \"numero\"]]\n",
    "    .groupby([\"categoria_id\", \"categoria\"])\n",
    "    .count()\n",
    "    .reset_index()\n",
    "    .rename(columns={\"numero\": \"contagem\"})\n",
    ")\n",
    "\n",
    "# Cria abreviação para categorias longas\n",
    "categorias_count[\"categoria_abr\"] = categorias_count[\"categoria\"].apply(\n",
    "    lambda x: x[:13] + \"...\" if len(x) > 15 else x\n",
    ")\n",
    "\n",
    "# Exibe o resultado\n",
    "categorias_count"
   ]
  },
  {
   "cell_type": "markdown",
   "metadata": {},
   "source": [
    "---\n",
    "\n",
    "**A seguir:** Visualização gráfica da distribuição dos hinos por categoria, utilizando Seaborn e Matplotlib para criar um gráfico de barras."
   ]
  },
  {
   "cell_type": "code",
   "execution_count": null,
   "metadata": {},
   "outputs": [],
   "source": [
    "# --- Visualização da distribuição de hinos por categoria ---\n",
    "import seaborn as sns\n",
    "import matplotlib.pyplot as plt\n",
    "\n",
    "sns.set_theme(style=\"darkgrid\")\n",
    "\n",
    "# Cria gráfico de barras para visualizar a contagem de hinos por categoria\n",
    "fig, ax = plt.subplots(figsize=(12, 8))\n",
    "sns.barplot(x=\"contagem\", y=\"categoria\", data=categorias_count, ax=ax)\n",
    "plt.title(\"Distribuição de Hinos por Categoria\")\n",
    "plt.xlabel(\"Quantidade de Hinos\")\n",
    "plt.ylabel(\"Categoria\")\n",
    "plt.tight_layout()\n",
    "plt.show()"
   ]
  },
  {
   "cell_type": "markdown",
   "metadata": {},
   "source": [
    "---\n",
    "\n",
    "**Fim do notebook:** Aqui finalizamos a análise exploratória, com os dados prontos para visualização e exportação. "
   ]
  }
 ],
 "metadata": {
  "kernelspec": {
   "display_name": "jupyters",
   "language": "python",
   "name": "python3"
  },
  "language_info": {
   "codemirror_mode": {
    "name": "ipython",
    "version": 3
   },
   "file_extension": ".py",
   "mimetype": "text/x-python",
   "name": "python",
   "nbconvert_exporter": "python",
   "pygments_lexer": "ipython3",
   "version": "3.11.11"
  }
 },
 "nbformat": 4,
 "nbformat_minor": 2
}
