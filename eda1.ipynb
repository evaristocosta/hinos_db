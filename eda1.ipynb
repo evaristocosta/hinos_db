{
 "cells": [
  {
   "cell_type": "markdown",
   "metadata": {},
   "source": [
    "# EDA 1 - Exploração Simples\n",
    "\n",
    "Nessa rápida exploração de dados, o objetivo é obter rápidas informações sobre a Coletânea de Hinos da Igreja Cristã Maranata (ICM) - Edição 2018.\n",
    "\n",
    "Como descrito na própria coletânea:\n",
    "> Os hinos e louvores, editados nesta Coletânea, englobam partes de outras edições já publicadas que expressam gratidão, adoração e louvor ao nosso Deus, entoados em todas épocas vividas pela Igreja Fiel, momento também comemorado pela Igreja Cristã Maranata em seus cinquenta anos de existência. \n",
    "\n",
    "## Origem dos dados\n",
    "\n",
    "A extração de dados para construção da base tem por origem slides oficiais disponibilizados pelo Departamento de Louvor da ICM. Todo processo de extração está descrito no notebook `pptx_txt_json.ipynb`, neste mesmo repositório.\n",
    "\n",
    "Até o momento desta análise, os dados estão salvos em uma base de dados SQLite.\n",
    "\n"
   ]
  },
  {
   "cell_type": "code",
   "execution_count": 1,
   "metadata": {},
   "outputs": [
    {
     "data": {
      "text/plain": [
       "<sqlalchemy.engine.base.Connection at 0x2011a4a37d0>"
      ]
     },
     "execution_count": 1,
     "metadata": {},
     "output_type": "execute_result"
    }
   ],
   "source": [
    "from sqlalchemy import create_engine\n",
    "\n",
    "# Create an engine to the SQLite database\n",
    "engine = create_engine(\"sqlite:///db//hinos.db\")\n",
    "\n",
    "# Connect to the database\n",
    "connection = engine.connect()\n",
    "connection"
   ]
  },
  {
   "cell_type": "code",
   "execution_count": 2,
   "metadata": {},
   "outputs": [
    {
     "data": {
      "text/html": [
       "<div>\n",
       "<style scoped>\n",
       "    .dataframe tbody tr th:only-of-type {\n",
       "        vertical-align: middle;\n",
       "    }\n",
       "\n",
       "    .dataframe tbody tr th {\n",
       "        vertical-align: top;\n",
       "    }\n",
       "\n",
       "    .dataframe thead th {\n",
       "        text-align: right;\n",
       "    }\n",
       "</style>\n",
       "<table border=\"1\" class=\"dataframe\">\n",
       "  <thead>\n",
       "    <tr style=\"text-align: right;\">\n",
       "      <th></th>\n",
       "      <th>numero</th>\n",
       "      <th>nome</th>\n",
       "      <th>texto</th>\n",
       "      <th>texto_limpo</th>\n",
       "      <th>categoria_id</th>\n",
       "      <th>categoria</th>\n",
       "    </tr>\n",
       "  </thead>\n",
       "  <tbody>\n",
       "    <tr>\n",
       "      <th>0</th>\n",
       "      <td>01</td>\n",
       "      <td>01 - O SANGUE DE JESUS TEM PODER</td>\n",
       "      <td>O SANGUE DE JESUS TEM PODER, PODER QUE A MIM P...</td>\n",
       "      <td>O SANGUE DE JESUS TEM PODER, PODER QUE A MIM P...</td>\n",
       "      <td>1</td>\n",
       "      <td>CLAMOR</td>\n",
       "    </tr>\n",
       "    <tr>\n",
       "      <th>1</th>\n",
       "      <td>02</td>\n",
       "      <td>02 - O SANGUE DE JESUS TEM PODER PARA SALVAR</td>\n",
       "      <td>O SANGUE DE JESUS TEM PODER (2x) O SANGUE DE J...</td>\n",
       "      <td>O SANGUE DE JESUS TEM PODER  O SANGUE DE JESUS...</td>\n",
       "      <td>1</td>\n",
       "      <td>CLAMOR</td>\n",
       "    </tr>\n",
       "    <tr>\n",
       "      <th>2</th>\n",
       "      <td>03</td>\n",
       "      <td>03 - CLAMO A TI</td>\n",
       "      <td>CLAMO A TI, Ó MEU SENHOR, CLAMO A TI, MEU SALV...</td>\n",
       "      <td>CLAMO A TI, Ó MEU SENHOR, CLAMO A TI, MEU SALV...</td>\n",
       "      <td>1</td>\n",
       "      <td>CLAMOR</td>\n",
       "    </tr>\n",
       "    <tr>\n",
       "      <th>3</th>\n",
       "      <td>04</td>\n",
       "      <td>04 - QUANDO TE PROSTRARES</td>\n",
       "      <td>QUANDO TE PROSTRARES DIANTE DE DEUS, LEMBRA QU...</td>\n",
       "      <td>QUANDO TE PROSTRARES DIANTE DE DEUS, LEMBRA QU...</td>\n",
       "      <td>1</td>\n",
       "      <td>CLAMOR</td>\n",
       "    </tr>\n",
       "    <tr>\n",
       "      <th>4</th>\n",
       "      <td>05</td>\n",
       "      <td>05 - CLAMANDO ESTOU</td>\n",
       "      <td>CLAMANDO ESTOU, Ó MEU JESUS, POR TEU SANGUE RE...</td>\n",
       "      <td>CLAMANDO ESTOU, Ó MEU JESUS, POR TEU SANGUE RE...</td>\n",
       "      <td>1</td>\n",
       "      <td>CLAMOR</td>\n",
       "    </tr>\n",
       "    <tr>\n",
       "      <th>...</th>\n",
       "      <td>...</td>\n",
       "      <td>...</td>\n",
       "      <td>...</td>\n",
       "      <td>...</td>\n",
       "      <td>...</td>\n",
       "      <td>...</td>\n",
       "    </tr>\n",
       "    <tr>\n",
       "      <th>790</th>\n",
       "      <td>791</td>\n",
       "      <td>791 - EU QUERO MAIS E MAIS DE CRISTO</td>\n",
       "      <td>EU QUERO MAIS E MAIS DE CRISTO. EU QUERO MAIS ...</td>\n",
       "      <td>EU QUERO MAIS E MAIS DE CRISTO. EU QUERO MAIS ...</td>\n",
       "      <td>11</td>\n",
       "      <td>CORINHOS</td>\n",
       "    </tr>\n",
       "    <tr>\n",
       "      <th>791</th>\n",
       "      <td>792</td>\n",
       "      <td>792 - LOUVANDO A DEUS</td>\n",
       "      <td>LOUVANDO A DEUS E CAINDO NA GRAÇA DE TODO O PO...</td>\n",
       "      <td>LOUVANDO A DEUS E CAINDO NA GRAÇA DE TODO O PO...</td>\n",
       "      <td>11</td>\n",
       "      <td>CORINHOS</td>\n",
       "    </tr>\n",
       "    <tr>\n",
       "      <th>792</th>\n",
       "      <td>793</td>\n",
       "      <td>793 - MESA PREPARADA</td>\n",
       "      <td>MESA PREPARADA, CABEÇA UNGIDA, CÁLICE TRANSBOR...</td>\n",
       "      <td>MESA PREPARADA, CABEÇA UNGIDA, CÁLICE TRANSBOR...</td>\n",
       "      <td>11</td>\n",
       "      <td>CORINHOS</td>\n",
       "    </tr>\n",
       "    <tr>\n",
       "      <th>793</th>\n",
       "      <td>794</td>\n",
       "      <td>794 - JESUS LIBERTOU</td>\n",
       "      <td>JESUS LIBERTOU MINH’ALMA DO MEU VIL PECADO. EL...</td>\n",
       "      <td>JESUS LIBERTOU MINH’ALMA DO MEU VIL PECADO. EL...</td>\n",
       "      <td>11</td>\n",
       "      <td>CORINHOS</td>\n",
       "    </tr>\n",
       "    <tr>\n",
       "      <th>794</th>\n",
       "      <td>null</td>\n",
       "      <td>AQUILO QUE FUI NÃO SOU MAIS</td>\n",
       "      <td>AQUILO QUE FUI NÃO SOU MAIS, NEM SOU TUDO O QU...</td>\n",
       "      <td>AQUILO QUE FUI NÃO SOU MAIS, NEM SOU TUDO O QU...</td>\n",
       "      <td>1</td>\n",
       "      <td>CLAMOR</td>\n",
       "    </tr>\n",
       "  </tbody>\n",
       "</table>\n",
       "<p>795 rows × 6 columns</p>\n",
       "</div>"
      ],
      "text/plain": [
       "    numero                                          nome  \\\n",
       "0       01              01 - O SANGUE DE JESUS TEM PODER   \n",
       "1       02  02 - O SANGUE DE JESUS TEM PODER PARA SALVAR   \n",
       "2       03                               03 - CLAMO A TI   \n",
       "3       04                     04 - QUANDO TE PROSTRARES   \n",
       "4       05                           05 - CLAMANDO ESTOU   \n",
       "..     ...                                           ...   \n",
       "790    791          791 - EU QUERO MAIS E MAIS DE CRISTO   \n",
       "791    792                         792 - LOUVANDO A DEUS   \n",
       "792    793                          793 - MESA PREPARADA   \n",
       "793    794                          794 - JESUS LIBERTOU   \n",
       "794   null                   AQUILO QUE FUI NÃO SOU MAIS   \n",
       "\n",
       "                                                 texto  \\\n",
       "0    O SANGUE DE JESUS TEM PODER, PODER QUE A MIM P...   \n",
       "1    O SANGUE DE JESUS TEM PODER (2x) O SANGUE DE J...   \n",
       "2    CLAMO A TI, Ó MEU SENHOR, CLAMO A TI, MEU SALV...   \n",
       "3    QUANDO TE PROSTRARES DIANTE DE DEUS, LEMBRA QU...   \n",
       "4    CLAMANDO ESTOU, Ó MEU JESUS, POR TEU SANGUE RE...   \n",
       "..                                                 ...   \n",
       "790  EU QUERO MAIS E MAIS DE CRISTO. EU QUERO MAIS ...   \n",
       "791  LOUVANDO A DEUS E CAINDO NA GRAÇA DE TODO O PO...   \n",
       "792  MESA PREPARADA, CABEÇA UNGIDA, CÁLICE TRANSBOR...   \n",
       "793  JESUS LIBERTOU MINH’ALMA DO MEU VIL PECADO. EL...   \n",
       "794  AQUILO QUE FUI NÃO SOU MAIS, NEM SOU TUDO O QU...   \n",
       "\n",
       "                                           texto_limpo  categoria_id categoria  \n",
       "0    O SANGUE DE JESUS TEM PODER, PODER QUE A MIM P...             1    CLAMOR  \n",
       "1    O SANGUE DE JESUS TEM PODER  O SANGUE DE JESUS...             1    CLAMOR  \n",
       "2    CLAMO A TI, Ó MEU SENHOR, CLAMO A TI, MEU SALV...             1    CLAMOR  \n",
       "3    QUANDO TE PROSTRARES DIANTE DE DEUS, LEMBRA QU...             1    CLAMOR  \n",
       "4    CLAMANDO ESTOU, Ó MEU JESUS, POR TEU SANGUE RE...             1    CLAMOR  \n",
       "..                                                 ...           ...       ...  \n",
       "790  EU QUERO MAIS E MAIS DE CRISTO. EU QUERO MAIS ...            11  CORINHOS  \n",
       "791  LOUVANDO A DEUS E CAINDO NA GRAÇA DE TODO O PO...            11  CORINHOS  \n",
       "792  MESA PREPARADA, CABEÇA UNGIDA, CÁLICE TRANSBOR...            11  CORINHOS  \n",
       "793  JESUS LIBERTOU MINH’ALMA DO MEU VIL PECADO. EL...            11  CORINHOS  \n",
       "794  AQUILO QUE FUI NÃO SOU MAIS, NEM SOU TUDO O QU...             1    CLAMOR  \n",
       "\n",
       "[795 rows x 6 columns]"
      ]
     },
     "execution_count": 2,
     "metadata": {},
     "output_type": "execute_result"
    }
   ],
   "source": [
    "import pandas as pd\n",
    "\n",
    "sql_query = \"\"\"\n",
    "select\n",
    "    numero,\n",
    "    nome,\n",
    "    texto,\n",
    "    texto_limpo,\n",
    "    categoria_id,\n",
    "    c.descricao as categoria\n",
    "from \n",
    "    hino\n",
    "    left join categoria c on c.id = categoria_id\n",
    "where\n",
    "    coletanea_id = 1\n",
    "\"\"\"\n",
    "\n",
    "hinos_analise = pd.read_sql_query(sql_query, connection)\n",
    "hinos_analise"
   ]
  },
  {
   "cell_type": "code",
   "execution_count": 3,
   "metadata": {},
   "outputs": [
    {
     "data": {
      "text/html": [
       "<div>\n",
       "<style scoped>\n",
       "    .dataframe tbody tr th:only-of-type {\n",
       "        vertical-align: middle;\n",
       "    }\n",
       "\n",
       "    .dataframe tbody tr th {\n",
       "        vertical-align: top;\n",
       "    }\n",
       "\n",
       "    .dataframe thead th {\n",
       "        text-align: right;\n",
       "    }\n",
       "</style>\n",
       "<table border=\"1\" class=\"dataframe\">\n",
       "  <thead>\n",
       "    <tr style=\"text-align: right;\">\n",
       "      <th></th>\n",
       "      <th>texto</th>\n",
       "      <th>texto_limpo</th>\n",
       "      <th>categoria_id</th>\n",
       "      <th>categoria</th>\n",
       "      <th>numero_int</th>\n",
       "      <th>nome_limpo</th>\n",
       "    </tr>\n",
       "  </thead>\n",
       "  <tbody>\n",
       "    <tr>\n",
       "      <th>794</th>\n",
       "      <td>AQUILO QUE FUI NÃO SOU MAIS, NEM SOU TUDO O QU...</td>\n",
       "      <td>AQUILO QUE FUI NÃO SOU MAIS, NEM SOU TUDO O QU...</td>\n",
       "      <td>1</td>\n",
       "      <td>CLAMOR</td>\n",
       "      <td>0</td>\n",
       "      <td>AQUILO QUE FUI NÃO SOU MAIS</td>\n",
       "    </tr>\n",
       "    <tr>\n",
       "      <th>0</th>\n",
       "      <td>O SANGUE DE JESUS TEM PODER, PODER QUE A MIM P...</td>\n",
       "      <td>O SANGUE DE JESUS TEM PODER, PODER QUE A MIM P...</td>\n",
       "      <td>1</td>\n",
       "      <td>CLAMOR</td>\n",
       "      <td>1</td>\n",
       "      <td>O SANGUE DE JESUS TEM PODER</td>\n",
       "    </tr>\n",
       "    <tr>\n",
       "      <th>1</th>\n",
       "      <td>O SANGUE DE JESUS TEM PODER (2x) O SANGUE DE J...</td>\n",
       "      <td>O SANGUE DE JESUS TEM PODER  O SANGUE DE JESUS...</td>\n",
       "      <td>1</td>\n",
       "      <td>CLAMOR</td>\n",
       "      <td>2</td>\n",
       "      <td>O SANGUE DE JESUS TEM PODER PARA SALVAR</td>\n",
       "    </tr>\n",
       "    <tr>\n",
       "      <th>2</th>\n",
       "      <td>CLAMO A TI, Ó MEU SENHOR, CLAMO A TI, MEU SALV...</td>\n",
       "      <td>CLAMO A TI, Ó MEU SENHOR, CLAMO A TI, MEU SALV...</td>\n",
       "      <td>1</td>\n",
       "      <td>CLAMOR</td>\n",
       "      <td>3</td>\n",
       "      <td>CLAMO A TI</td>\n",
       "    </tr>\n",
       "    <tr>\n",
       "      <th>3</th>\n",
       "      <td>QUANDO TE PROSTRARES DIANTE DE DEUS, LEMBRA QU...</td>\n",
       "      <td>QUANDO TE PROSTRARES DIANTE DE DEUS, LEMBRA QU...</td>\n",
       "      <td>1</td>\n",
       "      <td>CLAMOR</td>\n",
       "      <td>4</td>\n",
       "      <td>QUANDO TE PROSTRARES</td>\n",
       "    </tr>\n",
       "    <tr>\n",
       "      <th>...</th>\n",
       "      <td>...</td>\n",
       "      <td>...</td>\n",
       "      <td>...</td>\n",
       "      <td>...</td>\n",
       "      <td>...</td>\n",
       "      <td>...</td>\n",
       "    </tr>\n",
       "    <tr>\n",
       "      <th>789</th>\n",
       "      <td>AQUELE QUE HABITA NO ESCONDERIJO DO ALTÍSSIMO ...</td>\n",
       "      <td>AQUELE QUE HABITA NO ESCONDERIJO DO ALTÍSSIMO ...</td>\n",
       "      <td>11</td>\n",
       "      <td>CORINHOS</td>\n",
       "      <td>790</td>\n",
       "      <td>AQUELE QUE HABITA NO ESCONDERIJO</td>\n",
       "    </tr>\n",
       "    <tr>\n",
       "      <th>790</th>\n",
       "      <td>EU QUERO MAIS E MAIS DE CRISTO. EU QUERO MAIS ...</td>\n",
       "      <td>EU QUERO MAIS E MAIS DE CRISTO. EU QUERO MAIS ...</td>\n",
       "      <td>11</td>\n",
       "      <td>CORINHOS</td>\n",
       "      <td>791</td>\n",
       "      <td>EU QUERO MAIS E MAIS DE CRISTO</td>\n",
       "    </tr>\n",
       "    <tr>\n",
       "      <th>791</th>\n",
       "      <td>LOUVANDO A DEUS E CAINDO NA GRAÇA DE TODO O PO...</td>\n",
       "      <td>LOUVANDO A DEUS E CAINDO NA GRAÇA DE TODO O PO...</td>\n",
       "      <td>11</td>\n",
       "      <td>CORINHOS</td>\n",
       "      <td>792</td>\n",
       "      <td>LOUVANDO A DEUS</td>\n",
       "    </tr>\n",
       "    <tr>\n",
       "      <th>792</th>\n",
       "      <td>MESA PREPARADA, CABEÇA UNGIDA, CÁLICE TRANSBOR...</td>\n",
       "      <td>MESA PREPARADA, CABEÇA UNGIDA, CÁLICE TRANSBOR...</td>\n",
       "      <td>11</td>\n",
       "      <td>CORINHOS</td>\n",
       "      <td>793</td>\n",
       "      <td>MESA PREPARADA</td>\n",
       "    </tr>\n",
       "    <tr>\n",
       "      <th>793</th>\n",
       "      <td>JESUS LIBERTOU MINH’ALMA DO MEU VIL PECADO. EL...</td>\n",
       "      <td>JESUS LIBERTOU MINH’ALMA DO MEU VIL PECADO. EL...</td>\n",
       "      <td>11</td>\n",
       "      <td>CORINHOS</td>\n",
       "      <td>794</td>\n",
       "      <td>JESUS LIBERTOU</td>\n",
       "    </tr>\n",
       "  </tbody>\n",
       "</table>\n",
       "<p>795 rows × 6 columns</p>\n",
       "</div>"
      ],
      "text/plain": [
       "                                                 texto  \\\n",
       "794  AQUILO QUE FUI NÃO SOU MAIS, NEM SOU TUDO O QU...   \n",
       "0    O SANGUE DE JESUS TEM PODER, PODER QUE A MIM P...   \n",
       "1    O SANGUE DE JESUS TEM PODER (2x) O SANGUE DE J...   \n",
       "2    CLAMO A TI, Ó MEU SENHOR, CLAMO A TI, MEU SALV...   \n",
       "3    QUANDO TE PROSTRARES DIANTE DE DEUS, LEMBRA QU...   \n",
       "..                                                 ...   \n",
       "789  AQUELE QUE HABITA NO ESCONDERIJO DO ALTÍSSIMO ...   \n",
       "790  EU QUERO MAIS E MAIS DE CRISTO. EU QUERO MAIS ...   \n",
       "791  LOUVANDO A DEUS E CAINDO NA GRAÇA DE TODO O PO...   \n",
       "792  MESA PREPARADA, CABEÇA UNGIDA, CÁLICE TRANSBOR...   \n",
       "793  JESUS LIBERTOU MINH’ALMA DO MEU VIL PECADO. EL...   \n",
       "\n",
       "                                           texto_limpo  categoria_id  \\\n",
       "794  AQUILO QUE FUI NÃO SOU MAIS, NEM SOU TUDO O QU...             1   \n",
       "0    O SANGUE DE JESUS TEM PODER, PODER QUE A MIM P...             1   \n",
       "1    O SANGUE DE JESUS TEM PODER  O SANGUE DE JESUS...             1   \n",
       "2    CLAMO A TI, Ó MEU SENHOR, CLAMO A TI, MEU SALV...             1   \n",
       "3    QUANDO TE PROSTRARES DIANTE DE DEUS, LEMBRA QU...             1   \n",
       "..                                                 ...           ...   \n",
       "789  AQUELE QUE HABITA NO ESCONDERIJO DO ALTÍSSIMO ...            11   \n",
       "790  EU QUERO MAIS E MAIS DE CRISTO. EU QUERO MAIS ...            11   \n",
       "791  LOUVANDO A DEUS E CAINDO NA GRAÇA DE TODO O PO...            11   \n",
       "792  MESA PREPARADA, CABEÇA UNGIDA, CÁLICE TRANSBOR...            11   \n",
       "793  JESUS LIBERTOU MINH’ALMA DO MEU VIL PECADO. EL...            11   \n",
       "\n",
       "    categoria  numero_int                               nome_limpo  \n",
       "794    CLAMOR           0              AQUILO QUE FUI NÃO SOU MAIS  \n",
       "0      CLAMOR           1              O SANGUE DE JESUS TEM PODER  \n",
       "1      CLAMOR           2  O SANGUE DE JESUS TEM PODER PARA SALVAR  \n",
       "2      CLAMOR           3                               CLAMO A TI  \n",
       "3      CLAMOR           4                     QUANDO TE PROSTRARES  \n",
       "..        ...         ...                                      ...  \n",
       "789  CORINHOS         790         AQUELE QUE HABITA NO ESCONDERIJO  \n",
       "790  CORINHOS         791           EU QUERO MAIS E MAIS DE CRISTO  \n",
       "791  CORINHOS         792                          LOUVANDO A DEUS  \n",
       "792  CORINHOS         793                           MESA PREPARADA  \n",
       "793  CORINHOS         794                           JESUS LIBERTOU  \n",
       "\n",
       "[795 rows x 6 columns]"
      ]
     },
     "execution_count": 3,
     "metadata": {},
     "output_type": "execute_result"
    }
   ],
   "source": [
    "hinos_analise.loc[hinos_analise[\"numero\"] == \"null\", \"numero\"] = 0\n",
    "hinos_analise[\"numero_int\"] = hinos_analise[\"numero\"].astype(int)\n",
    "hinos_analise[\"nome_limpo\"] = hinos_analise[\"nome\"].str.split(\" - \").str[1].str.strip()\n",
    "hinos_analise.loc[hinos_analise[\"numero_int\"] == 0, \"nome_limpo\"] = hinos_analise[\n",
    "    \"nome\"\n",
    "]\n",
    "hinos_analise = hinos_analise.drop(columns=[\"numero\", \"nome\"])\n",
    "hinos_analise.sort_values(\"numero_int\")"
   ]
  },
  {
   "cell_type": "markdown",
   "metadata": {},
   "source": [
    "795 louvores ao todo.\n",
    "\n",
    "Categorias:"
   ]
  },
  {
   "cell_type": "code",
   "execution_count": 4,
   "metadata": {},
   "outputs": [
    {
     "data": {
      "text/html": [
       "<div>\n",
       "<style scoped>\n",
       "    .dataframe tbody tr th:only-of-type {\n",
       "        vertical-align: middle;\n",
       "    }\n",
       "\n",
       "    .dataframe tbody tr th {\n",
       "        vertical-align: top;\n",
       "    }\n",
       "\n",
       "    .dataframe thead th {\n",
       "        text-align: right;\n",
       "    }\n",
       "</style>\n",
       "<table border=\"1\" class=\"dataframe\">\n",
       "  <thead>\n",
       "    <tr style=\"text-align: right;\">\n",
       "      <th></th>\n",
       "      <th>categoria_id</th>\n",
       "      <th>categoria</th>\n",
       "      <th>contagem</th>\n",
       "    </tr>\n",
       "  </thead>\n",
       "  <tbody>\n",
       "    <tr>\n",
       "      <th>0</th>\n",
       "      <td>1</td>\n",
       "      <td>CLAMOR</td>\n",
       "      <td>57</td>\n",
       "    </tr>\n",
       "    <tr>\n",
       "      <th>1</th>\n",
       "      <td>2</td>\n",
       "      <td>INVOCAÇÃO E COMUNHÃO</td>\n",
       "      <td>40</td>\n",
       "    </tr>\n",
       "    <tr>\n",
       "      <th>2</th>\n",
       "      <td>3</td>\n",
       "      <td>DEDICAÇÃO</td>\n",
       "      <td>104</td>\n",
       "    </tr>\n",
       "    <tr>\n",
       "      <th>3</th>\n",
       "      <td>4</td>\n",
       "      <td>MORTE, RESSURREIÇÃO E SALVAÇÃO</td>\n",
       "      <td>94</td>\n",
       "    </tr>\n",
       "    <tr>\n",
       "      <th>4</th>\n",
       "      <td>5</td>\n",
       "      <td>CONSOLO E ENCORAJAMENTO</td>\n",
       "      <td>91</td>\n",
       "    </tr>\n",
       "    <tr>\n",
       "      <th>5</th>\n",
       "      <td>6</td>\n",
       "      <td>SANTIFICAÇÃO E DERRAMAMENTO DO ESPÍRITO SANTO</td>\n",
       "      <td>92</td>\n",
       "    </tr>\n",
       "    <tr>\n",
       "      <th>6</th>\n",
       "      <td>7</td>\n",
       "      <td>VOLTA DE JESUS E ETERNIDADE</td>\n",
       "      <td>94</td>\n",
       "    </tr>\n",
       "    <tr>\n",
       "      <th>7</th>\n",
       "      <td>8</td>\n",
       "      <td>LOUVOR</td>\n",
       "      <td>78</td>\n",
       "    </tr>\n",
       "    <tr>\n",
       "      <th>8</th>\n",
       "      <td>9</td>\n",
       "      <td>SALMOS DE LOUVOR</td>\n",
       "      <td>16</td>\n",
       "    </tr>\n",
       "    <tr>\n",
       "      <th>9</th>\n",
       "      <td>10</td>\n",
       "      <td>GRUPO DE LOUVOR</td>\n",
       "      <td>65</td>\n",
       "    </tr>\n",
       "    <tr>\n",
       "      <th>10</th>\n",
       "      <td>11</td>\n",
       "      <td>CORINHOS</td>\n",
       "      <td>64</td>\n",
       "    </tr>\n",
       "  </tbody>\n",
       "</table>\n",
       "</div>"
      ],
      "text/plain": [
       "    categoria_id                                      categoria  contagem\n",
       "0              1                                         CLAMOR        57\n",
       "1              2                           INVOCAÇÃO E COMUNHÃO        40\n",
       "2              3                                      DEDICAÇÃO       104\n",
       "3              4                 MORTE, RESSURREIÇÃO E SALVAÇÃO        94\n",
       "4              5                        CONSOLO E ENCORAJAMENTO        91\n",
       "5              6  SANTIFICAÇÃO E DERRAMAMENTO DO ESPÍRITO SANTO        92\n",
       "6              7                    VOLTA DE JESUS E ETERNIDADE        94\n",
       "7              8                                         LOUVOR        78\n",
       "8              9                               SALMOS DE LOUVOR        16\n",
       "9             10                                GRUPO DE LOUVOR        65\n",
       "10            11                                       CORINHOS        64"
      ]
     },
     "execution_count": 4,
     "metadata": {},
     "output_type": "execute_result"
    }
   ],
   "source": [
    "categorias_count = (\n",
    "    hinos_analise[[\"categoria_id\", \"categoria\", \"numero_int\"]]\n",
    "    .groupby([\"categoria_id\", \"categoria\"])\n",
    "    .count()\n",
    "    .reset_index()\n",
    "    .rename(columns={\"numero_int\": \"contagem\"})\n",
    ")\n",
    "categorias_count"
   ]
  },
  {
   "cell_type": "code",
   "execution_count": 9,
   "metadata": {},
   "outputs": [
    {
     "data": {
      "application/vnd.plotly.v1+json": {
       "config": {
        "plotlyServerURL": "https://plot.ly"
       },
       "data": [
        {
         "hovertemplate": "contagem=%{x}<br>categoria=%{y}<extra></extra>",
         "legendgroup": "",
         "marker": {
          "color": "#636efa",
          "pattern": {
           "shape": ""
          }
         },
         "name": "",
         "orientation": "h",
         "showlegend": false,
         "textposition": "auto",
         "type": "bar",
         "x": {
          "bdata": "QEEQTl5cW15oKDk=",
          "dtype": "i1"
         },
         "xaxis": "x",
         "y": [
          "CORINHOS",
          "GRUPO DE LOUVOR",
          "SALMOS DE LOUVOR",
          "LOUVOR",
          "VOLTA DE JESUS E ETERNIDADE",
          "SANTIFICAÇÃO E DERRAMAMENTO DO ESPÍRITO SANTO",
          "CONSOLO E ENCORAJAMENTO",
          "MORTE, RESSURREIÇÃO E SALVAÇÃO",
          "DEDICAÇÃO",
          "INVOCAÇÃO E COMUNHÃO",
          "CLAMOR"
         ],
         "yaxis": "y"
        }
       ],
       "layout": {
        "barmode": "relative",
        "legend": {
         "tracegroupgap": 0
        },
        "margin": {
         "t": 60
        },
        "template": {
         "data": {
          "bar": [
           {
            "error_x": {
             "color": "#2a3f5f"
            },
            "error_y": {
             "color": "#2a3f5f"
            },
            "marker": {
             "line": {
              "color": "#E5ECF6",
              "width": 0.5
             },
             "pattern": {
              "fillmode": "overlay",
              "size": 10,
              "solidity": 0.2
             }
            },
            "type": "bar"
           }
          ],
          "barpolar": [
           {
            "marker": {
             "line": {
              "color": "#E5ECF6",
              "width": 0.5
             },
             "pattern": {
              "fillmode": "overlay",
              "size": 10,
              "solidity": 0.2
             }
            },
            "type": "barpolar"
           }
          ],
          "carpet": [
           {
            "aaxis": {
             "endlinecolor": "#2a3f5f",
             "gridcolor": "white",
             "linecolor": "white",
             "minorgridcolor": "white",
             "startlinecolor": "#2a3f5f"
            },
            "baxis": {
             "endlinecolor": "#2a3f5f",
             "gridcolor": "white",
             "linecolor": "white",
             "minorgridcolor": "white",
             "startlinecolor": "#2a3f5f"
            },
            "type": "carpet"
           }
          ],
          "choropleth": [
           {
            "colorbar": {
             "outlinewidth": 0,
             "ticks": ""
            },
            "type": "choropleth"
           }
          ],
          "contour": [
           {
            "colorbar": {
             "outlinewidth": 0,
             "ticks": ""
            },
            "colorscale": [
             [
              0,
              "#0d0887"
             ],
             [
              0.1111111111111111,
              "#46039f"
             ],
             [
              0.2222222222222222,
              "#7201a8"
             ],
             [
              0.3333333333333333,
              "#9c179e"
             ],
             [
              0.4444444444444444,
              "#bd3786"
             ],
             [
              0.5555555555555556,
              "#d8576b"
             ],
             [
              0.6666666666666666,
              "#ed7953"
             ],
             [
              0.7777777777777778,
              "#fb9f3a"
             ],
             [
              0.8888888888888888,
              "#fdca26"
             ],
             [
              1,
              "#f0f921"
             ]
            ],
            "type": "contour"
           }
          ],
          "contourcarpet": [
           {
            "colorbar": {
             "outlinewidth": 0,
             "ticks": ""
            },
            "type": "contourcarpet"
           }
          ],
          "heatmap": [
           {
            "colorbar": {
             "outlinewidth": 0,
             "ticks": ""
            },
            "colorscale": [
             [
              0,
              "#0d0887"
             ],
             [
              0.1111111111111111,
              "#46039f"
             ],
             [
              0.2222222222222222,
              "#7201a8"
             ],
             [
              0.3333333333333333,
              "#9c179e"
             ],
             [
              0.4444444444444444,
              "#bd3786"
             ],
             [
              0.5555555555555556,
              "#d8576b"
             ],
             [
              0.6666666666666666,
              "#ed7953"
             ],
             [
              0.7777777777777778,
              "#fb9f3a"
             ],
             [
              0.8888888888888888,
              "#fdca26"
             ],
             [
              1,
              "#f0f921"
             ]
            ],
            "type": "heatmap"
           }
          ],
          "histogram": [
           {
            "marker": {
             "pattern": {
              "fillmode": "overlay",
              "size": 10,
              "solidity": 0.2
             }
            },
            "type": "histogram"
           }
          ],
          "histogram2d": [
           {
            "colorbar": {
             "outlinewidth": 0,
             "ticks": ""
            },
            "colorscale": [
             [
              0,
              "#0d0887"
             ],
             [
              0.1111111111111111,
              "#46039f"
             ],
             [
              0.2222222222222222,
              "#7201a8"
             ],
             [
              0.3333333333333333,
              "#9c179e"
             ],
             [
              0.4444444444444444,
              "#bd3786"
             ],
             [
              0.5555555555555556,
              "#d8576b"
             ],
             [
              0.6666666666666666,
              "#ed7953"
             ],
             [
              0.7777777777777778,
              "#fb9f3a"
             ],
             [
              0.8888888888888888,
              "#fdca26"
             ],
             [
              1,
              "#f0f921"
             ]
            ],
            "type": "histogram2d"
           }
          ],
          "histogram2dcontour": [
           {
            "colorbar": {
             "outlinewidth": 0,
             "ticks": ""
            },
            "colorscale": [
             [
              0,
              "#0d0887"
             ],
             [
              0.1111111111111111,
              "#46039f"
             ],
             [
              0.2222222222222222,
              "#7201a8"
             ],
             [
              0.3333333333333333,
              "#9c179e"
             ],
             [
              0.4444444444444444,
              "#bd3786"
             ],
             [
              0.5555555555555556,
              "#d8576b"
             ],
             [
              0.6666666666666666,
              "#ed7953"
             ],
             [
              0.7777777777777778,
              "#fb9f3a"
             ],
             [
              0.8888888888888888,
              "#fdca26"
             ],
             [
              1,
              "#f0f921"
             ]
            ],
            "type": "histogram2dcontour"
           }
          ],
          "mesh3d": [
           {
            "colorbar": {
             "outlinewidth": 0,
             "ticks": ""
            },
            "type": "mesh3d"
           }
          ],
          "parcoords": [
           {
            "line": {
             "colorbar": {
              "outlinewidth": 0,
              "ticks": ""
             }
            },
            "type": "parcoords"
           }
          ],
          "pie": [
           {
            "automargin": true,
            "type": "pie"
           }
          ],
          "scatter": [
           {
            "fillpattern": {
             "fillmode": "overlay",
             "size": 10,
             "solidity": 0.2
            },
            "type": "scatter"
           }
          ],
          "scatter3d": [
           {
            "line": {
             "colorbar": {
              "outlinewidth": 0,
              "ticks": ""
             }
            },
            "marker": {
             "colorbar": {
              "outlinewidth": 0,
              "ticks": ""
             }
            },
            "type": "scatter3d"
           }
          ],
          "scattercarpet": [
           {
            "marker": {
             "colorbar": {
              "outlinewidth": 0,
              "ticks": ""
             }
            },
            "type": "scattercarpet"
           }
          ],
          "scattergeo": [
           {
            "marker": {
             "colorbar": {
              "outlinewidth": 0,
              "ticks": ""
             }
            },
            "type": "scattergeo"
           }
          ],
          "scattergl": [
           {
            "marker": {
             "colorbar": {
              "outlinewidth": 0,
              "ticks": ""
             }
            },
            "type": "scattergl"
           }
          ],
          "scattermap": [
           {
            "marker": {
             "colorbar": {
              "outlinewidth": 0,
              "ticks": ""
             }
            },
            "type": "scattermap"
           }
          ],
          "scattermapbox": [
           {
            "marker": {
             "colorbar": {
              "outlinewidth": 0,
              "ticks": ""
             }
            },
            "type": "scattermapbox"
           }
          ],
          "scatterpolar": [
           {
            "marker": {
             "colorbar": {
              "outlinewidth": 0,
              "ticks": ""
             }
            },
            "type": "scatterpolar"
           }
          ],
          "scatterpolargl": [
           {
            "marker": {
             "colorbar": {
              "outlinewidth": 0,
              "ticks": ""
             }
            },
            "type": "scatterpolargl"
           }
          ],
          "scatterternary": [
           {
            "marker": {
             "colorbar": {
              "outlinewidth": 0,
              "ticks": ""
             }
            },
            "type": "scatterternary"
           }
          ],
          "surface": [
           {
            "colorbar": {
             "outlinewidth": 0,
             "ticks": ""
            },
            "colorscale": [
             [
              0,
              "#0d0887"
             ],
             [
              0.1111111111111111,
              "#46039f"
             ],
             [
              0.2222222222222222,
              "#7201a8"
             ],
             [
              0.3333333333333333,
              "#9c179e"
             ],
             [
              0.4444444444444444,
              "#bd3786"
             ],
             [
              0.5555555555555556,
              "#d8576b"
             ],
             [
              0.6666666666666666,
              "#ed7953"
             ],
             [
              0.7777777777777778,
              "#fb9f3a"
             ],
             [
              0.8888888888888888,
              "#fdca26"
             ],
             [
              1,
              "#f0f921"
             ]
            ],
            "type": "surface"
           }
          ],
          "table": [
           {
            "cells": {
             "fill": {
              "color": "#EBF0F8"
             },
             "line": {
              "color": "white"
             }
            },
            "header": {
             "fill": {
              "color": "#C8D4E3"
             },
             "line": {
              "color": "white"
             }
            },
            "type": "table"
           }
          ]
         },
         "layout": {
          "annotationdefaults": {
           "arrowcolor": "#2a3f5f",
           "arrowhead": 0,
           "arrowwidth": 1
          },
          "autotypenumbers": "strict",
          "coloraxis": {
           "colorbar": {
            "outlinewidth": 0,
            "ticks": ""
           }
          },
          "colorscale": {
           "diverging": [
            [
             0,
             "#8e0152"
            ],
            [
             0.1,
             "#c51b7d"
            ],
            [
             0.2,
             "#de77ae"
            ],
            [
             0.3,
             "#f1b6da"
            ],
            [
             0.4,
             "#fde0ef"
            ],
            [
             0.5,
             "#f7f7f7"
            ],
            [
             0.6,
             "#e6f5d0"
            ],
            [
             0.7,
             "#b8e186"
            ],
            [
             0.8,
             "#7fbc41"
            ],
            [
             0.9,
             "#4d9221"
            ],
            [
             1,
             "#276419"
            ]
           ],
           "sequential": [
            [
             0,
             "#0d0887"
            ],
            [
             0.1111111111111111,
             "#46039f"
            ],
            [
             0.2222222222222222,
             "#7201a8"
            ],
            [
             0.3333333333333333,
             "#9c179e"
            ],
            [
             0.4444444444444444,
             "#bd3786"
            ],
            [
             0.5555555555555556,
             "#d8576b"
            ],
            [
             0.6666666666666666,
             "#ed7953"
            ],
            [
             0.7777777777777778,
             "#fb9f3a"
            ],
            [
             0.8888888888888888,
             "#fdca26"
            ],
            [
             1,
             "#f0f921"
            ]
           ],
           "sequentialminus": [
            [
             0,
             "#0d0887"
            ],
            [
             0.1111111111111111,
             "#46039f"
            ],
            [
             0.2222222222222222,
             "#7201a8"
            ],
            [
             0.3333333333333333,
             "#9c179e"
            ],
            [
             0.4444444444444444,
             "#bd3786"
            ],
            [
             0.5555555555555556,
             "#d8576b"
            ],
            [
             0.6666666666666666,
             "#ed7953"
            ],
            [
             0.7777777777777778,
             "#fb9f3a"
            ],
            [
             0.8888888888888888,
             "#fdca26"
            ],
            [
             1,
             "#f0f921"
            ]
           ]
          },
          "colorway": [
           "#636efa",
           "#EF553B",
           "#00cc96",
           "#ab63fa",
           "#FFA15A",
           "#19d3f3",
           "#FF6692",
           "#B6E880",
           "#FF97FF",
           "#FECB52"
          ],
          "font": {
           "color": "#2a3f5f"
          },
          "geo": {
           "bgcolor": "white",
           "lakecolor": "white",
           "landcolor": "#E5ECF6",
           "showlakes": true,
           "showland": true,
           "subunitcolor": "white"
          },
          "hoverlabel": {
           "align": "left"
          },
          "hovermode": "closest",
          "mapbox": {
           "style": "light"
          },
          "paper_bgcolor": "white",
          "plot_bgcolor": "#E5ECF6",
          "polar": {
           "angularaxis": {
            "gridcolor": "white",
            "linecolor": "white",
            "ticks": ""
           },
           "bgcolor": "#E5ECF6",
           "radialaxis": {
            "gridcolor": "white",
            "linecolor": "white",
            "ticks": ""
           }
          },
          "scene": {
           "xaxis": {
            "backgroundcolor": "#E5ECF6",
            "gridcolor": "white",
            "gridwidth": 2,
            "linecolor": "white",
            "showbackground": true,
            "ticks": "",
            "zerolinecolor": "white"
           },
           "yaxis": {
            "backgroundcolor": "#E5ECF6",
            "gridcolor": "white",
            "gridwidth": 2,
            "linecolor": "white",
            "showbackground": true,
            "ticks": "",
            "zerolinecolor": "white"
           },
           "zaxis": {
            "backgroundcolor": "#E5ECF6",
            "gridcolor": "white",
            "gridwidth": 2,
            "linecolor": "white",
            "showbackground": true,
            "ticks": "",
            "zerolinecolor": "white"
           }
          },
          "shapedefaults": {
           "line": {
            "color": "#2a3f5f"
           }
          },
          "ternary": {
           "aaxis": {
            "gridcolor": "white",
            "linecolor": "white",
            "ticks": ""
           },
           "baxis": {
            "gridcolor": "white",
            "linecolor": "white",
            "ticks": ""
           },
           "bgcolor": "#E5ECF6",
           "caxis": {
            "gridcolor": "white",
            "linecolor": "white",
            "ticks": ""
           }
          },
          "title": {
           "x": 0.05
          },
          "xaxis": {
           "automargin": true,
           "gridcolor": "white",
           "linecolor": "white",
           "ticks": "",
           "title": {
            "standoff": 15
           },
           "zerolinecolor": "white",
           "zerolinewidth": 2
          },
          "yaxis": {
           "automargin": true,
           "gridcolor": "white",
           "linecolor": "white",
           "ticks": "",
           "title": {
            "standoff": 15
           },
           "zerolinecolor": "white",
           "zerolinewidth": 2
          }
         }
        },
        "xaxis": {
         "anchor": "y",
         "domain": [
          0,
          1
         ],
         "title": {
          "text": "contagem"
         }
        },
        "yaxis": {
         "anchor": "x",
         "domain": [
          0,
          1
         ],
         "title": {
          "text": "categoria"
         }
        }
       }
      }
     },
     "metadata": {},
     "output_type": "display_data"
    }
   ],
   "source": [
    "import plotly.express as px\n",
    "\n",
    "fig = px.bar(\n",
    "    categorias_count.sort_values(by=\"categoria_id\", ascending=False),\n",
    "    x=\"contagem\",\n",
    "    y=\"categoria\",\n",
    "    orientation=\"h\",\n",
    ")\n",
    "fig.show()"
   ]
  },
  {
   "cell_type": "code",
   "execution_count": 11,
   "metadata": {},
   "outputs": [
    {
     "data": {
      "application/vnd.plotly.v1+json": {
       "config": {
        "plotlyServerURL": "https://plot.ly"
       },
       "data": [
        {
         "hovertemplate": "contagem=%{x}<br>categoria=%{y}<extra></extra>",
         "legendgroup": "",
         "marker": {
          "color": "#636efa",
          "pattern": {
           "shape": ""
          }
         },
         "name": "",
         "orientation": "h",
         "showlegend": false,
         "textposition": "auto",
         "type": "bar",
         "x": {
          "bdata": "ECg5QEFOW1xeXmg=",
          "dtype": "i1"
         },
         "xaxis": "x",
         "y": [
          "SALMOS DE LOUVOR",
          "INVOCAÇÃO E COMUNHÃO",
          "CLAMOR",
          "CORINHOS",
          "GRUPO DE LOUVOR",
          "LOUVOR",
          "CONSOLO E ENCORAJAMENTO",
          "SANTIFICAÇÃO E DERRAMAMENTO DO ESPÍRITO SANTO",
          "MORTE, RESSURREIÇÃO E SALVAÇÃO",
          "VOLTA DE JESUS E ETERNIDADE",
          "DEDICAÇÃO"
         ],
         "yaxis": "y"
        }
       ],
       "layout": {
        "barmode": "relative",
        "legend": {
         "tracegroupgap": 0
        },
        "margin": {
         "t": 60
        },
        "template": {
         "data": {
          "bar": [
           {
            "error_x": {
             "color": "#2a3f5f"
            },
            "error_y": {
             "color": "#2a3f5f"
            },
            "marker": {
             "line": {
              "color": "#E5ECF6",
              "width": 0.5
             },
             "pattern": {
              "fillmode": "overlay",
              "size": 10,
              "solidity": 0.2
             }
            },
            "type": "bar"
           }
          ],
          "barpolar": [
           {
            "marker": {
             "line": {
              "color": "#E5ECF6",
              "width": 0.5
             },
             "pattern": {
              "fillmode": "overlay",
              "size": 10,
              "solidity": 0.2
             }
            },
            "type": "barpolar"
           }
          ],
          "carpet": [
           {
            "aaxis": {
             "endlinecolor": "#2a3f5f",
             "gridcolor": "white",
             "linecolor": "white",
             "minorgridcolor": "white",
             "startlinecolor": "#2a3f5f"
            },
            "baxis": {
             "endlinecolor": "#2a3f5f",
             "gridcolor": "white",
             "linecolor": "white",
             "minorgridcolor": "white",
             "startlinecolor": "#2a3f5f"
            },
            "type": "carpet"
           }
          ],
          "choropleth": [
           {
            "colorbar": {
             "outlinewidth": 0,
             "ticks": ""
            },
            "type": "choropleth"
           }
          ],
          "contour": [
           {
            "colorbar": {
             "outlinewidth": 0,
             "ticks": ""
            },
            "colorscale": [
             [
              0,
              "#0d0887"
             ],
             [
              0.1111111111111111,
              "#46039f"
             ],
             [
              0.2222222222222222,
              "#7201a8"
             ],
             [
              0.3333333333333333,
              "#9c179e"
             ],
             [
              0.4444444444444444,
              "#bd3786"
             ],
             [
              0.5555555555555556,
              "#d8576b"
             ],
             [
              0.6666666666666666,
              "#ed7953"
             ],
             [
              0.7777777777777778,
              "#fb9f3a"
             ],
             [
              0.8888888888888888,
              "#fdca26"
             ],
             [
              1,
              "#f0f921"
             ]
            ],
            "type": "contour"
           }
          ],
          "contourcarpet": [
           {
            "colorbar": {
             "outlinewidth": 0,
             "ticks": ""
            },
            "type": "contourcarpet"
           }
          ],
          "heatmap": [
           {
            "colorbar": {
             "outlinewidth": 0,
             "ticks": ""
            },
            "colorscale": [
             [
              0,
              "#0d0887"
             ],
             [
              0.1111111111111111,
              "#46039f"
             ],
             [
              0.2222222222222222,
              "#7201a8"
             ],
             [
              0.3333333333333333,
              "#9c179e"
             ],
             [
              0.4444444444444444,
              "#bd3786"
             ],
             [
              0.5555555555555556,
              "#d8576b"
             ],
             [
              0.6666666666666666,
              "#ed7953"
             ],
             [
              0.7777777777777778,
              "#fb9f3a"
             ],
             [
              0.8888888888888888,
              "#fdca26"
             ],
             [
              1,
              "#f0f921"
             ]
            ],
            "type": "heatmap"
           }
          ],
          "histogram": [
           {
            "marker": {
             "pattern": {
              "fillmode": "overlay",
              "size": 10,
              "solidity": 0.2
             }
            },
            "type": "histogram"
           }
          ],
          "histogram2d": [
           {
            "colorbar": {
             "outlinewidth": 0,
             "ticks": ""
            },
            "colorscale": [
             [
              0,
              "#0d0887"
             ],
             [
              0.1111111111111111,
              "#46039f"
             ],
             [
              0.2222222222222222,
              "#7201a8"
             ],
             [
              0.3333333333333333,
              "#9c179e"
             ],
             [
              0.4444444444444444,
              "#bd3786"
             ],
             [
              0.5555555555555556,
              "#d8576b"
             ],
             [
              0.6666666666666666,
              "#ed7953"
             ],
             [
              0.7777777777777778,
              "#fb9f3a"
             ],
             [
              0.8888888888888888,
              "#fdca26"
             ],
             [
              1,
              "#f0f921"
             ]
            ],
            "type": "histogram2d"
           }
          ],
          "histogram2dcontour": [
           {
            "colorbar": {
             "outlinewidth": 0,
             "ticks": ""
            },
            "colorscale": [
             [
              0,
              "#0d0887"
             ],
             [
              0.1111111111111111,
              "#46039f"
             ],
             [
              0.2222222222222222,
              "#7201a8"
             ],
             [
              0.3333333333333333,
              "#9c179e"
             ],
             [
              0.4444444444444444,
              "#bd3786"
             ],
             [
              0.5555555555555556,
              "#d8576b"
             ],
             [
              0.6666666666666666,
              "#ed7953"
             ],
             [
              0.7777777777777778,
              "#fb9f3a"
             ],
             [
              0.8888888888888888,
              "#fdca26"
             ],
             [
              1,
              "#f0f921"
             ]
            ],
            "type": "histogram2dcontour"
           }
          ],
          "mesh3d": [
           {
            "colorbar": {
             "outlinewidth": 0,
             "ticks": ""
            },
            "type": "mesh3d"
           }
          ],
          "parcoords": [
           {
            "line": {
             "colorbar": {
              "outlinewidth": 0,
              "ticks": ""
             }
            },
            "type": "parcoords"
           }
          ],
          "pie": [
           {
            "automargin": true,
            "type": "pie"
           }
          ],
          "scatter": [
           {
            "fillpattern": {
             "fillmode": "overlay",
             "size": 10,
             "solidity": 0.2
            },
            "type": "scatter"
           }
          ],
          "scatter3d": [
           {
            "line": {
             "colorbar": {
              "outlinewidth": 0,
              "ticks": ""
             }
            },
            "marker": {
             "colorbar": {
              "outlinewidth": 0,
              "ticks": ""
             }
            },
            "type": "scatter3d"
           }
          ],
          "scattercarpet": [
           {
            "marker": {
             "colorbar": {
              "outlinewidth": 0,
              "ticks": ""
             }
            },
            "type": "scattercarpet"
           }
          ],
          "scattergeo": [
           {
            "marker": {
             "colorbar": {
              "outlinewidth": 0,
              "ticks": ""
             }
            },
            "type": "scattergeo"
           }
          ],
          "scattergl": [
           {
            "marker": {
             "colorbar": {
              "outlinewidth": 0,
              "ticks": ""
             }
            },
            "type": "scattergl"
           }
          ],
          "scattermap": [
           {
            "marker": {
             "colorbar": {
              "outlinewidth": 0,
              "ticks": ""
             }
            },
            "type": "scattermap"
           }
          ],
          "scattermapbox": [
           {
            "marker": {
             "colorbar": {
              "outlinewidth": 0,
              "ticks": ""
             }
            },
            "type": "scattermapbox"
           }
          ],
          "scatterpolar": [
           {
            "marker": {
             "colorbar": {
              "outlinewidth": 0,
              "ticks": ""
             }
            },
            "type": "scatterpolar"
           }
          ],
          "scatterpolargl": [
           {
            "marker": {
             "colorbar": {
              "outlinewidth": 0,
              "ticks": ""
             }
            },
            "type": "scatterpolargl"
           }
          ],
          "scatterternary": [
           {
            "marker": {
             "colorbar": {
              "outlinewidth": 0,
              "ticks": ""
             }
            },
            "type": "scatterternary"
           }
          ],
          "surface": [
           {
            "colorbar": {
             "outlinewidth": 0,
             "ticks": ""
            },
            "colorscale": [
             [
              0,
              "#0d0887"
             ],
             [
              0.1111111111111111,
              "#46039f"
             ],
             [
              0.2222222222222222,
              "#7201a8"
             ],
             [
              0.3333333333333333,
              "#9c179e"
             ],
             [
              0.4444444444444444,
              "#bd3786"
             ],
             [
              0.5555555555555556,
              "#d8576b"
             ],
             [
              0.6666666666666666,
              "#ed7953"
             ],
             [
              0.7777777777777778,
              "#fb9f3a"
             ],
             [
              0.8888888888888888,
              "#fdca26"
             ],
             [
              1,
              "#f0f921"
             ]
            ],
            "type": "surface"
           }
          ],
          "table": [
           {
            "cells": {
             "fill": {
              "color": "#EBF0F8"
             },
             "line": {
              "color": "white"
             }
            },
            "header": {
             "fill": {
              "color": "#C8D4E3"
             },
             "line": {
              "color": "white"
             }
            },
            "type": "table"
           }
          ]
         },
         "layout": {
          "annotationdefaults": {
           "arrowcolor": "#2a3f5f",
           "arrowhead": 0,
           "arrowwidth": 1
          },
          "autotypenumbers": "strict",
          "coloraxis": {
           "colorbar": {
            "outlinewidth": 0,
            "ticks": ""
           }
          },
          "colorscale": {
           "diverging": [
            [
             0,
             "#8e0152"
            ],
            [
             0.1,
             "#c51b7d"
            ],
            [
             0.2,
             "#de77ae"
            ],
            [
             0.3,
             "#f1b6da"
            ],
            [
             0.4,
             "#fde0ef"
            ],
            [
             0.5,
             "#f7f7f7"
            ],
            [
             0.6,
             "#e6f5d0"
            ],
            [
             0.7,
             "#b8e186"
            ],
            [
             0.8,
             "#7fbc41"
            ],
            [
             0.9,
             "#4d9221"
            ],
            [
             1,
             "#276419"
            ]
           ],
           "sequential": [
            [
             0,
             "#0d0887"
            ],
            [
             0.1111111111111111,
             "#46039f"
            ],
            [
             0.2222222222222222,
             "#7201a8"
            ],
            [
             0.3333333333333333,
             "#9c179e"
            ],
            [
             0.4444444444444444,
             "#bd3786"
            ],
            [
             0.5555555555555556,
             "#d8576b"
            ],
            [
             0.6666666666666666,
             "#ed7953"
            ],
            [
             0.7777777777777778,
             "#fb9f3a"
            ],
            [
             0.8888888888888888,
             "#fdca26"
            ],
            [
             1,
             "#f0f921"
            ]
           ],
           "sequentialminus": [
            [
             0,
             "#0d0887"
            ],
            [
             0.1111111111111111,
             "#46039f"
            ],
            [
             0.2222222222222222,
             "#7201a8"
            ],
            [
             0.3333333333333333,
             "#9c179e"
            ],
            [
             0.4444444444444444,
             "#bd3786"
            ],
            [
             0.5555555555555556,
             "#d8576b"
            ],
            [
             0.6666666666666666,
             "#ed7953"
            ],
            [
             0.7777777777777778,
             "#fb9f3a"
            ],
            [
             0.8888888888888888,
             "#fdca26"
            ],
            [
             1,
             "#f0f921"
            ]
           ]
          },
          "colorway": [
           "#636efa",
           "#EF553B",
           "#00cc96",
           "#ab63fa",
           "#FFA15A",
           "#19d3f3",
           "#FF6692",
           "#B6E880",
           "#FF97FF",
           "#FECB52"
          ],
          "font": {
           "color": "#2a3f5f"
          },
          "geo": {
           "bgcolor": "white",
           "lakecolor": "white",
           "landcolor": "#E5ECF6",
           "showlakes": true,
           "showland": true,
           "subunitcolor": "white"
          },
          "hoverlabel": {
           "align": "left"
          },
          "hovermode": "closest",
          "mapbox": {
           "style": "light"
          },
          "paper_bgcolor": "white",
          "plot_bgcolor": "#E5ECF6",
          "polar": {
           "angularaxis": {
            "gridcolor": "white",
            "linecolor": "white",
            "ticks": ""
           },
           "bgcolor": "#E5ECF6",
           "radialaxis": {
            "gridcolor": "white",
            "linecolor": "white",
            "ticks": ""
           }
          },
          "scene": {
           "xaxis": {
            "backgroundcolor": "#E5ECF6",
            "gridcolor": "white",
            "gridwidth": 2,
            "linecolor": "white",
            "showbackground": true,
            "ticks": "",
            "zerolinecolor": "white"
           },
           "yaxis": {
            "backgroundcolor": "#E5ECF6",
            "gridcolor": "white",
            "gridwidth": 2,
            "linecolor": "white",
            "showbackground": true,
            "ticks": "",
            "zerolinecolor": "white"
           },
           "zaxis": {
            "backgroundcolor": "#E5ECF6",
            "gridcolor": "white",
            "gridwidth": 2,
            "linecolor": "white",
            "showbackground": true,
            "ticks": "",
            "zerolinecolor": "white"
           }
          },
          "shapedefaults": {
           "line": {
            "color": "#2a3f5f"
           }
          },
          "ternary": {
           "aaxis": {
            "gridcolor": "white",
            "linecolor": "white",
            "ticks": ""
           },
           "baxis": {
            "gridcolor": "white",
            "linecolor": "white",
            "ticks": ""
           },
           "bgcolor": "#E5ECF6",
           "caxis": {
            "gridcolor": "white",
            "linecolor": "white",
            "ticks": ""
           }
          },
          "title": {
           "x": 0.05
          },
          "xaxis": {
           "automargin": true,
           "gridcolor": "white",
           "linecolor": "white",
           "ticks": "",
           "title": {
            "standoff": 15
           },
           "zerolinecolor": "white",
           "zerolinewidth": 2
          },
          "yaxis": {
           "automargin": true,
           "gridcolor": "white",
           "linecolor": "white",
           "ticks": "",
           "title": {
            "standoff": 15
           },
           "zerolinecolor": "white",
           "zerolinewidth": 2
          }
         }
        },
        "xaxis": {
         "anchor": "y",
         "domain": [
          0,
          1
         ],
         "title": {
          "text": "contagem"
         }
        },
        "yaxis": {
         "anchor": "x",
         "domain": [
          0,
          1
         ],
         "title": {
          "text": "categoria"
         }
        }
       }
      }
     },
     "metadata": {},
     "output_type": "display_data"
    }
   ],
   "source": [
    "fig = px.bar(\n",
    "    categorias_count.sort_values(by=\"contagem\"),\n",
    "    x=\"contagem\",\n",
    "    y=\"categoria\",\n",
    "    orientation=\"h\",\n",
    ")\n",
    "fig.show()"
   ]
  }
 ],
 "metadata": {
  "kernelspec": {
   "display_name": "jupyters",
   "language": "python",
   "name": "python3"
  },
  "language_info": {
   "codemirror_mode": {
    "name": "ipython",
    "version": 3
   },
   "file_extension": ".py",
   "mimetype": "text/x-python",
   "name": "python",
   "nbconvert_exporter": "python",
   "pygments_lexer": "ipython3",
   "version": "3.11.11"
  }
 },
 "nbformat": 4,
 "nbformat_minor": 2
}
