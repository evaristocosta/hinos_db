{
 "cells": [
  {
   "cell_type": "markdown",
   "id": "185da0b4",
   "metadata": {},
   "source": [
    "# Parte 4 - Sequence embeddings"
   ]
  },
  {
   "cell_type": "code",
   "execution_count": null,
   "id": "d50e1b76",
   "metadata": {},
   "outputs": [],
   "source": [
    "from sentence_transformers import SentenceTransformer\n",
    "\n",
    "# model = SentenceTransformer(\"distiluse-base-multilingual-cased-v2\")\n",
    "# model = SentenceTransformer(\"neuralmind/bert-base-portuguese-cased\")\n",
    "model = SentenceTransformer(\"rufimelo/Legal-BERTimbau-sts-base\")  # português brasileiro\n",
    "# model = SentenceTransformer(\"paraphrase-multilingual-MiniLM-L12-v2\")  # mais leve e eficiente"
   ]
  },
  {
   "cell_type": "code",
   "execution_count": null,
   "id": "b47f1bba",
   "metadata": {},
   "outputs": [],
   "source": [
    "import pandas as pd\n",
    "\n",
    "hinos_analise: pd.DataFrame = pd.read_pickle(\"..\\\\assets\\\\hinos_analise_tokens.pkl\")"
   ]
  },
  {
   "cell_type": "code",
   "execution_count": null,
   "id": "d1863c25",
   "metadata": {},
   "outputs": [],
   "source": [
    "import numpy as np\n",
    "\n",
    "# cria embeddings diretamente para cada hino (texto inteiro)\n",
    "embeddings = model.encode(hinos_analise[\"texto_limpo\"].tolist(), show_progress_bar=True)\n",
    "X_sent = np.array(embeddings)\n",
    "\n",
    "print(X_sent.shape)  # (n_hinos, 512)"
   ]
  },
  {
   "cell_type": "code",
   "execution_count": null,
   "id": "1804e373",
   "metadata": {},
   "outputs": [],
   "source": [
    "from sklearn.metrics.pairwise import cosine_similarity\n",
    "\n",
    "similarity_matrix = cosine_similarity(X_sent)\n",
    "\n",
    "# hinos mais semelhantes ao hino 443\n",
    "similarities = list(enumerate(similarity_matrix[443]))\n",
    "similarities = sorted(similarities, key=lambda x: x[1], reverse=True)\n",
    "\n",
    "print(\"Mais parecidos com o hino 443:\")\n",
    "for idx, score in similarities[1:6]:\n",
    "    print(f\"Hino {idx}: {hinos_analise['nome'].iloc[idx]} → similaridade {score:.3f}\")"
   ]
  },
  {
   "cell_type": "code",
   "execution_count": null,
   "id": "da0dab92",
   "metadata": {},
   "outputs": [],
   "source": [
    "import umap\n",
    "import seaborn as sns\n",
    "import matplotlib.pyplot as plt\n",
    "from sklearn.cluster import KMeans\n",
    "\n",
    "umap_model = umap.UMAP(n_neighbors=15, min_dist=0.1, n_components=2, random_state=42)\n",
    "X_umap = umap_model.fit_transform(X_sent)\n",
    "\n",
    "# número de clusters (experimente, ex.: 4 ou 6)\n",
    "kmeans = KMeans(n_clusters=6, random_state=42, n_init=10)\n",
    "hinos_analise[\"cluster\"] = kmeans.fit_predict(X_sent)\n",
    "\n",
    "hinos_analise[\"umap1\"] = X_umap[:, 0]\n",
    "hinos_analise[\"umap2\"] = X_umap[:, 1]\n",
    "\n",
    "plt.figure(figsize=(10, 8))\n",
    "sns.scatterplot(\n",
    "    data=hinos_analise, x=\"umap1\", y=\"umap2\", hue=\"cluster\", palette=\"tab10\", s=80\n",
    ")\n",
    "plt.title(\"Mapa dos hinos com Sentence Embeddings (UMAP)\")\n",
    "plt.show()"
   ]
  },
  {
   "cell_type": "code",
   "execution_count": null,
   "id": "a62b1a38",
   "metadata": {},
   "outputs": [],
   "source": [
    "query = \"a palavra é alimento para a alma\"\n",
    "query_vec = model.encode([query])\n",
    "\n",
    "scores = cosine_similarity(query_vec, X_sent)[0]\n",
    "top_idx = np.argsort(scores)[::-1][:10]\n",
    "\n",
    "print(\"Top hinos para a busca:\")\n",
    "for i in top_idx:\n",
    "    print(f\"Hino {i}: {hinos_analise['nome'].iloc[i]} → score {scores[i]:.3f}\")"
   ]
  },
  {
   "cell_type": "markdown",
   "id": "897420ba",
   "metadata": {},
   "source": [
    "# Tópicos"
   ]
  },
  {
   "cell_type": "code",
   "execution_count": null,
   "id": "2d826129",
   "metadata": {},
   "outputs": [],
   "source": [
    "from bertopic import BERTopic\n",
    "\n",
    "# Criar o modelo BERTopic\n",
    "topic_model = BERTopic(embedding_model=model)\n",
    "\n",
    "# Treinar modelo\n",
    "topics, probs = topic_model.fit_transform(hinos_analise[\"texto_limpo\"])\n",
    "\n",
    "# Associar tópicos ao DataFrame\n",
    "hinos_analise[\"topic\"] = topics\n",
    "\n",
    "print(\"\\nDistribuição de tópicos por hino:\")\n",
    "print(hinos_analise[[\"nome\", \"topic\"]])\n",
    "\n",
    "# Mostrar os tópicos descobertos\n",
    "print(\"\\nTópicos extraídos:\")\n",
    "for topic_num in set(topics):\n",
    "    if (\n",
    "        topic_num != -1\n",
    "    ):  # -1 significa \"outlier\" (documento não encaixou em nenhum cluster)\n",
    "        palavras = topic_model.get_topic(topic_num)\n",
    "        print(f\"Tópico {topic_num}: {palavras}\")"
   ]
  },
  {
   "cell_type": "code",
   "execution_count": null,
   "id": "3f5bfdd2",
   "metadata": {},
   "outputs": [],
   "source": [
    "topic_model.visualize_topics()\n",
    "topic_model.visualize_documents(hinos_analise[\"texto_limpo\"])"
   ]
  }
 ],
 "metadata": {
  "kernelspec": {
   "display_name": "jupyters",
   "language": "python",
   "name": "python3"
  },
  "language_info": {
   "codemirror_mode": {
    "name": "ipython",
    "version": 3
   },
   "file_extension": ".py",
   "mimetype": "text/x-python",
   "name": "python",
   "nbconvert_exporter": "python",
   "pygments_lexer": "ipython3",
   "version": "3.11.11"
  }
 },
 "nbformat": 4,
 "nbformat_minor": 5
}
