{
 "cells": [
  {
   "cell_type": "markdown",
   "id": "d0edb78a",
   "metadata": {},
   "source": [
    "# Adição de hino\n",
    "\n",
    "Proposta de adição de hinos. A ideia é simples:\n",
    "\n",
    "1. Criar arquivo de hino em Markdown, como se fosse na coletânea, com título como heading, e seções (Coro, Final, etc.) em negrito\n",
    "2. Com arquivo de entrada, gerar SQL compatível com a estrutura do banco de dados, e adicionar a arquivo de migração\n",
    "\n",
    "## 1. Leitura dos arquivos\n",
    "\n",
    "Passo a passo"
   ]
  },
  {
   "cell_type": "code",
   "execution_count": null,
   "id": "54ed6944",
   "metadata": {},
   "outputs": [],
   "source": [
    "from glob import glob\n",
    "\n",
    "entrada = glob(\"arquivos_hinos\\\\*.md\")\n",
    "entrada"
   ]
  },
  {
   "cell_type": "code",
   "execution_count": null,
   "id": "7e4318b2",
   "metadata": {},
   "outputs": [],
   "source": [
    "with open(entrada[0], \"r\", encoding=\"utf-8\") as f:\n",
    "    conteudo = f.readlines()\n",
    "\n",
    "conteudo"
   ]
  },
  {
   "cell_type": "code",
   "execution_count": null,
   "id": "12e39384",
   "metadata": {},
   "outputs": [],
   "source": [
    "titulo = None\n",
    "coletanea = None\n",
    "inicio_texto = 0\n",
    "for i, linha in enumerate(conteudo):\n",
    "    if linha.startswith(\"##\"):\n",
    "        coletanea = linha.replace(\"## \", \"\").strip()\n",
    "        inicio_texto = i + 1\n",
    "    elif linha.startswith(\"#\"):\n",
    "        titulo = linha.replace(\"# \", \"\").strip().upper()\n",
    "        inicio_texto = i + 1\n",
    "\n",
    "titulo, coletanea, inicio_texto"
   ]
  },
  {
   "cell_type": "code",
   "execution_count": null,
   "id": "f5358f10",
   "metadata": {},
   "outputs": [],
   "source": [
    "texto = conteudo[inicio_texto:]\n",
    "texto_full = []\n",
    "for linha in texto:\n",
    "    if linha.startswith(\"**\"):\n",
    "        texto_full.append(f\"<b>{linha.split('**')[1].strip()}</b>\\n\")\n",
    "    else:\n",
    "        texto_full.append(linha)\n",
    "\n",
    "texto_full = \"\".join(texto_full).strip()\n",
    "print(texto_full)"
   ]
  },
  {
   "cell_type": "code",
   "execution_count": null,
   "id": "41b46d95",
   "metadata": {},
   "outputs": [],
   "source": [
    "import re\n",
    "\n",
    "TAGS_LITERAIS = [\"TODOS\", \"M\", \"H\", \"T\", \"BIS\", \"VARÕES\", \"SERVAS\", \"CORO \"]\n",
    "TAGS_CONTROLE = [\n",
    "    \"ÍNDICE\",\n",
    "    \"CORO (2X)\",\n",
    "    \"\\n\\nCORO\",\n",
    "    \"CORO\\n\",\n",
    "    \"1X\",\n",
    "    \"2X\",\n",
    "    \"3X\",\n",
    "    \"4X\",\n",
    "    \"()\",\n",
    "    \"(TODOS)\",\n",
    "    \"(M)\",\n",
    "    \"(H)\",\n",
    "    \"(T)\",\n",
    "    \"(BIS)\",\n",
    "    \"(VARÕES)\",\n",
    "    \"(SERVAS)\",\n",
    "    \"REPETIR O LOUVOR\",\n",
    "    \"REPETIR 1ª ESTROFE\",\n",
    "    \"FINAL:\",\n",
    "    \"BIS NO FINAL\",\n",
    "    \"IGREJA CRISTÃ MARANATA\",\n",
    "    \"ATUALIZAÇÃO\",\n",
    "    \"INSTRUMENTOS\",\n",
    "]\n",
    "\n",
    "\n",
    "def set_text_clean(texto):\n",
    "    texts_clean = [re.sub(r\"\\s+\", \" \", text) for text in texto]\n",
    "    texts_clean = [line.replace(\"**\", \"\") for line in texts_clean]\n",
    "    texts_clean = [line for line in texts_clean if line not in TAGS_LITERAIS]\n",
    "\n",
    "    new_texts_clean = []\n",
    "    for line in texts_clean:\n",
    "        for tag in TAGS_CONTROLE:\n",
    "            line = line.upper().replace(tag, \"\")\n",
    "        line = line.strip()\n",
    "        if line:\n",
    "            new_texts_clean.append(line)\n",
    "    texts_clean = new_texts_clean\n",
    "    # texts_clean = list(dict.fromkeys(texts_clean))\n",
    "    texts_clean = \" \".join(texts_clean)\n",
    "    texts_clean = texts_clean.replace(\"\\n\", \" \")\n",
    "    # remove all double quotes\n",
    "    texts_clean = texts_clean.replace(\"“\", \"\")\n",
    "    texts_clean = texts_clean.replace(\"”\", \"\")\n",
    "    texts_clean = texts_clean.replace('\"', \"\")\n",
    "    return texts_clean\n",
    "\n",
    "\n",
    "texto_clean = set_text_clean(texto)\n",
    "texto_clean"
   ]
  },
  {
   "cell_type": "markdown",
   "id": "86534e9a",
   "metadata": {},
   "source": [
    "### Função"
   ]
  },
  {
   "cell_type": "code",
   "execution_count": null,
   "id": "a994b2a7",
   "metadata": {},
   "outputs": [],
   "source": [
    "def processa_texto(arquivo):\n",
    "    with open(arquivo, \"r\", encoding=\"utf-8\") as f:\n",
    "        conteudo = f.readlines()\n",
    "\n",
    "    titulo = None\n",
    "    coletanea = None\n",
    "    inicio_texto = 0\n",
    "    for i, linha in enumerate(conteudo):\n",
    "        if linha.startswith(\"##\"):\n",
    "            coletanea = linha.replace(\"## \", \"\").strip()\n",
    "            inicio_texto = i + 1\n",
    "        elif linha.startswith(\"#\"):\n",
    "            titulo = linha.replace(\"# \", \"\").strip().upper()\n",
    "            inicio_texto = i + 1\n",
    "\n",
    "    texto = conteudo[inicio_texto:]\n",
    "    texto_clean = set_text_clean(texto)\n",
    "\n",
    "    texto_full = []\n",
    "    for linha in texto:\n",
    "        if linha.startswith(\"**\"):\n",
    "            texto_full.append(f\"<b>{linha.split('**')[1].strip()}</b>\\n\")\n",
    "        else:\n",
    "            texto_full.append(linha)\n",
    "\n",
    "    texto_full = \"\".join(texto_full).strip()\n",
    "\n",
    "    return titulo, coletanea, texto_full, texto_clean"
   ]
  },
  {
   "cell_type": "markdown",
   "id": "ae0c30af",
   "metadata": {},
   "source": [
    "## 2. Processamento do texto em SQL"
   ]
  },
  {
   "cell_type": "code",
   "execution_count": null,
   "id": "072f1ed1",
   "metadata": {},
   "outputs": [],
   "source": [
    "arquivo_migracao = \"010-add-hinos-avulsos.sql\"\n",
    "\n",
    "with open(\"..\\\\db\\\\migrations\\\\\" + arquivo_migracao, \"w\", encoding=\"utf-8\") as f:\n",
    "    for arquivo in entrada:\n",
    "        titulo, coletanea, texto_full, texto_clean = processa_texto(arquivo)\n",
    "\n",
    "        linha = (\n",
    "            \"INSERT INTO hino (numero, nome, texto, texto_limpo, coletanea_id, date_insert, date_update) VALUES ('null','\"\n",
    "            + titulo\n",
    "            + \"','\"\n",
    "            + texto_full.replace(\"\\n\", \"\\\\n\").replace(\"'\", \"''\")\n",
    "            + \"','\"\n",
    "            + texto_clean.replace(\"'\", \"''\")\n",
    "            + \"',(select id from coletanea where nome = '\"\n",
    "            + coletanea\n",
    "            + \"'),CURRENT_TIMESTAMP,CURRENT_TIMESTAMP);\\n\"\n",
    "        )\n",
    "\n",
    "        f.write(linha)"
   ]
  }
 ],
 "metadata": {
  "kernelspec": {
   "display_name": "jupyters",
   "language": "python",
   "name": "python3"
  },
  "language_info": {
   "codemirror_mode": {
    "name": "ipython",
    "version": 3
   },
   "file_extension": ".py",
   "mimetype": "text/x-python",
   "name": "python",
   "nbconvert_exporter": "python",
   "pygments_lexer": "ipython3",
   "version": "3.11.11"
  }
 },
 "nbformat": 4,
 "nbformat_minor": 5
}
