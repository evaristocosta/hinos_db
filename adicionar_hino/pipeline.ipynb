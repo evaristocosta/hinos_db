{
 "cells": [
  {
   "cell_type": "markdown",
   "id": "d0edb78a",
   "metadata": {},
   "source": [
    "# Adição de hino\n",
    "\n",
    "Proposta de adição de hinos. A ideia é simples:\n",
    "\n",
    "1. Criar arquivo de hino em Markdown, como se fosse na coletânea, com título como heading, e seções (Coro, Final, etc.) em negrito\n",
    "2. Com arquivo de entrada, gerar SQL compatível com a estrutura do banco de dados, e adicionar a arquivo de migração\n",
    "\n",
    "## 1. Leitura dos arquivos\n",
    "\n",
    "Passo a passo"
   ]
  },
  {
   "cell_type": "code",
   "execution_count": 57,
   "id": "54ed6944",
   "metadata": {},
   "outputs": [
    {
     "data": {
      "text/plain": [
       "['arquivos_hinos\\\\ABRE O CORAÇÃO.md',\n",
       " 'arquivos_hinos\\\\PAI REUNIDOS ESTAMOS.md']"
      ]
     },
     "execution_count": 57,
     "metadata": {},
     "output_type": "execute_result"
    }
   ],
   "source": [
    "from glob import glob\n",
    "\n",
    "entrada = glob(\"arquivos_hinos\\\\*.md\")\n",
    "entrada"
   ]
  },
  {
   "cell_type": "code",
   "execution_count": 35,
   "id": "7e4318b2",
   "metadata": {},
   "outputs": [
    {
     "data": {
      "text/plain": [
       "['# ABRE O CORAÇÃO\\n',\n",
       " '\\n',\n",
       " 'ABRE O CORAÇÃO, DEIXA O SENHOR ENTRAR,\\n',\n",
       " 'E MODIFICAR PRA SEMPRE O TEU VIVER,\\n',\n",
       " 'E NESTE LOUVOR DEUS VAI SE REVELAR,\\n',\n",
       " 'PARA RESTAURAR TEU CORAÇÃO.\\n',\n",
       " '\\n',\n",
       " '**CORO**\\n',\n",
       " 'O SENHOR SÓ QUER DE TI SINCERIDADE,\\n',\n",
       " '(ELE VÊ TEU CORAÇÃO)\\n',\n",
       " 'PRA PODER AGIR EM TEU FAVOR.\\n',\n",
       " '(PARA AGIR EM TEU FAVOR)\\n',\n",
       " 'O SENHOR SÓ QUER DE TI SINCERIDADE,\\n',\n",
       " '(ELE VÊ TEU CORAÇÃO)\\n',\n",
       " 'PARA DERRAMAR O SEU AMOR.\\n',\n",
       " '\\n',\n",
       " 'ABRE O CORAÇÃO, DEIXA O SENHOR ENTRAR,\\n',\n",
       " '(DEIXA ENTRAR)\\n',\n",
       " 'E MODIFICAR PRA SEMPRE O TEU VIVER.\\n',\n",
       " '(O TEU VIVER)\\n',\n",
       " 'E NESTE LOUVOR DEUS VAI SE REVELAR,\\n',\n",
       " '(SE REVELAR)\\n',\n",
       " 'PARA RESTAURAR TEU CORAÇÃO.\\n',\n",
       " '\\n',\n",
       " '**CORO (2X)**\\n',\n",
       " 'O SENHOR SÓ QUER DE TI SINCERIDADE,\\n',\n",
       " '(ELE VÊ TEU CORAÇÃO)\\n',\n",
       " 'PRA PODER AGIR EM TEU FAVOR.\\n',\n",
       " '(PARA AGIR EM TEU FAVOR)\\n',\n",
       " 'O SENHOR SÓ QUER DE TI SINCERIDADE,\\n',\n",
       " '(ELE VÊ TEU CORAÇÃO)\\n',\n",
       " 'PARA DERRAMAR O SEU AMOR.\\n']"
      ]
     },
     "execution_count": 35,
     "metadata": {},
     "output_type": "execute_result"
    }
   ],
   "source": [
    "with open(entrada[0], \"r\", encoding=\"utf-8\") as f:\n",
    "    conteudo = f.readlines()\n",
    "\n",
    "conteudo"
   ]
  },
  {
   "cell_type": "code",
   "execution_count": 36,
   "id": "12e39384",
   "metadata": {},
   "outputs": [
    {
     "data": {
      "text/plain": [
       "'ABRE O CORAÇÃO'"
      ]
     },
     "execution_count": 36,
     "metadata": {},
     "output_type": "execute_result"
    }
   ],
   "source": [
    "titulo = conteudo[0].replace(\"# \", \"\").strip()\n",
    "titulo"
   ]
  },
  {
   "cell_type": "code",
   "execution_count": 37,
   "id": "f5358f10",
   "metadata": {},
   "outputs": [
    {
     "name": "stdout",
     "output_type": "stream",
     "text": [
      "ABRE O CORAÇÃO, DEIXA O SENHOR ENTRAR,\n",
      "E MODIFICAR PRA SEMPRE O TEU VIVER,\n",
      "E NESTE LOUVOR DEUS VAI SE REVELAR,\n",
      "PARA RESTAURAR TEU CORAÇÃO.\n",
      "\n",
      "<b>CORO</b>\n",
      "O SENHOR SÓ QUER DE TI SINCERIDADE,\n",
      "(ELE VÊ TEU CORAÇÃO)\n",
      "PRA PODER AGIR EM TEU FAVOR.\n",
      "(PARA AGIR EM TEU FAVOR)\n",
      "O SENHOR SÓ QUER DE TI SINCERIDADE,\n",
      "(ELE VÊ TEU CORAÇÃO)\n",
      "PARA DERRAMAR O SEU AMOR.\n",
      "\n",
      "ABRE O CORAÇÃO, DEIXA O SENHOR ENTRAR,\n",
      "(DEIXA ENTRAR)\n",
      "E MODIFICAR PRA SEMPRE O TEU VIVER.\n",
      "(O TEU VIVER)\n",
      "E NESTE LOUVOR DEUS VAI SE REVELAR,\n",
      "(SE REVELAR)\n",
      "PARA RESTAURAR TEU CORAÇÃO.\n",
      "\n",
      "<b>CORO (2X)</b>\n",
      "O SENHOR SÓ QUER DE TI SINCERIDADE,\n",
      "(ELE VÊ TEU CORAÇÃO)\n",
      "PRA PODER AGIR EM TEU FAVOR.\n",
      "(PARA AGIR EM TEU FAVOR)\n",
      "O SENHOR SÓ QUER DE TI SINCERIDADE,\n",
      "(ELE VÊ TEU CORAÇÃO)\n",
      "PARA DERRAMAR O SEU AMOR.\n"
     ]
    }
   ],
   "source": [
    "texto = conteudo[1:]\n",
    "texto_full = []\n",
    "for linha in texto:\n",
    "    if linha.startswith(\"**\"):\n",
    "        texto_full.append(f\"<b>{linha.split('**')[1].strip()}</b>\\n\")\n",
    "    else:\n",
    "        texto_full.append(linha)\n",
    "\n",
    "texto_full = \"\".join(texto_full).strip()\n",
    "print(texto_full)"
   ]
  },
  {
   "cell_type": "code",
   "execution_count": 46,
   "id": "41b46d95",
   "metadata": {},
   "outputs": [
    {
     "data": {
      "text/plain": [
       "'ABRE O CORAÇÃO, DEIXA O SENHOR ENTRAR, E MODIFICAR PRA SEMPRE O TEU VIVER, E NESTE LOUVOR DEUS VAI SE REVELAR, PARA RESTAURAR TEU CORAÇÃO. O SENHOR SÓ QUER DE TI SINCERIDADE, (ELE VÊ TEU CORAÇÃO) PRA PODER AGIR EM TEU FAVOR. (PARA AGIR EM TEU FAVOR) O SENHOR SÓ QUER DE TI SINCERIDADE, (ELE VÊ TEU CORAÇÃO) PARA DERRAMAR O SEU AMOR. ABRE O CORAÇÃO, DEIXA O SENHOR ENTRAR, (DEIXA ENTRAR) E MODIFICAR PRA SEMPRE O TEU VIVER. (O TEU VIVER) E NESTE LOUVOR DEUS VAI SE REVELAR, (SE REVELAR) PARA RESTAURAR TEU CORAÇÃO. O SENHOR SÓ QUER DE TI SINCERIDADE, (ELE VÊ TEU CORAÇÃO) PRA PODER AGIR EM TEU FAVOR. (PARA AGIR EM TEU FAVOR) O SENHOR SÓ QUER DE TI SINCERIDADE, (ELE VÊ TEU CORAÇÃO) PARA DERRAMAR O SEU AMOR.'"
      ]
     },
     "execution_count": 46,
     "metadata": {},
     "output_type": "execute_result"
    }
   ],
   "source": [
    "import re\n",
    "\n",
    "TAGS_LITERAIS = [\"TODOS\", \"M\", \"H\", \"T\", \"BIS\", \"VARÕES\", \"SERVAS\", \"CORO \"]\n",
    "TAGS_CONTROLE = [\n",
    "    \"ÍNDICE\",\n",
    "    \"CORO (2X)\",\n",
    "    \"\\n\\nCORO\",\n",
    "    \"CORO\\n\",\n",
    "    \"1X\",\n",
    "    \"2X\",\n",
    "    \"3X\",\n",
    "    \"4X\",\n",
    "    \"()\",\n",
    "    \"(TODOS)\",\n",
    "    \"(M)\",\n",
    "    \"(H)\",\n",
    "    \"(T)\",\n",
    "    \"(BIS)\",\n",
    "    \"(VARÕES)\",\n",
    "    \"(SERVAS)\",\n",
    "    \"REPETIR O LOUVOR\",\n",
    "    \"REPETIR 1ª ESTROFE\",\n",
    "    \"FINAL:\",\n",
    "    \"BIS NO FINAL\",\n",
    "    \"IGREJA CRISTÃ MARANATA\",\n",
    "    \"ATUALIZAÇÃO\",\n",
    "    \"\\nINSTRUMENTOS\",\n",
    "]\n",
    "\n",
    "\n",
    "def set_text_clean(texto):\n",
    "    texts_clean = [re.sub(r\"\\s+\", \" \", text) for text in texto]\n",
    "    texts_clean = [line.replace(\"**\", \"\") for line in texts_clean]\n",
    "    texts_clean = [line for line in texts_clean if line not in TAGS_LITERAIS]\n",
    "\n",
    "    new_texts_clean = []\n",
    "    for line in texts_clean:\n",
    "        for tag in TAGS_CONTROLE:\n",
    "            line = line.upper().replace(tag, \"\")\n",
    "        line = line.strip()\n",
    "        if line:\n",
    "            new_texts_clean.append(line)\n",
    "    texts_clean = new_texts_clean\n",
    "    # texts_clean = list(dict.fromkeys(texts_clean))\n",
    "    texts_clean = \" \".join(texts_clean)\n",
    "    texts_clean = texts_clean.replace(\"\\n\", \" \")\n",
    "    # remove all double quotes\n",
    "    texts_clean = texts_clean.replace(\"“\", \"\")\n",
    "    texts_clean = texts_clean.replace(\"”\", \"\")\n",
    "    texts_clean = texts_clean.replace('\"', \"\")\n",
    "    return texts_clean\n",
    "\n",
    "\n",
    "texto_clean = set_text_clean(texto)\n",
    "texto_clean"
   ]
  },
  {
   "cell_type": "markdown",
   "id": "86534e9a",
   "metadata": {},
   "source": [
    "### Função"
   ]
  },
  {
   "cell_type": "code",
   "execution_count": 47,
   "id": "a994b2a7",
   "metadata": {},
   "outputs": [],
   "source": [
    "def processa_texto(arquivo):\n",
    "    with open(arquivo, \"r\", encoding=\"utf-8\") as f:\n",
    "        conteudo = f.readlines()\n",
    "\n",
    "    titulo = conteudo[0].replace(\"# \", \"\").strip()\n",
    "\n",
    "    texto = conteudo[1:]\n",
    "    texto_clean = set_text_clean(texto)\n",
    "\n",
    "    texto_full = []\n",
    "    for linha in texto:\n",
    "        if linha.startswith(\"**\"):\n",
    "            texto_full.append(f\"<b>{linha.split('**')[1].strip()}</b>\\n\")\n",
    "        else:\n",
    "            texto_full.append(linha)\n",
    "\n",
    "    texto_full = \"\".join(texto_full).strip()\n",
    "\n",
    "    return titulo, texto_full, texto_clean"
   ]
  },
  {
   "cell_type": "markdown",
   "id": "ae0c30af",
   "metadata": {},
   "source": [
    "## 2. Processamento do texto em SQL"
   ]
  },
  {
   "cell_type": "code",
   "execution_count": 56,
   "id": "072f1ed1",
   "metadata": {},
   "outputs": [],
   "source": [
    "arquivo_migracao = \"010-add-hinos-avulsos.sql\"\n",
    "\n",
    "with open(\"..\\\\db\\\\migrations\\\\\" + arquivo_migracao, \"w\", encoding=\"utf-8\") as f:\n",
    "    for arquivo in entrada:\n",
    "        titulo, texto_full, texto_clean = processa_texto(arquivo)\n",
    "\n",
    "        linha = (\n",
    "            \"INSERT INTO hino (numero, nome, texto, texto_limpo, coletanea_id, date_insert, date_update) VALUES ('null','\"\n",
    "            + titulo\n",
    "            + \"','\"\n",
    "            + texto_full.replace(\"\\n\", \"\\\\n\").replace(\"'\", \"''\")\n",
    "            + \"','\"\n",
    "            + texto_clean.replace(\"'\", \"''\")\n",
    "            + \"',4,CURRENT_TIMESTAMP,CURRENT_TIMESTAMP);\\n\"\n",
    "        )\n",
    "\n",
    "        f.write(linha)"
   ]
  }
 ],
 "metadata": {
  "kernelspec": {
   "display_name": "jupyters",
   "language": "python",
   "name": "python3"
  },
  "language_info": {
   "codemirror_mode": {
    "name": "ipython",
    "version": 3
   },
   "file_extension": ".py",
   "mimetype": "text/x-python",
   "name": "python",
   "nbconvert_exporter": "python",
   "pygments_lexer": "ipython3",
   "version": "3.11.11"
  }
 },
 "nbformat": 4,
 "nbformat_minor": 5
}
