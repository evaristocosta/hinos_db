{
 "cells": [
  {
   "cell_type": "markdown",
   "id": "205c6f6f",
   "metadata": {},
   "source": [
    "# Parte 6 - TOPSIS pra seleção de hinos similares"
   ]
  }
 ],
 "metadata": {
  "language_info": {
   "name": "python"
  }
 },
 "nbformat": 4,
 "nbformat_minor": 5
}
