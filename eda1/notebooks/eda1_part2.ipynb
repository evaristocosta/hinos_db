{
 "cells": [
  {
   "cell_type": "markdown",
   "id": "169524a1",
   "metadata": {},
   "source": [
    "# Part 2"
   ]
  },
  {
   "cell_type": "code",
   "execution_count": null,
   "id": "993294d7",
   "metadata": {},
   "outputs": [],
   "source": [
    "import pandas as pd\n",
    "hinos_analise = pd.read_pickle('assets/hinos_analise.pkl')"
   ]
  },
  {
   "cell_type": "markdown",
   "id": "6e8a35e9",
   "metadata": {},
   "source": [
    "# Explorando os títulos"
   ]
  },
  {
   "cell_type": "code",
   "execution_count": null,
   "id": "4438cfd5",
   "metadata": {},
   "outputs": [],
   "source": [
    "hinos_analise = hinos_analise[[\"numero\", \"nome\", \"categoria\"]].set_index(\"numero\")\n",
    "hinos_analise"
   ]
  },
  {
   "cell_type": "code",
   "execution_count": null,
   "id": "5f6b8915",
   "metadata": {},
   "outputs": [],
   "source": [
    "# Extract subtitles between parentheses and clean up the \"nome\" column\n",
    "hinos_analise[\"subtitulo\"] = hinos_analise[\"nome\"].str.extract(r\"\\((.*?)\\)\").squeeze().str.strip()\n",
    "hinos_analise[\"nome\"] = hinos_analise[\"nome\"].str.replace(r\"\\s*\\(.*?\\)\\s*\", \"\", regex=True)\n",
    "hinos_analise[~hinos_analise[\"subtitulo\"].isna()]\n"
   ]
  },
  {
   "cell_type": "code",
   "execution_count": null,
   "id": "4f53acbc",
   "metadata": {},
   "outputs": [],
   "source": [
    "# desconsiderando subtitulo\n",
    "# tamanho real\n",
    "hinos_analise[\"titulo_tam_real\"] = hinos_analise[\"nome\"].str.len()\n",
    "# top 5 maiores e menores\n",
    "print(\"Top 10 maiores títulos\")\n",
    "display(hinos_analise.sort_values(by=\"titulo_tam_real\", ascending=False).head(10))\n",
    "# 721 com problema\n",
    "print(\"Top 10 menores títulos\")\n",
    "display(hinos_analise.sort_values(by=\"titulo_tam_real\").head(10))\n",
    "# 705 com problema"
   ]
  },
  {
   "cell_type": "code",
   "execution_count": null,
   "id": "f270cc1a",
   "metadata": {},
   "outputs": [],
   "source": [
    "# criar dataframe novo com nome e subtitulo na mesma coluna, compartinhando mesmo id\n",
    "hinos_titulos = pd.concat(\n",
    "    [\n",
    "        hinos_analise[[\"subtitulo\", \"categoria\"]].rename(columns={\"subtitulo\": \"nome\"}),\n",
    "        hinos_analise[[\"nome\", \"categoria\"]],\n",
    "    ]\n",
    ").dropna()"
   ]
  },
  {
   "cell_type": "code",
   "execution_count": null,
   "id": "0c84dac3",
   "metadata": {},
   "outputs": [],
   "source": [
    "# sem subtitulo\n",
    "# tamanho real\n",
    "hinos_titulos[\"titulo_tam_real\"] = hinos_titulos[\"nome\"].str.len()\n",
    "# top 5 maiores e menores\n",
    "print(\"Top 10 maiores títulos\")\n",
    "display(hinos_titulos.sort_values(by=\"titulo_tam_real\", ascending=False).head(10))\n",
    "# 721 com problema\n",
    "print(\"Top 10 menores títulos\")\n",
    "display(hinos_titulos.sort_values(by=\"titulo_tam_real\").head(10))\n",
    "# 705 com problema"
   ]
  }
 ],
 "metadata": {
  "kernelspec": {
   "display_name": "hinos",
   "language": "python",
   "name": "python3"
  },
  "language_info": {
   "codemirror_mode": {
    "name": "ipython",
    "version": 3
   },
   "file_extension": ".py",
   "mimetype": "text/x-python",
   "name": "python",
   "nbconvert_exporter": "python",
   "pygments_lexer": "ipython3",
   "version": "3.11.11"
  }
 },
 "nbformat": 4,
 "nbformat_minor": 5
}
