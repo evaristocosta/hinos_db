{
 "cells": [
  {
   "cell_type": "markdown",
   "id": "e3c2b65e",
   "metadata": {},
   "source": [
    "# Parte 4 - Embeddings "
   ]
  },
  {
   "cell_type": "code",
   "execution_count": null,
   "id": "5e45ca72",
   "metadata": {},
   "outputs": [],
   "source": [
    "import fasttext\n",
    "\n",
    "# fasttext.util.download_model('pt', if_exists='ignore')\n",
    "model = fasttext.load_model(\"..\\\\cc.pt.300.bin\")\n",
    "vector = model.get_word_vector(\"jesus\")\n",
    "print(vector[:10]) "
   ]
  },
  {
   "cell_type": "code",
   "execution_count": null,
   "id": "d3d34746",
   "metadata": {},
   "outputs": [],
   "source": [
    "import pandas as pd\n",
    "\n",
    "hinos_analise:pd.DataFrame = pd.read_pickle(\"..\\\\assets\\\\hinos_analise_tokens.pkl\")"
   ]
  },
  {
   "cell_type": "code",
   "execution_count": null,
   "id": "8ac4b786",
   "metadata": {},
   "outputs": [],
   "source": [
    "import numpy as np\n",
    "\n",
    "\n",
    "def embed_text(tokens, model):\n",
    "    vectors = [model.get_word_vector(word) for word in tokens]\n",
    "    return np.mean(vectors, axis=0) if vectors else np.zeros(model.get_dimension())\n",
    "\n",
    "\n",
    "hinos_analise[\"embedding\"] = hinos_analise[\"tokens_no_stops\"].apply(\n",
    "    lambda t: embed_text(t, model)\n",
    ")\n",
    "hinos_analise"
   ]
  },
  {
   "cell_type": "code",
   "execution_count": null,
   "id": "d8f0c737",
   "metadata": {},
   "outputs": [],
   "source": [
    "from sklearn.metrics.pairwise import cosine_similarity\n",
    "\n",
    "sims = cosine_similarity(list(hinos_analise[\"embedding\"]))\n",
    "sims = pd.DataFrame(sims, index=hinos_analise.index, columns=hinos_analise.index)\n",
    "sims"
   ]
  },
  {
   "cell_type": "code",
   "execution_count": null,
   "id": "4fc97ca4",
   "metadata": {},
   "outputs": [],
   "source": [
    "import matplotlib.pyplot as plt\n",
    "import seaborn as sns\n",
    "\n",
    "plt.figure(figsize=(12, 10))\n",
    "sns.heatmap(sims, cmap=\"viridis\", annot=False)\n",
    "plt.title(\"Similaridade entre hinos (Word Embeddings)\")\n",
    "plt.show()"
   ]
  },
  {
   "cell_type": "code",
   "execution_count": null,
   "id": "2661f373",
   "metadata": {},
   "outputs": [],
   "source": [
    "high_similarity_word2vec = sims[\n",
    "    (sims > 0.5) & (sims < 1.0)\n",
    "].stack()  # .reset_index()\n",
    "high_similarity_word2vec = high_similarity_word2vec[\n",
    "    high_similarity_word2vec.index.get_level_values(0)\n",
    "    < high_similarity_word2vec.index.get_level_values(1)\n",
    "]\n",
    "high_similarity_word2vec.sort_values(ascending=False)"
   ]
  }
 ],
 "metadata": {
  "kernelspec": {
   "display_name": "jupyters",
   "language": "python",
   "name": "python3"
  },
  "language_info": {
   "codemirror_mode": {
    "name": "ipython",
    "version": 3
   },
   "file_extension": ".py",
   "mimetype": "text/x-python",
   "name": "python",
   "nbconvert_exporter": "python",
   "pygments_lexer": "ipython3",
   "version": "3.11.11"
  }
 },
 "nbformat": 4,
 "nbformat_minor": 5
}
