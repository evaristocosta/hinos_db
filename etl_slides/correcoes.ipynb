{
 "cells": [
  {
   "cell_type": "markdown",
   "id": "2435973b",
   "metadata": {},
   "source": [
    "# Correções\n",
    "\n",
    "Problemas encontrados podem ser corrigidos aqui, adicionados ao arquivo de migração `009-fix-hinos.sql`."
   ]
  },
  {
   "cell_type": "code",
   "execution_count": 1,
   "id": "08b71678",
   "metadata": {},
   "outputs": [],
   "source": [
    "from sqlalchemy import create_engine\n",
    "\n",
    "eng_hdb = create_engine(\"sqlite:///..//db//database.db\")\n",
    "con_hdb = eng_hdb.connect()"
   ]
  },
  {
   "cell_type": "code",
   "execution_count": 20,
   "id": "9e4bb7c0",
   "metadata": {},
   "outputs": [
    {
     "data": {
      "application/vnd.microsoft.datawrangler.viewer.v0+json": {
       "columns": [
        {
         "name": "index",
         "rawType": "int64",
         "type": "integer"
        },
        {
         "name": "id",
         "rawType": "int64",
         "type": "integer"
        },
        {
         "name": "coletanea_id",
         "rawType": "int64",
         "type": "integer"
        },
        {
         "name": "categoria_id",
         "rawType": "object",
         "type": "unknown"
        },
        {
         "name": "numero",
         "rawType": "object",
         "type": "string"
        },
        {
         "name": "nome",
         "rawType": "object",
         "type": "string"
        },
        {
         "name": "texto",
         "rawType": "object",
         "type": "string"
        },
        {
         "name": "texto_limpo",
         "rawType": "object",
         "type": "string"
        },
        {
         "name": "texto_estruturado",
         "rawType": "object",
         "type": "unknown"
        },
        {
         "name": "ano_composicao",
         "rawType": "object",
         "type": "unknown"
        },
        {
         "name": "tom",
         "rawType": "object",
         "type": "unknown"
        },
        {
         "name": "date_insert",
         "rawType": "object",
         "type": "string"
        },
        {
         "name": "date_update",
         "rawType": "object",
         "type": "string"
        }
       ],
       "ref": "b6e57ede-c919-4310-8b4e-d5b116e6fb10",
       "rows": [
        [
         "0",
         "1038",
         "3",
         null,
         "null",
         "GRÃO DE MOSTARDA, FERMENTO,",
         "SAINDO DE CASA \\nNAQUELE DIA, \\nASSENTADO JUNTO AO MAR, JESUS FOI EXPLICAR\\n\\n04AV- AS PARÁBOLAS                       DO REINO\\n\\nÀQUELA MULTIDĀO \\nE A TODOS QUE O SEGUIAM,\\nSOBRE AS PARÁBOLAS \\nDE UM REINO QUE VIRIA.\\n\\nSETE SÃO \\nAS PARÁBOLAS DO REINO:\\nSEMEADOR, TRIGO E JOIO,\\n\\nTESOURO ESCONDIDO, PÉROLA E REDE.\\n\\nVAMOS VIGIAR E ORAR,\\nJESUS BREVE VIRÁ; IREMOS TODOS COM \\nELE MORAR. \\nMARANATA, JESUS VEM!",
         "SAINDO DE CASA NAQUELE DIA, ASSENTADO JUNTO AO MAR, JESUS FOI EXPLICAR 04AV- AS PARÁBOLAS DO REINO ÀQUELA MULTIDĀO E A TODOS QUE O SEGUIAM, SOBRE AS PARÁBOLAS DE UM REINO QUE VIRIA. SETE SÃO AS PARÁBOLAS DO REINO: SEMEADOR, TRIGO E JOIO, TESOURO ESCONDIDO, PÉROLA E REDE. VAMOS VIGIAR E ORAR, JESUS BREVE VIRÁ; IREMOS TODOS COM ELE MORAR. MARANATA, JESUS VEM!",
         null,
         null,
         null,
         "2025-04-18 15:10:15",
         "2025-04-18 15:10:15"
        ]
       ],
       "shape": {
        "columns": 12,
        "rows": 1
       }
      },
      "text/html": [
       "<div>\n",
       "<style scoped>\n",
       "    .dataframe tbody tr th:only-of-type {\n",
       "        vertical-align: middle;\n",
       "    }\n",
       "\n",
       "    .dataframe tbody tr th {\n",
       "        vertical-align: top;\n",
       "    }\n",
       "\n",
       "    .dataframe thead th {\n",
       "        text-align: right;\n",
       "    }\n",
       "</style>\n",
       "<table border=\"1\" class=\"dataframe\">\n",
       "  <thead>\n",
       "    <tr style=\"text-align: right;\">\n",
       "      <th></th>\n",
       "      <th>id</th>\n",
       "      <th>coletanea_id</th>\n",
       "      <th>categoria_id</th>\n",
       "      <th>numero</th>\n",
       "      <th>nome</th>\n",
       "      <th>texto</th>\n",
       "      <th>texto_limpo</th>\n",
       "      <th>texto_estruturado</th>\n",
       "      <th>ano_composicao</th>\n",
       "      <th>tom</th>\n",
       "      <th>date_insert</th>\n",
       "      <th>date_update</th>\n",
       "    </tr>\n",
       "  </thead>\n",
       "  <tbody>\n",
       "    <tr>\n",
       "      <th>0</th>\n",
       "      <td>1038</td>\n",
       "      <td>3</td>\n",
       "      <td>None</td>\n",
       "      <td>null</td>\n",
       "      <td>GRÃO DE MOSTARDA, FERMENTO,</td>\n",
       "      <td>SAINDO DE CASA \\nNAQUELE DIA, \\nASSENTADO JUNT...</td>\n",
       "      <td>SAINDO DE CASA NAQUELE DIA, ASSENTADO JUNTO AO...</td>\n",
       "      <td>None</td>\n",
       "      <td>None</td>\n",
       "      <td>None</td>\n",
       "      <td>2025-04-18 15:10:15</td>\n",
       "      <td>2025-04-18 15:10:15</td>\n",
       "    </tr>\n",
       "  </tbody>\n",
       "</table>\n",
       "</div>"
      ],
      "text/plain": [
       "     id  coletanea_id categoria_id numero                         nome  \\\n",
       "0  1038             3         None   null  GRÃO DE MOSTARDA, FERMENTO,   \n",
       "\n",
       "                                               texto  \\\n",
       "0  SAINDO DE CASA \\nNAQUELE DIA, \\nASSENTADO JUNT...   \n",
       "\n",
       "                                         texto_limpo texto_estruturado  \\\n",
       "0  SAINDO DE CASA NAQUELE DIA, ASSENTADO JUNTO AO...              None   \n",
       "\n",
       "  ano_composicao   tom          date_insert          date_update  \n",
       "0           None  None  2025-04-18 15:10:15  2025-04-18 15:10:15  "
      ]
     },
     "execution_count": 20,
     "metadata": {},
     "output_type": "execute_result"
    }
   ],
   "source": [
    "import pandas as pd\n",
    "\n",
    "sql_fix = \"select * from hino where coletanea_id = 3 and numero = 'null'\"\n",
    "hino_fix = pd.read_sql_query(sql_fix, con_hdb)\n",
    "hino_fix"
   ]
  },
  {
   "cell_type": "code",
   "execution_count": 39,
   "id": "551e0891",
   "metadata": {},
   "outputs": [
    {
     "data": {
      "text/plain": [
       "(['SAINDO DE CASA ',\n",
       "  'NAQUELE DIA, ',\n",
       "  'ASSENTADO JUNTO AO MAR, JESUS FOI EXPLICAR',\n",
       "  '',\n",
       "  '04AV- AS PARÁBOLAS                       DO REINO',\n",
       "  '',\n",
       "  'ÀQUELA MULTIDĀO ',\n",
       "  'E A TODOS QUE O SEGUIAM,',\n",
       "  'SOBRE AS PARÁBOLAS ',\n",
       "  'DE UM REINO QUE VIRIA.',\n",
       "  '',\n",
       "  'SETE SÃO ',\n",
       "  'AS PARÁBOLAS DO REINO:',\n",
       "  'SEMEADOR, TRIGO E JOIO,',\n",
       "  '',\n",
       "  'TESOURO ESCONDIDO, PÉROLA E REDE.',\n",
       "  '',\n",
       "  'VAMOS VIGIAR E ORAR,',\n",
       "  'JESUS BREVE VIRÁ; IREMOS TODOS COM ',\n",
       "  'ELE MORAR. ',\n",
       "  'MARANATA, JESUS VEM!'],\n",
       " '')"
      ]
     },
     "execution_count": 39,
     "metadata": {},
     "output_type": "execute_result"
    }
   ],
   "source": [
    "texto = hino_fix[\"texto\"].iloc[0].replace(\"\\\\n\", \"\\n\").split(\"\\n\")\n",
    "texto, texto[14]"
   ]
  },
  {
   "cell_type": "code",
   "execution_count": 33,
   "id": "681fc2d4",
   "metadata": {},
   "outputs": [
    {
     "data": {
      "text/plain": [
       "'GRÃO DE MOSTARDA, FERMENTO,'"
      ]
     },
     "execution_count": 33,
     "metadata": {},
     "output_type": "execute_result"
    }
   ],
   "source": [
    "parte_texto = hino_fix[\"nome\"].iloc[0]\n",
    "parte_texto"
   ]
  },
  {
   "cell_type": "code",
   "execution_count": 40,
   "id": "bbd9b8a7",
   "metadata": {},
   "outputs": [
    {
     "data": {
      "text/plain": [
       "('04AV- AS PARÁBOLAS                       DO REINO',\n",
       " ['SAINDO DE CASA ',\n",
       "  'NAQUELE DIA, ',\n",
       "  'ASSENTADO JUNTO AO MAR, JESUS FOI EXPLICAR',\n",
       "  '',\n",
       "  '',\n",
       "  'ÀQUELA MULTIDĀO ',\n",
       "  'E A TODOS QUE O SEGUIAM,',\n",
       "  'SOBRE AS PARÁBOLAS ',\n",
       "  'DE UM REINO QUE VIRIA.',\n",
       "  '',\n",
       "  'SETE SÃO ',\n",
       "  'AS PARÁBOLAS DO REINO:',\n",
       "  'SEMEADOR, TRIGO E JOIO,',\n",
       "  'GRÃO DE MOSTARDA, FERMENTO,',\n",
       "  'TESOURO ESCONDIDO, PÉROLA E REDE.',\n",
       "  '',\n",
       "  'VAMOS VIGIAR E ORAR,',\n",
       "  'JESUS BREVE VIRÁ; IREMOS TODOS COM ',\n",
       "  'ELE MORAR. ',\n",
       "  'MARANATA, JESUS VEM!'])"
      ]
     },
     "execution_count": 40,
     "metadata": {},
     "output_type": "execute_result"
    }
   ],
   "source": [
    "texto[14] = parte_texto\n",
    "titulo = texto.pop(4)\n",
    "titulo, texto"
   ]
  },
  {
   "cell_type": "code",
   "execution_count": 41,
   "id": "7e824a94",
   "metadata": {},
   "outputs": [
    {
     "data": {
      "text/plain": [
       "'SAINDO DE CASA \\\\nNAQUELE DIA, \\\\nASSENTADO JUNTO AO MAR, JESUS FOI EXPLICAR\\\\n\\\\n\\\\nÀQUELA MULTIDĀO \\\\nE A TODOS QUE O SEGUIAM,\\\\nSOBRE AS PARÁBOLAS \\\\nDE UM REINO QUE VIRIA.\\\\n\\\\nSETE SÃO \\\\nAS PARÁBOLAS DO REINO:\\\\nSEMEADOR, TRIGO E JOIO,\\\\nGRÃO DE MOSTARDA, FERMENTO,\\\\nTESOURO ESCONDIDO, PÉROLA E REDE.\\\\n\\\\nVAMOS VIGIAR E ORAR,\\\\nJESUS BREVE VIRÁ; IREMOS TODOS COM \\\\nELE MORAR. \\\\nMARANATA, JESUS VEM!'"
      ]
     },
     "execution_count": 41,
     "metadata": {},
     "output_type": "execute_result"
    }
   ],
   "source": [
    "\"\\\\n\".join(texto)"
   ]
  }
 ],
 "metadata": {
  "kernelspec": {
   "display_name": "jupyters",
   "language": "python",
   "name": "python3"
  },
  "language_info": {
   "codemirror_mode": {
    "name": "ipython",
    "version": 3
   },
   "file_extension": ".py",
   "mimetype": "text/x-python",
   "name": "python",
   "nbconvert_exporter": "python",
   "pygments_lexer": "ipython3",
   "version": "3.11.11"
  }
 },
 "nbformat": 4,
 "nbformat_minor": 5
}
