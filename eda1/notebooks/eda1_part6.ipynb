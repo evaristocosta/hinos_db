{
 "cells": [
  {
   "cell_type": "markdown",
   "id": "205c6f6f",
   "metadata": {},
   "source": [
    "# Parte 6 - TOPSIS pra seleção de hinos similares\n",
    "\n",
    "Seleção de hinos similares a partir de um hino de referência, utilizando o método TOPSIS, considerando as matrizes de similaridade, categorias, clusterings, e tópicos."
   ]
  },
  {
   "cell_type": "code",
   "execution_count": null,
   "id": "0f27a630",
   "metadata": {},
   "outputs": [],
   "source": [
    "import pandas as pd\n",
    "\n",
    "hinos_analise: pd.DataFrame = pd.read_pickle(\n",
    "    \"../assets/hinos_analise_embeddings_complete.pkl\"\n",
    ")\n",
    "similarity_matrix_words: pd.DataFrame = pd.read_pickle(\n",
    "    \"../assets/similarity_matrix_word_embeddings_tfidf.pkl\"\n",
    ")\n",
    "similarity_matrix_sent: pd.DataFrame = pd.read_pickle(\n",
    "    \"../assets/similarity_matrix_sentence_embeddings.pkl\"\n",
    ")"
   ]
  },
  {
   "cell_type": "markdown",
   "id": "33d544e6",
   "metadata": {},
   "source": [
    "A matriz de decisão é construída com relação a um hino de referência, e as alternativas são os demais hinos."
   ]
  },
  {
   "cell_type": "code",
   "execution_count": null,
   "id": "1960567a",
   "metadata": {},
   "outputs": [],
   "source": [
    "hino_sample = hinos_analise.sample().iloc[0]\n",
    "hinos_restantes = hinos_analise[hinos_analise.index != hino_sample.name].copy()\n",
    "# se categoria_id é a mesma de sample, então 1, senão 0\n",
    "hinos_restantes[\"categoria_id\"] = (\n",
    "    hinos_restantes[\"categoria_id\"] == hino_sample[\"categoria_id\"]\n",
    ").astype(int)\n",
    "hinos_restantes[\"word_cluster\"] = (\n",
    "    hinos_restantes[\"word_cluster\"] == hino_sample[\"word_cluster\"]\n",
    ").astype(int)\n",
    "hinos_restantes[\"NMF_topic\"] = (\n",
    "    hinos_restantes[\"NMF_topic\"] == hino_sample[\"NMF_topic\"]\n",
    ").astype(int)\n",
    "hinos_restantes[\"sent_cluster\"] = (\n",
    "    hinos_restantes[\"sent_cluster\"] == hino_sample[\"sent_cluster\"]\n",
    ").astype(int)\n",
    "hinos_restantes[\"BERT_topic\"] = (\n",
    "    hinos_restantes[\"BERT_topic\"] == hino_sample[\"BERT_topic\"]\n",
    ").astype(int)\n",
    "hinos_restantes = hinos_restantes[\n",
    "    [\n",
    "        \"nome\",\n",
    "        \"texto_limpo\",\n",
    "        \"categoria_id\",\n",
    "        \"word_cluster\",\n",
    "        \"NMF_topic\",\n",
    "        \"sent_cluster\",\n",
    "        \"BERT_topic\",\n",
    "    ]\n",
    "]\n",
    "hinos_restantes"
   ]
  },
  {
   "cell_type": "code",
   "execution_count": null,
   "id": "ddc440a7",
   "metadata": {},
   "outputs": [],
   "source": [
    "similarity_matrix_words_sample = similarity_matrix_words.loc[\n",
    "    hino_sample.name, hinos_restantes.index\n",
    "]\n",
    "similarity_matrix_sent_sample = similarity_matrix_sent.loc[\n",
    "    hino_sample.name, hinos_restantes.index\n",
    "]\n",
    "hinos_restantes[\"sim_word\"] = similarity_matrix_words_sample.values\n",
    "hinos_restantes[\"sim_sent\"] = similarity_matrix_sent_sample.values\n",
    "hinos_restantes"
   ]
  },
  {
   "cell_type": "code",
   "execution_count": null,
   "id": "b9c6b33c",
   "metadata": {},
   "outputs": [],
   "source": [
    "categories = [\"categoria_id\", \"word_cluster\", \"NMF_topic\", \"sent_cluster\", \"BERT_topic\", \"sim_word\", \"sim_sent\"]\n",
    "weights = [1, 2, 4, 3, 5, 6, 7]\n",
    "weights = [w / sum(weights) for w in weights]\n",
    "profit_cost = [1, 1, 1, 1, 1, 1, 1]"
   ]
  },
  {
   "cell_type": "code",
   "execution_count": null,
   "id": "b3c5b13f",
   "metadata": {},
   "outputs": [],
   "source": [
    "from topsis import TOPSIS\n",
    "\n",
    "output = TOPSIS(\n",
    "    hinos_restantes[categories],\n",
    "    weights,\n",
    "    profit_cost,\n",
    ")\n",
    "scores = pd.DataFrame(output[1])\n",
    "normalized_weighted_decision_matrix = output[0]\n",
    "result = pd.concat([normalized_weighted_decision_matrix, scores], axis=1)\n",
    "result.columns = categories + [\"score\"]\n",
    "# result = result.sort_values(by=\"score\", ascending=False)\n"
   ]
  },
  {
   "cell_type": "code",
   "execution_count": null,
   "id": "12528316",
   "metadata": {},
   "outputs": [],
   "source": [
    "print(\"Sugestões para o hino:\", hino_sample.name, hino_sample[\"nome\"])\n",
    "hinos_restantes[\"score\"] = result[\"score\"].values\n",
    "hinos_restantes = hinos_restantes.sort_values(by=\"score\", ascending=False)\n",
    "hinos_restantes[[\"nome\", \"texto_limpo\", \"score\"]].head(10)"
   ]
  }
 ],
 "metadata": {
  "kernelspec": {
   "display_name": "jupyters",
   "language": "python",
   "name": "python3"
  },
  "language_info": {
   "codemirror_mode": {
    "name": "ipython",
    "version": 3
   },
   "file_extension": ".py",
   "mimetype": "text/x-python",
   "name": "python",
   "nbconvert_exporter": "python",
   "pygments_lexer": "ipython3",
   "version": "3.11.11"
  }
 },
 "nbformat": 4,
 "nbformat_minor": 5
}
